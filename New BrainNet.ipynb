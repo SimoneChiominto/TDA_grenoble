{
 "cells": [
  {
   "cell_type": "markdown",
   "id": "3fc649e4",
   "metadata": {},
   "source": [
    "# New BrainNet"
   ]
  },
  {
   "cell_type": "markdown",
   "id": "2f96b4c7",
   "metadata": {},
   "source": [
    "## probability estimation"
   ]
  },
  {
   "cell_type": "code",
   "execution_count": 1,
   "id": "c2e9035e",
   "metadata": {},
   "outputs": [],
   "source": [
    "import numpy as np\n",
    "import networkx as nx\n",
    "import math\n",
    "import gtda as gtda\n",
    "from gtda.homology import VietorisRipsPersistence\n",
    "from gtda.diagrams import PairwiseDistance\n",
    "from igraph import Graph\n",
    "import matplotlib\n",
    "from matplotlib import pyplot as plt\n",
    "from mpl_toolkits import mplot3d\n",
    "import pandas as pd\n",
    "import os\n",
    "import pickle"
   ]
  },
  {
   "cell_type": "markdown",
   "id": "49d11af1",
   "metadata": {},
   "source": [
    "Then we import homemade modules"
   ]
  },
  {
   "cell_type": "code",
   "execution_count": 1,
   "id": "59fb8348",
   "metadata": {},
   "outputs": [],
   "source": [
    "from homology_modules import *"
   ]
  },
  {
   "cell_type": "markdown",
   "id": "f9cb33b6",
   "metadata": {},
   "source": [
    "Then we load our precomputed diagrams"
   ]
  },
  {
   "cell_type": "code",
   "execution_count": 4,
   "id": "8ab53133",
   "metadata": {},
   "outputs": [],
   "source": [
    "with open(\"DATA/data.diagrams_small_world\",\"rb\") as f:\n",
    "  small_worlds=pickle.load(f)\n",
    "\n",
    "with open(\"DATA/data.diagrams_coma\", \"rb\") as f:\n",
    "  (diagrams_coma,VR_coma)=pickle.load( f)\n",
    "\n",
    "with open(\"DATA/data.diagrams_HCP_90\", \"rb\") as f:\n",
    "  (diagrams_HCP_90,VR_HCP_90)=pickle.load( f)"
   ]
  },
  {
   "cell_type": "markdown",
   "id": "6a98dfd6",
   "metadata": {},
   "source": [
    "We start evaluating distances"
   ]
  },
  {
   "cell_type": "code",
   "execution_count": 5,
   "id": "92b176ee",
   "metadata": {},
   "outputs": [],
   "source": [
    "costs=np.linspace(1/44,1, 100)\n",
    "homology_dimensions=[1,2,3,4]\n",
    "probs=np.linspace(0,0.5,10)\n",
    "distances,variances=compute_distances(diagrams_coma,small_worlds, homology_dimensions,costs,0)"
   ]
  },
  {
   "cell_type": "code",
   "execution_count": 10,
   "id": "e1090809",
   "metadata": {},
   "outputs": [
    {
     "data": {
      "text/plain": [
       "array([0.16666667, 0.05555556, 0.27777778, 0.44444444, 0.44444444,\n",
       "       0.16666667, 0.44444444, 0.        , 0.05555556, 0.16666667,\n",
       "       0.11111111, 0.44444444, 0.27777778, 0.16666667, 0.16666667,\n",
       "       0.27777778, 0.05555556])"
      ]
     },
     "execution_count": 10,
     "metadata": {},
     "output_type": "execute_result"
    }
   ],
   "source": [
    "prob_estimates(distances,probs)"
   ]
  },
  {
   "cell_type": "code",
   "execution_count": 11,
   "id": "a02c48f8",
   "metadata": {},
   "outputs": [
    {
     "data": {
      "text/plain": [
       "array([[124.62228469,  59.71383289,  55.42424134,  51.52257868,\n",
       "         55.08652318,  52.99050467,  59.76022798,  58.97785959,\n",
       "         57.96922778,  62.0576039 ],\n",
       "       [102.35542322,  59.03024854,  61.2694342 ,  61.97709902,\n",
       "         68.74157895,  69.44824739,  74.03472585,  74.30051004,\n",
       "         73.26393916,  76.54873538],\n",
       "       [136.27371217,  71.54774984,  71.51819966,  68.46760444,\n",
       "         71.30142611,  67.65472845,  73.61703083,  71.92581876,\n",
       "         68.95402216,  72.44025227],\n",
       "       [147.16035693,  81.34941354,  72.33353301,  61.07164532,\n",
       "         51.74031374,  41.50300444,  41.21561843,  34.72316259,\n",
       "         29.18053366,  30.29157007],\n",
       "       [146.13788641,  78.69686797,  77.18285792,  72.59377596,\n",
       "         72.63433065,  67.97020868,  74.03336614,  70.3658652 ,\n",
       "         66.34092104,  69.3377137 ],\n",
       "       [118.60763403,  60.20922942,  60.69871454,  58.97860779,\n",
       "         63.5618594 ,  62.06190667,  68.21882388,  67.50310318,\n",
       "         65.58957308,  69.4041509 ],\n",
       "       [147.04903225,  80.49705612,  78.93193241,  74.61810673,\n",
       "         74.64085806,  70.19940767,  76.29792054,  72.97183318,\n",
       "         68.89843576,  72.03842284],\n",
       "       [ 73.25519218,  85.69567264,  94.28954692,  97.83554205,\n",
       "        106.59365362, 109.48543499, 112.51487151, 114.03604652,\n",
       "        113.19000181, 115.91713107],\n",
       "       [126.61676219,  74.2686482 ,  76.13251608,  74.85493743,\n",
       "         78.10585946,  75.91161443,  81.34328851,  79.38286443,\n",
       "         76.13753287,  79.32631477],\n",
       "       [121.99183521,  47.06078665,  43.26673764,  41.83145394,\n",
       "         49.25720777,  48.35060744,  55.6545152 ,  58.45085667,\n",
       "         59.15612988,  63.94946515],\n",
       "       [120.41572397,  48.8728647 ,  46.2234721 ,  46.69597195,\n",
       "         54.8067218 ,  54.85794843,  61.79803194,  63.6038333 ,\n",
       "         64.09809125,  68.63024865],\n",
       "       [149.63008261,  84.67338214,  83.06370024,  78.35572558,\n",
       "         77.80078703,  72.87358163,  78.71567344,  74.8247632 ,\n",
       "         70.38044022,  73.2731878 ],\n",
       "       [137.54970795,  69.67253196,  63.41555245,  57.27771012,\n",
       "         57.23242742,  52.85184512,  59.18721913,  58.8991443 ,\n",
       "         57.48861046,  61.93603996],\n",
       "       [132.51119535,  54.21199059,  50.425928  ,  48.89240703,\n",
       "         54.3699046 ,  53.27365507,  60.95267035,  61.30454542,\n",
       "         61.294547  ,  65.7145534 ],\n",
       "       [124.66151486,  50.29963089,  46.72434055,  44.81695797,\n",
       "         51.83373173,  50.83139032,  58.49966001,  59.83717103,\n",
       "         60.26295359,  64.7746454 ],\n",
       "       [143.25316739,  70.56492759,  61.6959724 ,  53.2819041 ,\n",
       "         50.60657795,  45.12731874,  52.83258417,  50.53666497,\n",
       "         48.89938668,  53.186381  ],\n",
       "       [101.08958586,  50.84578466,  58.73174949,  63.14424467,\n",
       "         72.99871475,  74.61523344,  79.5895726 ,  81.6053776 ,\n",
       "         80.9166926 ,  84.61205588]])"
      ]
     },
     "execution_count": 11,
     "metadata": {},
     "output_type": "execute_result"
    }
   ],
   "source": [
    "distances"
   ]
  },
  {
   "cell_type": "code",
   "execution_count": null,
   "id": "eaece390",
   "metadata": {},
   "outputs": [],
   "source": []
  },
  {
   "cell_type": "code",
   "execution_count": 7,
   "id": "86f5f68b",
   "metadata": {},
   "outputs": [],
   "source": [
    "estimated_probability=[]\n",
    "estimated_distance=[]\n",
    "for i in range(len(distances)):\n",
    "    tks=distance_spline(distances[i,:],probs)\n",
    "    minimum_x,minimum_fun = optimize_spline(tks,probs)\n",
    "    estimated_probability.append(minimum_x)\n",
    "    estimated_distance.append(minimum_fun)"
   ]
  },
  {
   "cell_type": "code",
   "execution_count": 9,
   "id": "486b70e7",
   "metadata": {},
   "outputs": [
    {
     "data": {
      "image/png": "[encoded data removed]",
      "text/plain": [
       "<Figure size 432x288 with 1 Axes>"
      ]
     },
     "metadata": {
      "needs_background": "light"
     },
     "output_type": "display_data"
    }
   ],
   "source": [
    "import matplotlib.pyplot as plt\n",
    "from scipy.interpolate import splev, splrep\n",
    "y = distances[8,:]\n",
    "x = probs\n",
    "spl = splrep(x, y,s=0.0)\n",
    "x2 = np.linspace(0 ,max(probs),100)\n",
    "y2 = splev(x2, spl)\n",
    "plt.plot(x, y, 'o', x2, y2)\n",
    "plt.show()"
   ]
  },
  {
   "cell_type": "code",
   "execution_count": 18,
   "id": "c00ca052",
   "metadata": {},
   "outputs": [
    {
     "data": {
      "text/plain": [
       "[0.16721549521622453,\n",
       " 0.0704503033391169,\n",
       " 0.16812143583032246,\n",
       " 0.4653613800704405,\n",
       " 0.45319243581373336,\n",
       " 0.16337961674706966,\n",
       " 0.27517518778569083,\n",
       " 4.469534883430863e-06,\n",
       " 0.16473656428242284,\n",
       " 0.08329647534685311,\n",
       " 0.081347285243987,\n",
       " 0.4554002520583702,\n",
       " 0.275666440635907,\n",
       " 0.16070641377372752,\n",
       " 0.15960788991838526,\n",
       " 0.274320279256573,\n",
       " 0.06341474970297949]"
      ]
     },
     "execution_count": 18,
     "metadata": {},
     "output_type": "execute_result"
    }
   ],
   "source": [
    "estimated_probability"
   ]
  },
  {
   "cell_type": "code",
   "execution_count": null,
   "id": "7714eb7c",
   "metadata": {},
   "outputs": [],
   "source": [
    "small_worlds_estimated=[small_world_simulator(prob,homology_dimensions,costs,seed=rng.integers(0,1000000),n_samples_per_step=10) for prob in estimated_probability ]\n"
   ]
  },
  {
   "cell_type": "code",
   "execution_count": 19,
   "id": "71802115",
   "metadata": {},
   "outputs": [],
   "source": [
    "distances_appo=np.asarray([[ 51.33376688,  60.34831568,  52.40914872,  61.24053775,\n",
    "         61.0590055 ,  51.87912029,  53.00080567, 120.86561704,\n",
    "         51.73513447,  57.60642603,  52.46765997,  60.269952  ,\n",
    "         53.37445537,  50.89263382,  49.8173017 ,  56.8224977 ,\n",
    "         61.07733184],\n",
    "       [ 63.81451658,  60.93104345,  65.85560719,  76.10623173,\n",
    "         75.89965934,  64.58319192,  69.10138759,  99.4102639 ,\n",
    "         63.07142982,  59.96723813,  58.98950161,  75.17820927,\n",
    "         68.74625662,  62.74559338,  61.7529084 ,  72.91748792,\n",
    "         60.94811056],\n",
    "       [ 68.59905507,  73.4450064 ,  69.16824996,  72.31067472,\n",
    "         73.96631612,  68.04308834,  68.59390625, 132.33583324,\n",
    "         68.65592941,  71.35339338,  65.71977674,  72.17401687,\n",
    "         69.41891582,  68.3029211 ,  66.24243485,  72.64754373,\n",
    "         73.7378172 ],\n",
    "       [ 60.66723373,  80.48441684,  57.13290752,  31.04635133,\n",
    "         34.62979668,  60.81738508,  41.58776047, 143.39197127,\n",
    "         60.61627641,  76.76045616,  69.65675033,  30.93629551,\n",
    "         42.55517043,  60.95087584,  59.06026321,  45.71127356,\n",
    "         82.74996082],\n",
    "       [ 71.6756412 ,  80.06591268,  72.2117055 ,  69.46826366,\n",
    "         72.16055926,  71.87506138,  69.02775458, 142.30565365,\n",
    "         73.26975315,  77.56437185,  70.75218912,  70.00598514,\n",
    "         69.91611887,  72.00506551,  68.70321736,  72.81898036,\n",
    "         81.66621946],\n",
    "       [ 59.67453079,  61.2502387 ,  60.85066795,  68.69460719,\n",
    "         68.53660245,  59.46950798,  62.63967644, 115.04897171,\n",
    "         59.24849074,  60.07022418,  55.08227895,  68.11444037,\n",
    "         62.99307075,  59.45561948,  57.2282293 ,  66.31314897,\n",
    "         62.78796419],\n",
    "       [ 73.75154024,  81.69254123,  74.28890807,  72.08479938,\n",
    "         74.54867759,  73.80646095,  71.08413649, 143.27149902,\n",
    "         75.06841211,  79.35296889,  72.59596531,  72.23962849,\n",
    "         72.02562093,  74.04420756,  70.92835713,  74.8604545 ,\n",
    "         83.30902992],\n",
    "       [102.13454447,  89.06513121, 104.07490996, 115.60658725,\n",
    "        115.31813555, 102.05218242, 109.18434723,  73.20988732,\n",
    "         99.53278117,  90.12244195,  93.79205521, 114.54584991,\n",
    "        108.17356986, 100.29402549, 100.66766502, 112.18646553,\n",
    "         87.24492617],\n",
    "       [ 75.00414195,  76.79497118,  76.6233429 ,  79.39284927,\n",
    "         81.20188037,  75.60682902,  76.29060106, 123.62564415,\n",
    "         75.80952667,  75.23717099,  70.9798672 ,  79.23461744,\n",
    "         76.64811168,  74.65482555,  72.41641484,  79.93834331,\n",
    "         77.02241085],\n",
    "       [ 41.26229653,  46.17106395,  43.29491225,  62.67997795,\n",
    "         59.91110519,  40.09014238,  49.80183447, 117.75197627,\n",
    "         40.81489364,  44.19261584,  38.85523788,  61.46854897,\n",
    "         50.00974701,  40.40006599,  39.01101213,  52.02000333,\n",
    "         48.27916834],\n",
    "       [ 46.14097038,  48.14211232,  48.72731618,  67.49237813,\n",
    "         65.13956655,  45.70307223,  55.5603027 , 116.3749646 ,\n",
    "         46.20627332,  46.60098755,  41.75761742,  66.44193592,\n",
    "         55.85101529,  45.2410677 ,  44.29091527,  58.49832353,\n",
    "         49.76675104],\n",
    "       [ 77.52842703,  85.98772582,  77.99136747,  73.52100628,\n",
    "         76.8340209 ,  77.73833202,  73.72258711, 145.93062149,\n",
    "         79.1011287 ,  83.56871471,  76.82455743,  73.86583667,\n",
    "         74.84145344,  77.85637586,  74.57120733,  77.81339029,\n",
    "         87.49810548],\n",
    "       [ 56.67812297,  68.85583917,  56.82474559,  60.8415413 ,\n",
    "         61.03877359,  56.05253938,  54.25074508, 133.66762424,\n",
    "         56.7031814 ,  66.43927526,  59.72178819,  59.33322111,\n",
    "         54.90481732,  57.02927112,  54.49035065,  57.22401731,\n",
    "         71.01596319],\n",
    "       [ 46.69548605,  52.4021437 ,  48.95716681,  64.66203023,\n",
    "         62.93412151,  46.75557824,  54.48500992, 128.36570637,\n",
    "         48.65436967,  50.92327108,  43.99274633,  64.09235594,\n",
    "         55.24570295,  46.6118804 ,  44.32900036,  56.50683541,\n",
    "         55.52143858],\n",
    "       [ 43.99941146,  48.78099353,  45.83807359,  63.62036209,\n",
    "         61.21782666,  43.08351029,  51.96322295, 120.40048128,\n",
    "         44.30710719,  47.35594511,  41.77060611,  62.75079701,\n",
    "         52.57585718,  43.20223438,  41.97127269,  54.66991453,\n",
    "         51.03735003],\n",
    "       [ 51.34678313,  69.03997658,  51.57643481,  52.24791483,\n",
    "         52.90360915,  51.75842353,  46.78654033, 139.39127766,\n",
    "         53.60692396,  66.20239132,  56.90787279,  51.66552423,\n",
    "         48.31471105,  53.04806657,  48.68572069,  50.14122537,\n",
    "         72.52699619],\n",
    "       [ 65.67734617,  54.94826374,  67.97921471,  84.1104683 ,\n",
    "         83.17273789,  65.01066679,  75.00239436,  97.49601818,\n",
    "         63.48368924,  54.94766964,  55.24232235,  83.20029694,\n",
    "         74.26956581,  63.38571046,  63.82304035,  78.04333111,\n",
    "         52.47913322]])\n"
   ]
  },
  {
   "cell_type": "code",
   "execution_count": 64,
   "id": "e1838b6d",
   "metadata": {},
   "outputs": [],
   "source": [
    "distances_new=np.concatenate([distances,distances_appo],axis=1)\n",
    "probs_new=np.concatenate([probs,np.array(estimated_probability)])"
   ]
  },
  {
   "cell_type": "code",
   "execution_count": 65,
   "id": "4bf116ac",
   "metadata": {},
   "outputs": [
    {
     "data": {
      "text/plain": [
       "array([1.59607890e-01, 8.13472852e-02, 8.13472852e-02, 4.44444444e-01,\n",
       "       4.44444444e-01, 8.13472852e-02, 4.44444444e-01, 4.46953488e-06,\n",
       "       8.13472852e-02, 8.13472852e-02, 8.13472852e-02, 4.44444444e-01,\n",
       "       2.77777778e-01, 8.13472852e-02, 8.13472852e-02, 2.77777778e-01,\n",
       "       5.55555556e-02])"
      ]
     },
     "execution_count": 65,
     "metadata": {},
     "output_type": "execute_result"
    }
   ],
   "source": [
    "prob_estimates(distances_new,probs_new)"
   ]
  },
  {
   "cell_type": "code",
   "execution_count": 71,
   "id": "e43ea501",
   "metadata": {},
   "outputs": [
    {
     "data": {
      "text/plain": [
       "array([0.16666667, 0.05555556, 0.27777778, 0.44444444, 0.44444444,\n",
       "       0.16666667, 0.44444444, 0.        , 0.05555556, 0.16666667,\n",
       "       0.11111111, 0.44444444, 0.27777778, 0.16666667, 0.16666667,\n",
       "       0.27777778, 0.05555556])"
      ]
     },
     "execution_count": 71,
     "metadata": {},
     "output_type": "execute_result"
    }
   ],
   "source": [
    "prob_estimates(distances,probs)"
   ]
  },
  {
   "cell_type": "markdown",
   "id": "56a7e70f",
   "metadata": {},
   "source": [
    "Iterating this process to find an optimal probability doesn't seems to work. We should use a different type of approximation than the splines. Probably something that generalize linear regression is a good idea, but\n",
    "1. we cannot use an homoschedastic model\n",
    "2. we need to choose the functions in the model (polynomial, something more complex?)"
   ]
  },
  {
   "cell_type": "markdown",
   "id": "0ee22654",
   "metadata": {},
   "source": [
    "## 5th dimension"
   ]
  },
  {
   "cell_type": "code",
   "execution_count": 72,
   "id": "8bbcb46c",
   "metadata": {},
   "outputs": [],
   "source": [
    "path=\"regional-differentiation-based-on-graph-nodal-statistics-for-functional-brain-connectivity-networks-characterization/DATA/cor_mat_HCP_90\"\n",
    "files=os.listdir(path) #make a list of all the files' names at the path \n",
    "cor_mats_HCP_90_df=[pd.read_csv(path+\"/\"+file,delim_whitespace=True,header=None) for file in files]"
   ]
  },
  {
   "cell_type": "code",
   "execution_count": 73,
   "id": "d67e5659",
   "metadata": {},
   "outputs": [],
   "source": [
    "path=\"regional-differentiation-based-on-graph-nodal-statistics-for-functional-brain-connectivity-networks-characterization/DATA/cor_mat_coma\"\n",
    "files=os.listdir(path) #make a list of all the files' names at the path \n",
    "cor_mats_coma_df=[pd.read_csv(path+\"/\"+file,delim_whitespace=True) for file in files]"
   ]
  },
  {
   "cell_type": "code",
   "execution_count": 74,
   "id": "b7eaa97b",
   "metadata": {},
   "outputs": [],
   "source": [
    "cor_mats_HCP_90=[df.to_numpy() for df in cor_mats_HCP_90_df]\n",
    "cor_mats_coma=[df.to_numpy() for df in cor_mats_coma_df]"
   ]
  },
  {
   "cell_type": "code",
   "execution_count": null,
   "id": "62016cbd",
   "metadata": {},
   "outputs": [
    {
     "name": "stderr",
     "output_type": "stream",
     "text": [
      "/Users/simonechiominto/Dropbox (Politecnico Di Torino Studenti)/grenoble/progetto/project_git/from_corr_to_graph.py:58: FutureWarning: adjacency_matrix will return a scipy.sparse array instead of a matrix in Networkx 3.0.\n",
      "  MST=nx.adjacency_matrix(tree.minimum_spanning_tree(totalgraph).to_undirected()).todense()\n"
     ]
    }
   ],
   "source": [
    "costs=np.linspace(1/44,1, 100)\n",
    "diagrams_coma_5dim,VR_coma_5dim=custom_vietoris_persistance(cor_mats_coma,costs,[5],plot=False)"
   ]
  },
  {
   "cell_type": "code",
   "execution_count": null,
   "id": "e23fe7a9",
   "metadata": {},
   "outputs": [],
   "source": [
    "diagrams_HCP_90_5th,VR_HCP_90_5th=custom_vietoris_persistance(cor_mats_HCP_90,costs,[5],plot="
   ]
  },
  {
   "cell_type": "code",
   "execution_count": null,
   "id": "38e3c40e",
   "metadata": {},
   "outputs": [],
   "source": [
    "with open(\"/content/TDA_grenoble/data.diagrams_coma\", \"wb\") as f:\n",
    "  pickle.dump((diagrams_coma_5dim,VR_coma_5dim), f, protocol=pickle.HIGHEST_PROTOCOL)"
   ]
  },
  {
   "cell_type": "code",
   "execution_count": null,
   "id": "1913072a",
   "metadata": {},
   "outputs": [],
   "source": [
    "with open(\"/content/TDA_grenoble/data.diagrams_HCP_90\", \"wb\") as f:\n",
    "  pickle.dump((diagrams_HCP_90_5th,VR_HCP_5th), f, protocol=pickle.HIGHEST_PROTOCOL)"
   ]
  }
 ],
 "metadata": {
  "kernelspec": {
   "display_name": "Python 3 (ipykernel)",
   "language": "python",
   "name": "python3"
  },
  "language_info": {
   "codemirror_mode": {
    "name": "ipython",
    "version": 3
   },
   "file_extension": ".py",
   "mimetype": "text/x-python",
   "name": "python",
   "nbconvert_exporter": "python",
   "pygments_lexer": "ipython3",
   "version": "3.9.12"
  }
 },
 "nbformat": 4,
 "nbformat_minor": 5
}
