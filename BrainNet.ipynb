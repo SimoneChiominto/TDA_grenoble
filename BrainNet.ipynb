{
 "cells": [
  {
   "cell_type": "markdown",
   "metadata": {
    "colab_type": "text",
    "id": "view-in-github"
   },
   "source": [
    "<a href=\"https://colab.research.google.com/github/SimoneChiominto/TDA_grenoble/blob/main/BrainNet.ipynb\" target=\"_parent\"><img src=\"https://colab.research.google.com/assets/colab-badge.svg\" alt=\"Open In Colab\"/></a>"
   ]
  },
  {
   "cell_type": "markdown",
   "metadata": {
    "id": "5RSCqVMM4JZK"
   },
   "source": [
    "# Brain functional network project\n"
   ]
  },
  {
   "cell_type": "markdown",
   "metadata": {
    "id": "nDPWx1QHUB5a"
   },
   "source": [
    "## Packages\n",
    "First we import some libraries that will be useful in the project"
   ]
  },
  {
   "cell_type": "markdown",
   "metadata": {
    "id": "qNTrrqNNdGR1"
   },
   "source": [
    "### Install"
   ]
  },
  {
   "cell_type": "code",
   "execution_count": 1,
   "metadata": {
    "colab": {
     "base_uri": "https://localhost:8080/"
    },
    "id": "AwumZPQ5U9IY",
    "outputId": "865e8ee9-70fb-415c-e7bf-3388e2f89b4b"
   },
   "outputs": [
    {
     "name": "stdout",
     "output_type": "stream",
     "text": [
      "\u001b[33mDEPRECATION: Configuring installation scheme with distutils config files is deprecated and will no longer work in the near future. If you are using a Homebrew or Linuxbrew Python, please see discussion at https://github.com/Homebrew/homebrew-core/issues/76621\u001b[0m\u001b[33m\n",
      "\u001b[0mRequirement already satisfied: giotto-tda in /usr/local/lib/python3.9/site-packages (0.5.1)\n",
      "Requirement already satisfied: scikit-learn>=0.23.1 in /usr/local/lib/python3.9/site-packages (from giotto-tda) (1.0.2)\n",
      "Requirement already satisfied: python-igraph>=0.8.2 in /usr/local/lib/python3.9/site-packages (from giotto-tda) (0.9.9)\n",
      "Requirement already satisfied: ipywidgets>=7.5.1 in /usr/local/lib/python3.9/site-packages (from giotto-tda) (7.6.5)\n",
      "Requirement already satisfied: scipy>=1.5.0 in /usr/local/lib/python3.9/site-packages (from giotto-tda) (1.8.0)\n",
      "Requirement already satisfied: plotly>=4.8.2 in /usr/local/lib/python3.9/site-packages (from giotto-tda) (5.6.0)\n",
      "Requirement already satisfied: numpy>=1.19.1 in /usr/local/lib/python3.9/site-packages (from giotto-tda) (1.22.2)\n",
      "Requirement already satisfied: joblib>=0.16.0 in /usr/local/lib/python3.9/site-packages (from giotto-tda) (1.1.0)\n",
      "Requirement already satisfied: pyflagser>=0.4.3 in /usr/local/lib/python3.9/site-packages (from giotto-tda) (0.4.4)\n",
      "Requirement already satisfied: widgetsnbextension~=3.5.0 in /usr/local/lib/python3.9/site-packages (from ipywidgets>=7.5.1->giotto-tda) (3.5.2)\n",
      "Requirement already satisfied: ipython>=4.0.0 in /usr/local/lib/python3.9/site-packages (from ipywidgets>=7.5.1->giotto-tda) (8.1.1)\n",
      "Requirement already satisfied: ipython-genutils~=0.2.0 in /usr/local/lib/python3.9/site-packages (from ipywidgets>=7.5.1->giotto-tda) (0.2.0)\n",
      "Requirement already satisfied: traitlets>=4.3.1 in /usr/local/lib/python3.9/site-packages (from ipywidgets>=7.5.1->giotto-tda) (5.1.1)\n",
      "Requirement already satisfied: jupyterlab-widgets>=1.0.0 in /usr/local/lib/python3.9/site-packages (from ipywidgets>=7.5.1->giotto-tda) (1.0.2)\n",
      "Requirement already satisfied: nbformat>=4.2.0 in /usr/local/lib/python3.9/site-packages (from ipywidgets>=7.5.1->giotto-tda) (5.1.3)\n",
      "Requirement already satisfied: ipykernel>=4.5.1 in /usr/local/lib/python3.9/site-packages (from ipywidgets>=7.5.1->giotto-tda) (6.9.1)\n",
      "Requirement already satisfied: tenacity>=6.2.0 in /usr/local/lib/python3.9/site-packages (from plotly>=4.8.2->giotto-tda) (8.0.1)\n",
      "Requirement already satisfied: six in /usr/local/lib/python3.9/site-packages (from plotly>=4.8.2->giotto-tda) (1.16.0)\n",
      "Requirement already satisfied: igraph==0.9.9 in /usr/local/lib/python3.9/site-packages (from python-igraph>=0.8.2->giotto-tda) (0.9.9)\n",
      "Requirement already satisfied: texttable>=1.6.2 in /usr/local/lib/python3.9/site-packages (from igraph==0.9.9->python-igraph>=0.8.2->giotto-tda) (1.6.4)\n",
      "Requirement already satisfied: threadpoolctl>=2.0.0 in /usr/local/lib/python3.9/site-packages (from scikit-learn>=0.23.1->giotto-tda) (3.1.0)\n",
      "Requirement already satisfied: appnope in /usr/local/lib/python3.9/site-packages (from ipykernel>=4.5.1->ipywidgets>=7.5.1->giotto-tda) (0.1.2)\n",
      "Requirement already satisfied: nest-asyncio in /usr/local/lib/python3.9/site-packages (from ipykernel>=4.5.1->ipywidgets>=7.5.1->giotto-tda) (1.5.4)\n",
      "Requirement already satisfied: jupyter-client<8.0 in /usr/local/lib/python3.9/site-packages (from ipykernel>=4.5.1->ipywidgets>=7.5.1->giotto-tda) (7.1.2)\n",
      "Requirement already satisfied: tornado<7.0,>=4.2 in /usr/local/lib/python3.9/site-packages (from ipykernel>=4.5.1->ipywidgets>=7.5.1->giotto-tda) (6.1)\n",
      "Requirement already satisfied: debugpy<2.0,>=1.0.0 in /usr/local/lib/python3.9/site-packages (from ipykernel>=4.5.1->ipywidgets>=7.5.1->giotto-tda) (1.5.1)\n",
      "Requirement already satisfied: matplotlib-inline<0.2.0,>=0.1.0 in /usr/local/lib/python3.9/site-packages (from ipykernel>=4.5.1->ipywidgets>=7.5.1->giotto-tda) (0.1.3)\n",
      "Requirement already satisfied: stack-data in /usr/local/lib/python3.9/site-packages (from ipython>=4.0.0->ipywidgets>=7.5.1->giotto-tda) (0.2.0)\n",
      "Requirement already satisfied: decorator in /usr/local/lib/python3.9/site-packages (from ipython>=4.0.0->ipywidgets>=7.5.1->giotto-tda) (5.1.1)\n",
      "Requirement already satisfied: backcall in /usr/local/lib/python3.9/site-packages (from ipython>=4.0.0->ipywidgets>=7.5.1->giotto-tda) (0.2.0)\n",
      "Requirement already satisfied: setuptools>=18.5 in /usr/local/lib/python3.9/site-packages (from ipython>=4.0.0->ipywidgets>=7.5.1->giotto-tda) (60.5.0)\n",
      "Requirement already satisfied: pygments>=2.4.0 in /usr/local/lib/python3.9/site-packages (from ipython>=4.0.0->ipywidgets>=7.5.1->giotto-tda) (2.11.2)\n",
      "Requirement already satisfied: jedi>=0.16 in /usr/local/lib/python3.9/site-packages (from ipython>=4.0.0->ipywidgets>=7.5.1->giotto-tda) (0.18.1)\n",
      "Requirement already satisfied: pickleshare in /usr/local/lib/python3.9/site-packages (from ipython>=4.0.0->ipywidgets>=7.5.1->giotto-tda) (0.7.5)\n",
      "Requirement already satisfied: pexpect>4.3 in /usr/local/lib/python3.9/site-packages (from ipython>=4.0.0->ipywidgets>=7.5.1->giotto-tda) (4.8.0)\n",
      "Requirement already satisfied: prompt-toolkit!=3.0.0,!=3.0.1,<3.1.0,>=2.0.0 in /usr/local/lib/python3.9/site-packages (from ipython>=4.0.0->ipywidgets>=7.5.1->giotto-tda) (3.0.28)\n",
      "Requirement already satisfied: jupyter-core in /usr/local/lib/python3.9/site-packages (from nbformat>=4.2.0->ipywidgets>=7.5.1->giotto-tda) (4.9.2)\n",
      "Requirement already satisfied: jsonschema!=2.5.0,>=2.4 in /usr/local/lib/python3.9/site-packages (from nbformat>=4.2.0->ipywidgets>=7.5.1->giotto-tda) (4.4.0)\n",
      "Requirement already satisfied: notebook>=4.4.1 in /usr/local/lib/python3.9/site-packages (from widgetsnbextension~=3.5.0->ipywidgets>=7.5.1->giotto-tda) (6.4.8)\n",
      "Requirement already satisfied: parso<0.9.0,>=0.8.0 in /usr/local/lib/python3.9/site-packages (from jedi>=0.16->ipython>=4.0.0->ipywidgets>=7.5.1->giotto-tda) (0.8.3)\n",
      "Requirement already satisfied: pyrsistent!=0.17.0,!=0.17.1,!=0.17.2,>=0.14.0 in /usr/local/lib/python3.9/site-packages (from jsonschema!=2.5.0,>=2.4->nbformat>=4.2.0->ipywidgets>=7.5.1->giotto-tda) (0.18.1)\n",
      "Requirement already satisfied: attrs>=17.4.0 in /usr/local/lib/python3.9/site-packages (from jsonschema!=2.5.0,>=2.4->nbformat>=4.2.0->ipywidgets>=7.5.1->giotto-tda) (21.4.0)\n",
      "Requirement already satisfied: entrypoints in /usr/local/lib/python3.9/site-packages (from jupyter-client<8.0->ipykernel>=4.5.1->ipywidgets>=7.5.1->giotto-tda) (0.4)\n",
      "Requirement already satisfied: pyzmq>=13 in /usr/local/lib/python3.9/site-packages (from jupyter-client<8.0->ipykernel>=4.5.1->ipywidgets>=7.5.1->giotto-tda) (22.3.0)\n",
      "Requirement already satisfied: python-dateutil>=2.1 in /usr/local/lib/python3.9/site-packages (from jupyter-client<8.0->ipykernel>=4.5.1->ipywidgets>=7.5.1->giotto-tda) (2.8.2)\n",
      "Requirement already satisfied: jinja2 in /usr/local/lib/python3.9/site-packages (from notebook>=4.4.1->widgetsnbextension~=3.5.0->ipywidgets>=7.5.1->giotto-tda) (3.0.3)\n",
      "Requirement already satisfied: nbconvert in /usr/local/lib/python3.9/site-packages (from notebook>=4.4.1->widgetsnbextension~=3.5.0->ipywidgets>=7.5.1->giotto-tda) (6.4.2)\n",
      "Requirement already satisfied: Send2Trash>=1.8.0 in /usr/local/lib/python3.9/site-packages (from notebook>=4.4.1->widgetsnbextension~=3.5.0->ipywidgets>=7.5.1->giotto-tda) (1.8.0)\n",
      "Requirement already satisfied: prometheus-client in /usr/local/lib/python3.9/site-packages (from notebook>=4.4.1->widgetsnbextension~=3.5.0->ipywidgets>=7.5.1->giotto-tda) (0.13.1)\n",
      "Requirement already satisfied: terminado>=0.8.3 in /usr/local/lib/python3.9/site-packages (from notebook>=4.4.1->widgetsnbextension~=3.5.0->ipywidgets>=7.5.1->giotto-tda) (0.13.2)\n",
      "Requirement already satisfied: argon2-cffi in /usr/local/lib/python3.9/site-packages (from notebook>=4.4.1->widgetsnbextension~=3.5.0->ipywidgets>=7.5.1->giotto-tda) (21.3.0)\n",
      "Requirement already satisfied: ptyprocess>=0.5 in /usr/local/lib/python3.9/site-packages (from pexpect>4.3->ipython>=4.0.0->ipywidgets>=7.5.1->giotto-tda) (0.7.0)\n",
      "Requirement already satisfied: wcwidth in /usr/local/lib/python3.9/site-packages (from prompt-toolkit!=3.0.0,!=3.0.1,<3.1.0,>=2.0.0->ipython>=4.0.0->ipywidgets>=7.5.1->giotto-tda) (0.2.5)\n",
      "Requirement already satisfied: executing in /usr/local/lib/python3.9/site-packages (from stack-data->ipython>=4.0.0->ipywidgets>=7.5.1->giotto-tda) (0.8.3)\n",
      "Requirement already satisfied: pure-eval in /usr/local/lib/python3.9/site-packages (from stack-data->ipython>=4.0.0->ipywidgets>=7.5.1->giotto-tda) (0.2.2)\n",
      "Requirement already satisfied: asttokens in /usr/local/lib/python3.9/site-packages (from stack-data->ipython>=4.0.0->ipywidgets>=7.5.1->giotto-tda) (2.0.5)\n"
     ]
    },
    {
     "name": "stdout",
     "output_type": "stream",
     "text": [
      "Requirement already satisfied: argon2-cffi-bindings in /usr/local/lib/python3.9/site-packages (from argon2-cffi->notebook>=4.4.1->widgetsnbextension~=3.5.0->ipywidgets>=7.5.1->giotto-tda) (21.2.0)\n",
      "Requirement already satisfied: MarkupSafe>=2.0 in /usr/local/lib/python3.9/site-packages (from jinja2->notebook>=4.4.1->widgetsnbextension~=3.5.0->ipywidgets>=7.5.1->giotto-tda) (2.1.0)\n",
      "Requirement already satisfied: jupyterlab-pygments in /usr/local/lib/python3.9/site-packages (from nbconvert->notebook>=4.4.1->widgetsnbextension~=3.5.0->ipywidgets>=7.5.1->giotto-tda) (0.1.2)\n",
      "Requirement already satisfied: defusedxml in /usr/local/lib/python3.9/site-packages (from nbconvert->notebook>=4.4.1->widgetsnbextension~=3.5.0->ipywidgets>=7.5.1->giotto-tda) (0.7.1)\n",
      "Requirement already satisfied: testpath in /usr/local/lib/python3.9/site-packages (from nbconvert->notebook>=4.4.1->widgetsnbextension~=3.5.0->ipywidgets>=7.5.1->giotto-tda) (0.6.0)\n",
      "Requirement already satisfied: mistune<2,>=0.8.1 in /usr/local/lib/python3.9/site-packages (from nbconvert->notebook>=4.4.1->widgetsnbextension~=3.5.0->ipywidgets>=7.5.1->giotto-tda) (0.8.4)\n",
      "Requirement already satisfied: pandocfilters>=1.4.1 in /usr/local/lib/python3.9/site-packages (from nbconvert->notebook>=4.4.1->widgetsnbextension~=3.5.0->ipywidgets>=7.5.1->giotto-tda) (1.5.0)\n",
      "Requirement already satisfied: bleach in /usr/local/lib/python3.9/site-packages (from nbconvert->notebook>=4.4.1->widgetsnbextension~=3.5.0->ipywidgets>=7.5.1->giotto-tda) (4.1.0)\n",
      "Requirement already satisfied: nbclient<0.6.0,>=0.5.0 in /usr/local/lib/python3.9/site-packages (from nbconvert->notebook>=4.4.1->widgetsnbextension~=3.5.0->ipywidgets>=7.5.1->giotto-tda) (0.5.11)\n",
      "Requirement already satisfied: cffi>=1.0.1 in /usr/local/lib/python3.9/site-packages (from argon2-cffi-bindings->argon2-cffi->notebook>=4.4.1->widgetsnbextension~=3.5.0->ipywidgets>=7.5.1->giotto-tda) (1.15.0)\n",
      "Requirement already satisfied: webencodings in /usr/local/lib/python3.9/site-packages (from bleach->nbconvert->notebook>=4.4.1->widgetsnbextension~=3.5.0->ipywidgets>=7.5.1->giotto-tda) (0.5.1)\n",
      "Requirement already satisfied: packaging in /usr/local/lib/python3.9/site-packages (from bleach->nbconvert->notebook>=4.4.1->widgetsnbextension~=3.5.0->ipywidgets>=7.5.1->giotto-tda) (21.3)\n",
      "Requirement already satisfied: pycparser in /usr/local/lib/python3.9/site-packages (from cffi>=1.0.1->argon2-cffi-bindings->argon2-cffi->notebook>=4.4.1->widgetsnbextension~=3.5.0->ipywidgets>=7.5.1->giotto-tda) (2.21)\n",
      "Requirement already satisfied: pyparsing!=3.0.5,>=2.0.2 in /usr/local/lib/python3.9/site-packages (from packaging->bleach->nbconvert->notebook>=4.4.1->widgetsnbextension~=3.5.0->ipywidgets>=7.5.1->giotto-tda) (3.0.7)\n",
      "\u001b[33mDEPRECATION: Configuring installation scheme with distutils config files is deprecated and will no longer work in the near future. If you are using a Homebrew or Linuxbrew Python, please see discussion at https://github.com/Homebrew/homebrew-core/issues/76621\u001b[0m\u001b[33m\n",
      "\u001b[0m\u001b[33mWARNING: You are using pip version 22.0.3; however, version 22.0.4 is available.\n",
      "You should consider upgrading via the '/usr/local/opt/python@3.9/bin/python3.9 -m pip install --upgrade pip' command.\u001b[0m\u001b[33m\n",
      "\u001b[0m"
     ]
    }
   ],
   "source": [
    "!pip install -U giotto-tda"
   ]
  },
  {
   "cell_type": "markdown",
   "metadata": {
    "id": "GPdU8-o7dKC6"
   },
   "source": [
    "### Import"
   ]
  },
  {
   "cell_type": "code",
   "execution_count": 9,
   "metadata": {
    "id": "LrkFP9VOUJjx"
   },
   "outputs": [],
   "source": [
    "from numba import jit #utilising this library to speed up numpy computation\n",
    "import numpy as np\n",
    "import networkx as nx\n",
    "import math\n",
    "from networkx import tree\n",
    "import scipy.special as ss\n",
    "import gtda as gtda\n",
    "from gtda.homology import VietorisRipsPersistence, SparseRipsPersistence, FlagserPersistence\n",
    "from igraph import Graph\n",
    "import matplotlib\n",
    "from matplotlib import pyplot as plt\n",
    "from mpl_toolkits import mplot3d\n",
    "import pandas as pd\n",
    "import os\n",
    "import pickle\n",
    "from random_graph_generation import *"
   ]
  },
  {
   "cell_type": "markdown",
   "metadata": {
    "id": "L559kod16F0L"
   },
   "source": [
    "### Importing datasets"
   ]
  },
  {
   "cell_type": "code",
   "execution_count": 3,
   "metadata": {
    "colab": {
     "base_uri": "https://localhost:8080/"
    },
    "id": "xnBWnAXa6LC0",
    "outputId": "cf87f765-4227-4918-e3c7-be96c5223ea2"
   },
   "outputs": [
    {
     "name": "stdout",
     "output_type": "stream",
     "text": [
      "Cloning into 'regional-differentiation-based-on-graph-nodal-statistics-for-functional-brain-connectivity-networks-characterization'...\n",
      "remote: Enumerating objects: 1274, done.\u001b[K\n",
      "remote: Total 1274 (delta 0), reused 0 (delta 0), pack-reused 1274\u001b[K\n",
      "Receiving objects: 100% (1274/1274), 15.02 MiB | 20.34 MiB/s, done.\n",
      "Resolving deltas: 100% (999/999), done.\n",
      "Cloning into 'TDA_grenoble'...\n",
      "remote: Enumerating objects: 16, done.\u001b[K\n",
      "remote: Counting objects: 100% (16/16), done.\u001b[K\n",
      "remote: Compressing objects: 100% (14/14), done.\u001b[K\n",
      "remote: Total 16 (delta 4), reused 0 (delta 0), pack-reused 0\u001b[K\n",
      "Unpacking objects: 100% (16/16), done.\n"
     ]
    }
   ],
   "source": [
    "!git clone https://gricad-gitlab.univ-grenoble-alpes.fr/carbonil/regional-differentiation-based-on-graph-nodal-statistics-for-functional-brain-connectivity-networks-characterization.git\n",
    "!git clone https://github.com/SimoneChiominto/TDA_grenoble.git"
   ]
  },
  {
   "cell_type": "markdown",
   "metadata": {
    "id": "i2FJAtHaVhrL"
   },
   "source": [
    "## Random Graph generation"
   ]
  },
  {
   "cell_type": "markdown",
   "metadata": {
    "id": "Qbfy4VFg8Zhz"
   },
   "source": [
    "### Erdos-Renyi\n",
    "In this section we create a correlation matrix where for each threshold we generate an Erdos-Renyi graph.\n",
    "This correlation matrix is symmetric, positive and has null diagonal. Each element in the upper triangle is genated from an uniform [0,1] distribution. "
   ]
  },
  {
   "cell_type": "markdown",
   "metadata": {
    "id": "tKOLqAUB6Uva"
   },
   "source": [
    "There we create a function where we create an Erdos-renyi correlation matrix "
   ]
  },
  {
   "cell_type": "code",
   "execution_count": 115,
   "metadata": {
    "id": "4lKe0Ezr6TBN"
   },
   "outputs": [],
   "source": [
    "def generate_Erdos_Renyi_correlation_matrix(n, seed=np.nan):\n",
    "  # preallocate output\n",
    "  corr_matrix=np.zeros([n,n])\n",
    "  \n",
    "  # generate random correlation\n",
    "\n",
    "  # set seed\n",
    "  if not np.isnan(seed):\n",
    "     rng=np.random.default_rng(seed)\n",
    "  else:\n",
    "    rng=np.random.default_rng() \n",
    "  # generate upper triangle\n",
    "  for i in range(0,n-1):\n",
    "    for j in range(i+1,n):\n",
    "      corr_matrix[i,j]=rng.uniform()\n",
    "  \n",
    "  # generate whole matrix\n",
    "  corr_matrix=corr_matrix+ corr_matrix.transpose()\n",
    "\n",
    "  return corr_matrix \n",
    "\n",
    "  "
   ]
  },
  {
   "cell_type": "markdown",
   "metadata": {
    "id": "lokbR9sq_qOS"
   },
   "source": [
    "Simple example to see if the function is working"
   ]
  },
  {
   "cell_type": "code",
   "execution_count": 10,
   "metadata": {
    "colab": {
     "base_uri": "https://localhost:8080/"
    },
    "id": "gBWvvR45AHg-",
    "outputId": "9e0c5c70-b985-4615-ccff-c6d12739195a"
   },
   "outputs": [
    {
     "data": {
      "text/plain": [
       "array([[0.        , 0.12116054, 0.37117926, 0.01519366, 0.02504019],\n",
       "       [0.12116054, 0.        , 0.17129293, 0.66318557, 0.31513905],\n",
       "       [0.37117926, 0.17129293, 0.        , 0.4596577 , 0.58464697],\n",
       "       [0.01519366, 0.66318557, 0.4596577 , 0.        , 0.12486178],\n",
       "       [0.02504019, 0.31513905, 0.58464697, 0.12486178, 0.        ]])"
      ]
     },
     "execution_count": 10,
     "metadata": {},
     "output_type": "execute_result"
    }
   ],
   "source": [
    "generate_Erdos_Renyi_correlation_matrix(5)"
   ]
  },
  {
   "cell_type": "markdown",
   "metadata": {
    "id": "3vZKq40POD9e"
   },
   "source": [
    "### Lattice\n",
    "This is an idea we had to generate a \"correlation matrix\" that simulates a lattice graph. "
   ]
  },
  {
   "cell_type": "code",
   "execution_count": 6,
   "metadata": {
    "id": "KRUdiGQdOD9e"
   },
   "outputs": [],
   "source": [
    "def generate_ring_lattice_correlation_matrix(n, seed=np.nan):\n",
    "  \n",
    "  max_edge=n*(n-1)/2\n",
    "  \n",
    "  # preallocate output\n",
    "  corr_matrix=np.zeros([n,n])\n",
    "  \n",
    "  # generate random correlation\n",
    "  # set seed\n",
    "  if not np.isnan(seed):\n",
    "     rng=np.random.default_rng(seed)\n",
    "  else:\n",
    "    rng=np.random.default_rng() \n",
    "\n",
    "\n",
    "  G=nx.watts_strogatz_graph(n, 2, 0)\n",
    "  G_adjacency=nx.to_numpy_array(G)\n",
    "  G_adjacency=np.triu(G_adjacency) \n",
    "  length=sum(sum(G_adjacency==1))\n",
    "  G_adjacency[G_adjacency==1]=rng.uniform(1-length/max_edge,1,length)\n",
    "  a=1-length/max_edge\n",
    "  \n",
    "  corr_matrix+=G_adjacency\n",
    "\n",
    "  for k in range(1,int(np.floor(n/2))):\n",
    "    #creo ring lattice con 2*k e 2*(k+1) edges\n",
    "    G=nx.watts_strogatz_graph(n, 2*k, 0)\n",
    "    H=nx.watts_strogatz_graph(n, 2*(k+1), 0)\n",
    "    H_adjacency=nx.to_numpy_array(H)\n",
    "    G_adjacency=nx.to_numpy_array(G)\n",
    "    diff_adjacency=H_adjacency-G_adjacency\n",
    "    diff_adjacency=np.triu(diff_adjacency)\n",
    "    # prendo la differenza, conto quanti sono\n",
    "    diff_adjacency=H_adjacency-G_adjacency\n",
    "    diff_adjacency=np.triu(diff_adjacency)\n",
    "  \n",
    "    length=sum(sum(diff_adjacency==1))\n",
    "    #faccio unif nella parte nell'intervallo dalla fine del precedente a la porzione di nodi da inserire rispetto al totale\n",
    "    diff_adjacency[diff_adjacency==1]=rng.uniform(a-length/max_edge,a,length)\n",
    "    a=a-length/max_edge\n",
    "    corr_matrix+=diff_adjacency\n",
    "\n",
    "  return corr_matrix+np.transpose(corr_matrix)"
   ]
  },
  {
   "cell_type": "markdown",
   "metadata": {
    "id": "OHllJvZuOLCZ"
   },
   "source": [
    "### Small world\n",
    "now, we want to generate correlation matrices for small world graph from watts_strogatz_graph. Not sure it works perfectly, the problem is the generation of of the two consecutive graphs from networkx:\n",
    "- is the second graph generated from which we make the difference an extenction of the first one? I'm not sure right now, let see. It is not working.\n",
    "\n",
    "We have to create an algorithm from the beginning\n"
   ]
  },
  {
   "cell_type": "code",
   "execution_count": 118,
   "metadata": {
    "id": "1ofO_yFhOLCa"
   },
   "outputs": [],
   "source": [
    "@jit()\n",
    "def generate_small_world_correlation_matrix(n,p, seed=np.nan):\n",
    "  max_edge=n*(n-1)/2\n",
    "  \n",
    "  # preallocate output\n",
    "  corr_matrix=np.zeros([n,n])\n",
    "  \n",
    "  # generate random correlation\n",
    "\n",
    "  # set seed\n",
    "  if not np.isnan(seed):\n",
    "     rng=np.random.default_rng(seed)\n",
    "  else:\n",
    "    rng=np.random.default_rng() \n",
    "    seed=1792 #we put this number as seed \n",
    "\n",
    "\n",
    "  G=nx.watts_strogatz_graph(n, 2, p,seed)\n",
    "  G_adjacency=nx.to_numpy_array(G)\n",
    "  G_adjacency=np.triu(G_adjacency) \n",
    "  length=sum(sum(G_adjacency==1))\n",
    "  G_adjacency[G_adjacency==1]=rng.uniform(1-length/max_edge,1,length)\n",
    "  a=1-length/max_edge\n",
    "  \n",
    "  corr_matrix+=G_adjacency\n",
    "\n",
    "  for k in range(1,int(np.floor(n/2))):\n",
    "    #creo ring lattice con 2*k e 2*(k+1) edges\n",
    "    G=nx.watts_strogatz_graph(n, 2*k, p,seed)\n",
    "    H=nx.watts_strogatz_graph(n, 2*(k+1), p,seed)\n",
    "    H_adjacency=nx.to_numpy_array(H)\n",
    "    G_adjacency=nx.to_numpy_array(G)\n",
    "    diff_adjacency=H_adjacency-G_adjacency\n",
    "    diff_adjacency=np.triu(diff_adjacency)\n",
    "    # prendo la differenza, conto quanti sono\n",
    "    diff_adjacency=H_adjacency-G_adjacency\n",
    "    diff_adjacency=np.triu(diff_adjacency)\n",
    "  \n",
    "    length=sum(sum(diff_adjacency==1))\n",
    "    #faccio unif nella parte nell'intervallo dalla fine del precedente a la porzione di nodi da inserire rispetto al totale\n",
    "    diff_adjacency[diff_adjacency==1]=rng.uniform(a-length/max_edge,a,length)\n",
    "    a=a-length/max_edge\n",
    "    corr_matrix+=diff_adjacency\n",
    "\n",
    "  return corr_matrix+np.transpose(corr_matrix)\n"
   ]
  },
  {
   "cell_type": "markdown",
   "metadata": {
    "id": "slzMLHV2Khhj"
   },
   "source": [
    "Let's try to work write an algorith from the beginning.\n",
    "First let's play with masked array"
   ]
  },
  {
   "cell_type": "code",
   "execution_count": 119,
   "metadata": {
    "colab": {
     "base_uri": "https://localhost:8080/"
    },
    "id": "HnADOBBzKnmj",
    "outputId": "fc37fc80-e96a-46d4-cb6b-7b98d3d99f2b"
   },
   "outputs": [
    {
     "name": "stdout",
     "output_type": "stream",
     "text": [
      "[0 1 2 3 4 5 6 7 8 9]\n",
      "[[0 1 2 3 4 5 6 7 8 9]\n",
      " [0 1 2 3 4 5 6 7 8 9]\n",
      " [0 1 2 3 4 5 6 7 8 9]\n",
      " [0 1 2 3 4 5 6 7 8 9]\n",
      " [0 1 2 3 4 5 6 7 8 9]\n",
      " [0 1 2 3 4 5 6 7 8 9]\n",
      " [0 1 2 3 4 5 6 7 8 9]\n",
      " [0 1 2 3 4 5 6 7 8 9]\n",
      " [0 1 2 3 4 5 6 7 8 9]\n",
      " [0 1 2 3 4 5 6 7 8 9]] [[0 0 0 0 0 0 0 0 0 0]\n",
      " [1 1 1 1 1 1 1 1 1 1]\n",
      " [2 2 2 2 2 2 2 2 2 2]\n",
      " [3 3 3 3 3 3 3 3 3 3]\n",
      " [4 4 4 4 4 4 4 4 4 4]\n",
      " [5 5 5 5 5 5 5 5 5 5]\n",
      " [6 6 6 6 6 6 6 6 6 6]\n",
      " [7 7 7 7 7 7 7 7 7 7]\n",
      " [8 8 8 8 8 8 8 8 8 8]\n",
      " [9 9 9 9 9 9 9 9 9 9]]\n"
     ]
    },
    {
     "data": {
      "text/plain": [
       "array([[False,  True, False, False, False, False, False, False, False,\n",
       "         True],\n",
       "       [False, False,  True, False, False, False, False, False, False,\n",
       "        False],\n",
       "       [False, False, False,  True, False, False, False, False, False,\n",
       "        False],\n",
       "       [False, False, False, False,  True, False, False, False, False,\n",
       "        False],\n",
       "       [False, False, False, False, False,  True, False, False, False,\n",
       "        False],\n",
       "       [False, False, False, False, False, False,  True, False, False,\n",
       "        False],\n",
       "       [False, False, False, False, False, False, False,  True, False,\n",
       "        False],\n",
       "       [False, False, False, False, False, False, False, False,  True,\n",
       "        False],\n",
       "       [False, False, False, False, False, False, False, False, False,\n",
       "         True],\n",
       "       [False, False, False, False, False, False, False, False, False,\n",
       "        False]])"
      ]
     },
     "execution_count": 119,
     "metadata": {},
     "output_type": "execute_result"
    }
   ],
   "source": [
    "n=10\n",
    "nodes=np.arange(n)\n",
    "print(nodes)\n",
    "col,row=np.meshgrid(nodes,nodes)\n",
    "print(col,row)\n",
    "\n",
    "#take upper triange\n",
    "col>row \n",
    "#take diagonal\n",
    "col==row\n",
    "#take_closest\n",
    "np.logical_or(np.abs(col-row)<=1,np.abs(col-row)>=n-1)\n",
    "#\n",
    "np.logical_and(col>row ,np.logical_or(np.abs(col-row)<=1,np.abs(col-row)>=n-1))\n",
    "#good, now i'm ready\n"
   ]
  },
  {
   "cell_type": "code",
   "execution_count": 120,
   "metadata": {
    "id": "Z50AhNtWMgp4"
   },
   "outputs": [],
   "source": [
    "def closest_nodes(n,dist,upper=False,non_diag=True):\n",
    "  \n",
    "  nodes=np.arange(n)\n",
    "  col,row=np.meshgrid(nodes,nodes)\n",
    "\n",
    "  closest=np.logical_or(np.abs(col-row)<=dist,np.abs(col-row)>=n-dist)\n",
    "  if non_diag:\n",
    "    closest=np.logical_and(closest, col!=row)\n",
    "  if not upper:\n",
    "    return  closest\n",
    "  \n",
    "  return np.logical_and(closest, col>row)"
   ]
  },
  {
   "cell_type": "code",
   "execution_count": 121,
   "metadata": {
    "colab": {
     "base_uri": "https://localhost:8080/"
    },
    "id": "gH9YD9HzOXUp",
    "outputId": "ff3ca6cb-17a0-4bff-b81b-09d488039996"
   },
   "outputs": [
    {
     "data": {
      "text/plain": [
       "array([[False,  True, False, False],\n",
       "       [False, False, False, False],\n",
       "       [False, False, False,  True],\n",
       "       [False, False, False, False]])"
      ]
     },
     "execution_count": 121,
     "metadata": {},
     "output_type": "execute_result"
    }
   ],
   "source": [
    "#voglio mescolare i nodi con un probabilità p\n",
    "#devo passargli due array, uno quello dei nodi nuovi, un'altro quello dei nodi vecchi.\n",
    "#i nodi vecchi non si toccano,\n",
    "#i nodi nuovi si toccano con probabilità p, \n",
    "#fare attenzione a che due modifiche non vadano sullo stesso nodo, un modo potrebbe essere quello di modificare direttamente l'array\n",
    "# in ogni caso devo tenere traccia di quelli già toccati, proabilmente conviene duplicarlo\n",
    "\n",
    "n=4\n",
    "old_graph=np.array([[0,1,0,0],[1,0,0,0],[0,0,0,1],[0,0,1,0]])\n",
    "new_graph=np.array([[0,1,1,0],[1,0,0,0],[1,0,0,1],[0,0,1,0]])\n",
    "\n",
    "\n",
    "#define it as functions\n",
    "def old_nodes(old_graph, upper=False):\n",
    "  n=len(old_graph)\n",
    "  nodes=np.arange(n)\n",
    "  col,row=np.meshgrid(nodes,nodes)\n",
    "  old_nodes=old_graph>0\n",
    "  if upper:\n",
    "    return np.logical_and(col>row,old_nodes)\n",
    "  return old_nodes\n",
    "\n",
    "def new_nodes(old_graph,new_graph, upper=False):\n",
    "  n=len(old_graph)\n",
    "  nodes=np.arange(n)\n",
    "  col,row=np.meshgrid(nodes,nodes)\n",
    "  old=old_nodes(old_graph)\n",
    "  new_nodes=np.logical_and(new_graph>0,np.logical_not(old))\n",
    "  if upper:\n",
    "    return np.logical_and(col>row,new_nodes)\n",
    "  return new_nodes\n",
    "\n",
    "def possible_nodes(new_graph, upper=False):\n",
    "  n=len(new_graph)\n",
    "  nodes=np.arange(n)\n",
    "  col,row=np.meshgrid(nodes,nodes)\n",
    "  possible_nodes= new_graph==0\n",
    "  if upper:\n",
    "    return np.logical_and(possible_nodes,col>row)\n",
    "  return possible_nodes\n",
    "\n",
    "old_nodes(old_graph, upper=True)\n",
    "#new_nodes(old_graph,new_graph, upper=True)\n",
    "#possible_nodes(new_graph, upper=True)"
   ]
  },
  {
   "cell_type": "code",
   "execution_count": 122,
   "metadata": {
    "colab": {
     "base_uri": "https://localhost:8080/"
    },
    "id": "a4ruoSP2V92n",
    "outputId": "b2f644ce-9b74-4d42-e03f-eb19f95f0019"
   },
   "outputs": [
    {
     "data": {
      "text/plain": [
       "array([[0., 1., 0., 1., 1.],\n",
       "       [1., 0., 0., 0., 1.],\n",
       "       [0., 0., 0., 0., 1.],\n",
       "       [1., 0., 0., 0., 0.],\n",
       "       [1., 1., 1., 0., 0.]])"
      ]
     },
     "execution_count": 122,
     "metadata": {},
     "output_type": "execute_result"
    }
   ],
   "source": [
    "#now shuffle\n",
    "#we have new nodes\n",
    "#we have possible nodes\n",
    "def create_random_small_world_link(old_graph, new_graph,p,rng=0):\n",
    "  # set seed\n",
    "  if rng==0:\n",
    "    rng=np.random.default_rng() \n",
    "\n",
    "  n=len(old_graph)\n",
    "  nodes=np.arange(n)\n",
    "  cols,rows=np.meshgrid(nodes,nodes)\n",
    "\n",
    "  olds=old_nodes(old_graph, upper=True)\n",
    "  news=new_nodes(old_graph, new_graph, upper=True)\n",
    "  possibles=possible_nodes(new_graph, upper=True)\n",
    "  #shuffled is a np array where we save all the nodes of the newgraph after a shuffle\n",
    "  shuffled=np.zeros(np.shape(news))\n",
    "  shuffled[olds]=1\n",
    "  shuffled[news]=rng.uniform(0,1,len(shuffled[news]))\n",
    "  shuffled[shuffled>p]=1 \n",
    "\n",
    "  #now i remain with all the nodes I need to change\n",
    "  for row in range(n):\n",
    "    for col in range(n):\n",
    "      if shuffled[row,col]>0 and shuffled[row,col]<1:\n",
    "\n",
    "        if np.any(possibles[row]):\n",
    "\n",
    "          appo_index=rng.integers(0,len(shuffled[possibles[row]]))\n",
    "          index=cols[row,possibles[row]][appo_index]\n",
    "\n",
    "          shuffled[row,index]=1\n",
    "          shuffled[row,col]=0\n",
    "          possibles=possible_nodes(shuffled, upper=True)\n",
    "\n",
    "  \n",
    "  return shuffled+np.transpose(shuffled)\n",
    "        #generate a random number\n",
    "        #if grater than p stay still\n",
    "        #if lower than p change to one in the possibles uniformly\n",
    "        #save the new\n",
    "\n",
    "\n",
    "\n",
    "\n",
    "\n",
    "old_graph=np.array([[0,1,0,0,0],[1,0,0,0,0],[0,0,0,1,0],[0,0,1,0,0],[0,0,0,0,0]])\n",
    "new_graph=np.array([[0,1,1,1,0],[1,0,1,0,0],[1,1,0,1,0],[1,0,1,0,0],[0,0,0,0,0]])\n",
    "\n",
    "old_graph=np.array([[0,0,0,0,0],[1,0,0,0,0],[0,0,0,0,0],[0,0,0,0,0],[0,0,0,0,0]])\n",
    "new_graph=np.array([[0,1,1,1,0],[1,0,1,0,0],[1,1,0,1,0],[1,0,1,0,0],[0,0,0,0,0]])\n",
    "\n",
    "create_random_small_world_link(old_graph, new_graph,0.8)"
   ]
  },
  {
   "cell_type": "code",
   "execution_count": 123,
   "metadata": {
    "colab": {
     "base_uri": "https://localhost:8080/"
    },
    "id": "VLv5XSuzNrjH",
    "outputId": "c2c9afc5-e975-4c4f-8961-6e78a0e6b4a2"
   },
   "outputs": [
    {
     "data": {
      "text/plain": [
       "array([[0.        , 0.12456885, 0.47221294, 0.99546361, 0.16238163,\n",
       "        0.77535727, 0.47933376],\n",
       "       [0.12456885, 0.        , 0.72430595, 0.19358273, 0.60035851,\n",
       "        0.59601113, 0.20295344],\n",
       "       [0.47221294, 0.72430595, 0.        , 0.77618667, 0.66587001,\n",
       "        0.31079789, 0.133084  ],\n",
       "       [0.99546361, 0.19358273, 0.77618667, 0.        , 0.62138822,\n",
       "        0.84844372, 0.21764883],\n",
       "       [0.16238163, 0.60035851, 0.66587001, 0.62138822, 0.        ,\n",
       "        0.51492817, 0.90493375],\n",
       "       [0.77535727, 0.59601113, 0.31079789, 0.84844372, 0.51492817,\n",
       "        0.        , 1.        ],\n",
       "       [0.47933376, 0.20295344, 0.133084  , 0.21764883, 0.90493375,\n",
       "        1.        , 0.        ]])"
      ]
     },
     "execution_count": 123,
     "metadata": {},
     "output_type": "execute_result"
    }
   ],
   "source": [
    "def generate_small_world_correlation_matrix(n,p, seed=np.nan):\n",
    "  max_edge=n*(n-1)/2\n",
    "  \n",
    "  # preallocate output\n",
    "  corr_matrix=np.zeros([n,n])\n",
    "  \n",
    "  # generate random correlation\n",
    "\n",
    "  # set seed\n",
    "  if not np.isnan(seed):\n",
    "     rng=np.random.default_rng(seed)\n",
    "  else:\n",
    "    rng=np.random.default_rng() \n",
    "    seed=1792 #we put this number as seed \n",
    "\n",
    "  a=1\n",
    "  G1=np.zeros([n,n])\n",
    "  G_adjacency=np.zeros([n,n])\n",
    "\n",
    "  for k in range(int(np.floor(n/2))):\n",
    "      #generate closest\n",
    "    G1=G_adjacency\n",
    "    G2=closest_nodes(n,dist=k+1).astype(int)#,upper=True)\n",
    "\n",
    "    #shuffle\n",
    "    G_adjacency=create_random_small_world_link(G1,G2,p,rng)\n",
    "\n",
    "    G_appo=np.triu(G_adjacency)-np.triu(G1)\n",
    "\n",
    "    length=sum(sum(G_appo==1))\n",
    "    G_appo[G_appo==1]=rng.uniform(a-length/max_edge,a,length)\n",
    "    a=a-length/max_edge\n",
    "  \n",
    "    corr_matrix+=G_appo\n",
    "    #creo ring lattice con 2*k e 2*(k+1) edges\n",
    "\n",
    "  return corr_matrix+np.transpose(corr_matrix)\n",
    "\n",
    "\n",
    "generate_small_world_correlation_matrix(n=7,p=0.2)"
   ]
  },
  {
   "cell_type": "markdown",
   "metadata": {
    "id": "6yKyM0Gh374P"
   },
   "source": [
    "## From correlation matrix to graph\n",
    "In this section we want to create a function that generate an adjency matrix from a correlation matrix given a specified threshold. We would like to have a connected graph, therefore we use a function provided to us that add to the initially created graph a spanning tree that does not modify homological properties of the graph\n",
    "\n",
    "\n"
   ]
  },
  {
   "cell_type": "code",
   "execution_count": 124,
   "metadata": {
    "id": "2PVG3ogaBcUH"
   },
   "outputs": [],
   "source": [
    "def adj_matrix_notconncted(corr_matrix, eps):#this function it is not used, but maybe it will be useful in the future\n",
    "  cond=corr_matrix<1-eps\n",
    "  adj_matrix=np.zeros(np.shape(corr_matrix))\n",
    "  adj_matrix[np.where(cond)]=0\n",
    "  adj_matrix[np.where(np.logical_not(cond))]=1\n",
    "  return adj_matrix\n"
   ]
  },
  {
   "cell_type": "code",
   "execution_count": 125,
   "metadata": {
    "id": "iF5Laze68hDv"
   },
   "outputs": [],
   "source": [
    "@jit()\n",
    "def adj_matrix_connected(corr_matrix,sparsity_value):\n",
    "    \"\"\"\n",
    "    given the correlation matrix and the expected sparsity coefficient it can \n",
    "    happen that the corresponding thresholded matrix results in a disconnected graph\n",
    "    here we force the graph to be fully connected by the computation of the minimum\n",
    "    spanning tree and adding the required edges in order to have a unique connected component \n",
    "    \"\"\"\n",
    "    if sparsity_value == 1.0:\n",
    "        adj_matrix=np.ones(corr_matrix.shape)\n",
    "        np.fill_diagonal(adj_matrix,0)\n",
    "        return adj_matrix\n",
    "        \n",
    "    #aggiungere l'errore se lo sparsity value è troppo basso\n",
    "    \n",
    "    corr_matrix =abs(corr_matrix)\n",
    "\n",
    "    max_num_edges = ss.comb(corr_matrix.shape[0],2)\n",
    "    num_edges = int(max_num_edges*sparsity_value)\n",
    "    \n",
    "    num_regions=corr_matrix.shape[0]\n",
    "    #total number of regions in the graph\n",
    "\n",
    "\n",
    "    totalgraph=nx.from_numpy_matrix(1-abs(corr_matrix))\n",
    "    #extraction of a complete graph having has weight 1-abs(correlation)\n",
    "    #we need to take 1-abs since the mst is taking the minimum weight graph and we want the most correlated edges to be there\n",
    "    \n",
    "    MST=nx.adjacency_matrix(tree.minimum_spanning_tree(totalgraph).to_undirected()).todense()\n",
    "    MST_adj_mat=MST #inutile\n",
    "    MST_adj_mat[MST>0]==1 #inutile\n",
    "    MST_adj_mat=np.triu(MST_adj_mat) #put zeros in the inferior triangular matrix\n",
    "    \n",
    "    #put zeros in the diagonal of the corr matrix\n",
    "    for i in range(num_regions):\n",
    "        corr_matrix[i,i]=0\n",
    "    \n",
    "    values_corr=abs(np.triu(corr_matrix)) #forse abs inutile\n",
    "    \n",
    "    cor_wo_MST=values_corr[np.triu(MST_adj_mat)==0]\n",
    "    #we do not consider the correlation values which do not involve edges that are already in the MST\n",
    "        #we consider the correlation values which do not involve edges that are already in the MST ???\n",
    "    values=list(cor_wo_MST.flatten())\n",
    "    values.sort(reverse=True)\n",
    "    \n",
    "    #we select the maximum value of correlation to have the expected num of edges - num of edges in the mst (num regions-1)\n",
    "    # values must have at least 1 element: AT LEAST 1 LINK MORE THAN  THE  SPANNING TREE\n",
    "    value_thresh=values[min(num_edges-(num_regions-1),len(values))-1] #-1 index start at 0\n",
    "    #notice, we can't choose a sparsity value resulting in a nuber of edges lower than then number of edges in the spanning tree (sparsity value tree  = 2*(n-1)/(n-1)*n = 1*2/n)\n",
    "    adj_matrix=np.zeros(corr_matrix.shape) \n",
    "    \n",
    "    #we put an edge if the value of correlation is higher than the found threshold or if the edges is required by the mst\n",
    "    adj_matrix[values_corr>=value_thresh]=1\n",
    "    adj_matrix[MST_adj_mat!=0]=1\n",
    "    \n",
    "    adj_matrix=(adj_matrix)+np.transpose((adj_matrix)) #simmetry of the adj matrix\n",
    "    \n",
    "    return adj_matrix\n"
   ]
  },
  {
   "cell_type": "markdown",
   "metadata": {
    "id": "Zk8n5DJYHEyH"
   },
   "source": [
    "The function above, gives some problems when the sparsity value is too little. An example follows."
   ]
  },
  {
   "cell_type": "code",
   "execution_count": 126,
   "metadata": {
    "colab": {
     "base_uri": "https://localhost:8080/",
     "height": 0
    },
    "id": "X5tBCyOAFrMC",
    "outputId": "d04af826-e7af-45ca-fc00-c2ca57f82fcd"
   },
   "outputs": [
    {
     "name": "stderr",
     "output_type": "stream",
     "text": [
      "<ipython-input-125-00f6cf815520>:1: NumbaWarning: \n",
      "Compilation is falling back to object mode WITH looplifting enabled because Function \"adj_matrix_connected\" failed type inference due to: No implementation of function Function(<built-in function abs>) found for signature:\n",
      " \n",
      " >>> abs(array(float64, 2d, C))\n",
      " \n",
      "There are 4 candidate implementations:\n",
      "  - Of which 2 did not match due to:\n",
      "  Type Restricted Function in function 'abs': File: unknown: Line unknown.\n",
      "    With argument(s): '(array(float64, 2d, C))':\n",
      "   No match for registered cases:\n",
      "    * (int8,) -> int8\n",
      "    * (int16,) -> int16\n",
      "    * (int32,) -> int32\n",
      "    * (int64,) -> int64\n",
      "    * (uint8,) -> uint8\n",
      "    * (uint16,) -> uint16\n",
      "    * (uint32,) -> uint32\n",
      "    * (uint64,) -> uint64\n",
      "    * (float32,) -> float32\n",
      "    * (float64,) -> float64\n",
      "    * (complex64,) -> float32\n",
      "    * (complex128,) -> float64\n",
      "  - Of which 2 did not match due to:\n",
      "  Overload of function 'abs': File: numba/core/typing/npdatetime.py: Line 20.\n",
      "    With argument(s): '(array(float64, 2d, C))':\n",
      "   No match.\n",
      "\n",
      "During: resolving callee type: Function(<built-in function abs>)\n",
      "During: typing of call at <ipython-input-125-00f6cf815520> (16)\n",
      "\n",
      "\n",
      "File \"<ipython-input-125-00f6cf815520>\", line 16:\n",
      "def adj_matrix_connected(corr_matrix,sparsity_value):\n",
      "    <source elided>\n",
      "    \n",
      "    corr_matrix =abs(corr_matrix)\n",
      "    ^\n",
      "\n",
      "  @jit()\n",
      "<ipython-input-125-00f6cf815520>:1: NumbaWarning: \n",
      "Compilation is falling back to object mode WITHOUT looplifting enabled because Function \"adj_matrix_connected\" failed type inference due to: cannot determine Numba type of <class 'numba.core.dispatcher.LiftedLoop'>\n",
      "\n",
      "File \"<ipython-input-125-00f6cf815520>\", line 35:\n",
      "def adj_matrix_connected(corr_matrix,sparsity_value):\n",
      "    <source elided>\n",
      "    #put zeros in the diagonal of the corr matrix\n",
      "    for i in range(num_regions):\n",
      "    ^\n",
      "\n",
      "  @jit()\n",
      "/usr/local/lib/python3.7/dist-packages/numba/core/object_mode_passes.py:178: NumbaWarning: Function \"adj_matrix_connected\" was compiled in object mode without forceobj=True, but has lifted loops.\n",
      "\n",
      "File \"<ipython-input-125-00f6cf815520>\", line 9:\n",
      "def adj_matrix_connected(corr_matrix,sparsity_value):\n",
      "    <source elided>\n",
      "    \"\"\"\n",
      "    if sparsity_value == 1.0:\n",
      "    ^\n",
      "\n",
      "  state.func_ir.loc))\n",
      "/usr/local/lib/python3.7/dist-packages/numba/core/object_mode_passes.py:188: NumbaDeprecationWarning: \n",
      "Fall-back from the nopython compilation path to the object mode compilation path has been detected, this is deprecated behaviour.\n",
      "\n",
      "For more information visit https://numba.pydata.org/numba-doc/latest/reference/deprecation.html#deprecation-of-object-mode-fall-back-behaviour-when-using-jit\n",
      "\n",
      "File \"<ipython-input-125-00f6cf815520>\", line 9:\n",
      "def adj_matrix_connected(corr_matrix,sparsity_value):\n",
      "    <source elided>\n",
      "    \"\"\"\n",
      "    if sparsity_value == 1.0:\n",
      "    ^\n",
      "\n",
      "  state.func_ir.loc))\n"
     ]
    },
    {
     "data": {
      "image/png": "[encoded data removed]",
      "text/plain": [
       "<Figure size 432x288 with 1 Axes>"
      ]
     },
     "metadata": {},
     "output_type": "display_data"
    }
   ],
   "source": [
    "G=generate_Erdos_Renyi_correlation_matrix(10,10)\n",
    "\n",
    "nx.draw(nx.from_numpy_matrix(adj_matrix_connected(G,0.1)))"
   ]
  },
  {
   "cell_type": "markdown",
   "metadata": {
    "id": "D1CxD2zeJYna"
   },
   "source": [
    "## Extracting filtration from correlation matrices\n",
    "in this section we want to make a filtration from correlation matrices. The idea is to increase the threshold $ɛ$ in order to create more and more connected graphs. Given each graph $G_ɛ$ we want to write it as a simplicial complex, therefore we have to find the cliques trhough networkx"
   ]
  },
  {
   "cell_type": "markdown",
   "metadata": {
    "id": "KKJJoCiPPNDd"
   },
   "source": [
    "### generate_graph_sequence()\n",
    "This is the function generating the graph sequence needed for the filtration"
   ]
  },
  {
   "cell_type": "code",
   "execution_count": 127,
   "metadata": {
    "id": "J29tWsrSKYFl"
   },
   "outputs": [],
   "source": [
    "@jit()\n",
    "def generate_graph_sequence(corr_matrix, costs):\n",
    "\n",
    "\n",
    "  # input:\n",
    "  #   correlation matrix: is the correlation matrix where we need to extract \n",
    "  #                       using the function provided to us\n",
    "  #   costs: is the list of cost where we decided to make the filtration\n",
    "  # output:\n",
    "  #   graph_sequence: it is a list of numpy matrices, each being an adjacency \n",
    "  #                   matrix of a graph of hte filtration\n",
    "  \n",
    "  graph_sequence=list()\n",
    "  for eps in costs:\n",
    "    graph_sequence.append(adj_matrix_connected(corr_matrix,eps))\n",
    "  return graph_sequence\n",
    "\n"
   ]
  },
  {
   "cell_type": "markdown",
   "metadata": {
    "id": "MTip0cSgNTnG"
   },
   "source": [
    "below some exaples, it seems to work even though the problem with the function adj_matrix_connected() remains."
   ]
  },
  {
   "cell_type": "code",
   "execution_count": 128,
   "metadata": {
    "colab": {
     "base_uri": "https://localhost:8080/",
     "height": 1000
    },
    "id": "puDIc-HjLlxH",
    "outputId": "affa2ebc-b988-48db-d7a3-5cea20ba53ec"
   },
   "outputs": [
    {
     "name": "stderr",
     "output_type": "stream",
     "text": [
      "<ipython-input-127-5bfd9e0ed268>:1: NumbaWarning: \n",
      "Compilation is falling back to object mode WITH looplifting enabled because Function \"generate_graph_sequence\" failed type inference due to: Invalid use of type(CPUDispatcher(<function adj_matrix_connected at 0x7f4d13d0e5f0>)) with parameters (array(float64, 2d, C), float64)\n",
      "\n",
      "During: resolving callee type: type(CPUDispatcher(<function adj_matrix_connected at 0x7f4d13d0e5f0>))\n",
      "During: typing of call at <ipython-input-127-5bfd9e0ed268> (15)\n",
      "\n",
      "\n",
      "File \"<ipython-input-127-5bfd9e0ed268>\", line 15:\n",
      "def generate_graph_sequence(corr_matrix, costs):\n",
      "    <source elided>\n",
      "  for eps in costs:\n",
      "    graph_sequence.append(adj_matrix_connected(corr_matrix,eps))\n",
      "    ^\n",
      "\n",
      "  @jit()\n",
      "<ipython-input-127-5bfd9e0ed268>:1: NumbaWarning: \n",
      "Compilation is falling back to object mode WITHOUT looplifting enabled because Function \"generate_graph_sequence\" failed type inference due to: cannot determine Numba type of <class 'numba.core.dispatcher.LiftedLoop'>\n",
      "\n",
      "File \"<ipython-input-127-5bfd9e0ed268>\", line 14:\n",
      "def generate_graph_sequence(corr_matrix, costs):\n",
      "    <source elided>\n",
      "  graph_sequence=list()\n",
      "  for eps in costs:\n",
      "  ^\n",
      "\n",
      "  @jit()\n",
      "/usr/local/lib/python3.7/dist-packages/numba/core/object_mode_passes.py:178: NumbaWarning: Function \"generate_graph_sequence\" was compiled in object mode without forceobj=True, but has lifted loops.\n",
      "\n",
      "File \"<ipython-input-127-5bfd9e0ed268>\", line 13:\n",
      "def generate_graph_sequence(corr_matrix, costs):\n",
      "    <source elided>\n",
      "  \n",
      "  graph_sequence=list()\n",
      "  ^\n",
      "\n",
      "  state.func_ir.loc))\n",
      "/usr/local/lib/python3.7/dist-packages/numba/core/object_mode_passes.py:188: NumbaDeprecationWarning: \n",
      "Fall-back from the nopython compilation path to the object mode compilation path has been detected, this is deprecated behaviour.\n",
      "\n",
      "For more information visit https://numba.pydata.org/numba-doc/latest/reference/deprecation.html#deprecation-of-object-mode-fall-back-behaviour-when-using-jit\n",
      "\n",
      "File \"<ipython-input-127-5bfd9e0ed268>\", line 13:\n",
      "def generate_graph_sequence(corr_matrix, costs):\n",
      "    <source elided>\n",
      "  \n",
      "  graph_sequence=list()\n",
      "  ^\n",
      "\n",
      "  state.func_ir.loc))\n",
      "<ipython-input-127-5bfd9e0ed268>:1: NumbaWarning: \n",
      "Compilation is falling back to object mode WITHOUT looplifting enabled because Function \"generate_graph_sequence\" failed type inference due to: non-precise type pyobject\n",
      "During: typing of argument at <ipython-input-127-5bfd9e0ed268> (14)\n",
      "\n",
      "File \"<ipython-input-127-5bfd9e0ed268>\", line 14:\n",
      "def generate_graph_sequence(corr_matrix, costs):\n",
      "    <source elided>\n",
      "  graph_sequence=list()\n",
      "  for eps in costs:\n",
      "  ^\n",
      "\n",
      "  @jit()\n",
      "/usr/local/lib/python3.7/dist-packages/numba/core/object_mode_passes.py:178: NumbaWarning: Function \"generate_graph_sequence\" was compiled in object mode without forceobj=True.\n",
      "\n",
      "File \"<ipython-input-127-5bfd9e0ed268>\", line 14:\n",
      "def generate_graph_sequence(corr_matrix, costs):\n",
      "    <source elided>\n",
      "  graph_sequence=list()\n",
      "  for eps in costs:\n",
      "  ^\n",
      "\n",
      "  state.func_ir.loc))\n",
      "/usr/local/lib/python3.7/dist-packages/numba/core/object_mode_passes.py:188: NumbaDeprecationWarning: \n",
      "Fall-back from the nopython compilation path to the object mode compilation path has been detected, this is deprecated behaviour.\n",
      "\n",
      "For more information visit https://numba.pydata.org/numba-doc/latest/reference/deprecation.html#deprecation-of-object-mode-fall-back-behaviour-when-using-jit\n",
      "\n",
      "File \"<ipython-input-127-5bfd9e0ed268>\", line 14:\n",
      "def generate_graph_sequence(corr_matrix, costs):\n",
      "    <source elided>\n",
      "  graph_sequence=list()\n",
      "  for eps in costs:\n",
      "  ^\n",
      "\n",
      "  state.func_ir.loc))\n"
     ]
    },
    {
     "data": {
      "image/png": "[encoded data removed]",
      "text/plain": [
       "<Figure size 432x288 with 1 Axes>"
      ]
     },
     "metadata": {},
     "output_type": "display_data"
    }
   ],
   "source": [
    "G=generate_Erdos_Renyi_correlation_matrix(10,0)\n",
    "costs=np.linspace(0,1,21)\n",
    "graph_filtration=generate_graph_sequence(G,costs)\n",
    "#for example: in this case we had no problem from 5 up, 4 becames a strange graph\n",
    "nx.draw_networkx(nx.from_numpy_matrix(graph_filtration[5]))"
   ]
  },
  {
   "cell_type": "code",
   "execution_count": 129,
   "metadata": {
    "colab": {
     "base_uri": "https://localhost:8080/",
     "height": 248
    },
    "id": "s6zwHM64SJmA",
    "outputId": "6024dacb-761e-40f9-ebc5-c449e37762eb"
   },
   "outputs": [
    {
     "data": {
      "image/png": "[encoded data removed]",
      "text/plain": [
       "<Figure size 432x288 with 1 Axes>"
      ]
     },
     "metadata": {},
     "output_type": "display_data"
    }
   ],
   "source": [
    "nx.draw_networkx(nx.from_numpy_matrix(graph_filtration[15]))"
   ]
  },
  {
   "cell_type": "markdown",
   "metadata": {
    "id": "PtvgDORz3wKh"
   },
   "source": [
    "Examples with random lattice\n",
    "\n"
   ]
  },
  {
   "cell_type": "code",
   "execution_count": 131,
   "metadata": {
    "colab": {
     "base_uri": "https://localhost:8080/",
     "height": 248
    },
    "id": "ycQKGtOsOD9f",
    "outputId": "51d06ada-aaa6-49e7-9ab0-a61b4f99902e"
   },
   "outputs": [
    {
     "data": {
      "image/png": "[encoded data removed]",
      "text/plain": [
       "<Figure size 432x288 with 1 Axes>"
      ]
     },
     "metadata": {},
     "output_type": "display_data"
    }
   ],
   "source": [
    "C=generate_ring_lattice_correlation_matrix(20,1)\n",
    "costs=np.linspace(1/9,1,100)\n",
    "graph_filtration=generate_graph_sequence(C,costs)\n",
    "nx.draw_networkx(nx.from_numpy_matrix(graph_filtration[13]))\n"
   ]
  },
  {
   "cell_type": "code",
   "execution_count": 138,
   "metadata": {
    "colab": {
     "base_uri": "https://localhost:8080/",
     "height": 248
    },
    "id": "LN9t1qiSOLCa",
    "outputId": "85b409cd-7979-42a8-e590-40827324d3ee"
   },
   "outputs": [
    {
     "data": {
      "image/png": "[encoded data removed]",
      "text/plain": [
       "<Figure size 432x288 with 1 Axes>"
      ]
     },
     "metadata": {},
     "output_type": "display_data"
    }
   ],
   "source": [
    "C=generate_small_world_correlation_matrix(20,0.05,1)\n",
    "costs=np.linspace(1/9,1,100)\n",
    "graph_filtration=generate_graph_sequence(C,costs)\n",
    "nx.draw_networkx(nx.from_numpy_matrix(graph_filtration[14]))"
   ]
  },
  {
   "cell_type": "markdown",
   "metadata": {
    "id": "Bn7g2uW0PbS9"
   },
   "source": [
    "### generate_complex_filtration()\n",
    "From the list of graph we want to have a list of simplicial complexes. This is done in the following function\n",
    "\n",
    "It does not seem to be useful"
   ]
  },
  {
   "cell_type": "code",
   "execution_count": null,
   "metadata": {
    "id": "L7jBKMKSPJgK"
   },
   "outputs": [],
   "source": [
    "@jit()\n",
    "def generate_complex_filtration(graph_sequence):\n",
    "  # input:\n",
    "  #   graph_sequence: it is the graph sequence in the filtration we are \n",
    "  #                   interested in\n",
    "  # output:\n",
    "  #   complex_sequence: it is a list of list of arrays, each being a clique for \n",
    "  #                     a graph in the sequence\n",
    "  complex_sequence=list()\n",
    "  for graph in graph_sequence:\n",
    "    complex_sequence.append(list(nx.find_cliques(nx.from_numpy_matrix(graph))))\n",
    "  return complex_sequence"
   ]
  },
  {
   "cell_type": "markdown",
   "metadata": {
    "id": "EiOTWksqSWft"
   },
   "source": [
    "we continue the example made before, it seems all coherent."
   ]
  },
  {
   "cell_type": "code",
   "execution_count": null,
   "metadata": {
    "colab": {
     "base_uri": "https://localhost:8080/"
    },
    "id": "VklaJQxHRJuS",
    "outputId": "585c9303-bef1-43dd-e374-7656376c69f9"
   },
   "outputs": [
    {
     "name": "stderr",
     "output_type": "stream",
     "text": [
      "<ipython-input-37-26c01dabad98>:1: NumbaWarning: \n",
      "Compilation is falling back to object mode WITH looplifting enabled because Function \"generate_complex_filtration\" failed type inference due to: Unknown attribute 'find_cliques' of type Module(<module 'networkx' from '/usr/local/lib/python3.7/dist-packages/networkx/__init__.py'>)\n",
      "\n",
      "File \"<ipython-input-37-26c01dabad98>\", line 11:\n",
      "def generate_complex_filtration(graph_sequence):\n",
      "    <source elided>\n",
      "  for graph in graph_sequence:\n",
      "    complex_sequence.append(list(nx.find_cliques(nx.from_numpy_matrix(graph))))\n",
      "    ^\n",
      "\n",
      "During: typing of get attribute at <ipython-input-37-26c01dabad98> (11)\n",
      "\n",
      "File \"<ipython-input-37-26c01dabad98>\", line 11:\n",
      "def generate_complex_filtration(graph_sequence):\n",
      "    <source elided>\n",
      "  for graph in graph_sequence:\n",
      "    complex_sequence.append(list(nx.find_cliques(nx.from_numpy_matrix(graph))))\n",
      "    ^\n",
      "\n",
      "  @jit()\n",
      "<ipython-input-37-26c01dabad98>:1: NumbaWarning: \n",
      "Compilation is falling back to object mode WITHOUT looplifting enabled because Function \"generate_complex_filtration\" failed type inference due to: cannot determine Numba type of <class 'numba.core.dispatcher.LiftedLoop'>\n",
      "\n",
      "File \"<ipython-input-37-26c01dabad98>\", line 10:\n",
      "def generate_complex_filtration(graph_sequence):\n",
      "    <source elided>\n",
      "  complex_sequence=list()\n",
      "  for graph in graph_sequence:\n",
      "  ^\n",
      "\n",
      "  @jit()\n",
      "/usr/local/lib/python3.7/dist-packages/numba/core/object_mode_passes.py:178: NumbaWarning: Function \"generate_complex_filtration\" was compiled in object mode without forceobj=True, but has lifted loops.\n",
      "\n",
      "File \"<ipython-input-37-26c01dabad98>\", line 9:\n",
      "def generate_complex_filtration(graph_sequence):\n",
      "    <source elided>\n",
      "  #                     a graph in the sequence\n",
      "  complex_sequence=list()\n",
      "  ^\n",
      "\n",
      "  state.func_ir.loc))\n",
      "/usr/local/lib/python3.7/dist-packages/numba/core/object_mode_passes.py:188: NumbaDeprecationWarning: \n",
      "Fall-back from the nopython compilation path to the object mode compilation path has been detected, this is deprecated behaviour.\n",
      "\n",
      "For more information visit https://numba.pydata.org/numba-doc/latest/reference/deprecation.html#deprecation-of-object-mode-fall-back-behaviour-when-using-jit\n",
      "\n",
      "File \"<ipython-input-37-26c01dabad98>\", line 9:\n",
      "def generate_complex_filtration(graph_sequence):\n",
      "    <source elided>\n",
      "  #                     a graph in the sequence\n",
      "  complex_sequence=list()\n",
      "  ^\n",
      "\n",
      "  state.func_ir.loc))\n",
      "<ipython-input-37-26c01dabad98>:1: NumbaWarning: \n",
      "Compilation is falling back to object mode WITHOUT looplifting enabled because Function \"generate_complex_filtration\" failed type inference due to: non-precise type pyobject\n",
      "During: typing of argument at <ipython-input-37-26c01dabad98> (10)\n",
      "\n",
      "File \"<ipython-input-37-26c01dabad98>\", line 10:\n",
      "def generate_complex_filtration(graph_sequence):\n",
      "    <source elided>\n",
      "  complex_sequence=list()\n",
      "  for graph in graph_sequence:\n",
      "  ^\n",
      "\n",
      "  @jit()\n"
     ]
    },
    {
     "name": "stdout",
     "output_type": "stream",
     "text": [
      "[[0, 5], [0, 6], [1, 9, 5], [1, 2], [1, 3], [4, 8], [6, 3], [7, 3], [8, 5]]\n",
      "[[0, 8, 5], [0, 6], [1, 9, 5], [1, 2], [1, 3, 7], [4, 8], [6, 3]]\n"
     ]
    },
    {
     "name": "stderr",
     "output_type": "stream",
     "text": [
      "/usr/local/lib/python3.7/dist-packages/numba/core/object_mode_passes.py:178: NumbaWarning: Function \"generate_complex_filtration\" was compiled in object mode without forceobj=True.\n",
      "\n",
      "File \"<ipython-input-37-26c01dabad98>\", line 10:\n",
      "def generate_complex_filtration(graph_sequence):\n",
      "    <source elided>\n",
      "  complex_sequence=list()\n",
      "  for graph in graph_sequence:\n",
      "  ^\n",
      "\n",
      "  state.func_ir.loc))\n",
      "/usr/local/lib/python3.7/dist-packages/numba/core/object_mode_passes.py:188: NumbaDeprecationWarning: \n",
      "Fall-back from the nopython compilation path to the object mode compilation path has been detected, this is deprecated behaviour.\n",
      "\n",
      "For more information visit https://numba.pydata.org/numba-doc/latest/reference/deprecation.html#deprecation-of-object-mode-fall-back-behaviour-when-using-jit\n",
      "\n",
      "File \"<ipython-input-37-26c01dabad98>\", line 10:\n",
      "def generate_complex_filtration(graph_sequence):\n",
      "    <source elided>\n",
      "  complex_sequence=list()\n",
      "  for graph in graph_sequence:\n",
      "  ^\n",
      "\n",
      "  state.func_ir.loc))\n"
     ]
    }
   ],
   "source": [
    "G=generate_Erdos_Renyi_correlation_matrix(10,0)\n",
    "costs=np.linspace(0,1,21)\n",
    "graph_filtration=generate_graph_sequence(G,costs)\n",
    "complex_filtration=generate_complex_filtration(graph_filtration)\n",
    "print(complex_filtration[5])\n",
    "print(complex_filtration[6])"
   ]
  },
  {
   "cell_type": "markdown",
   "metadata": {
    "id": "K031Py2RZp0R"
   },
   "source": [
    "## Giotto\n",
    "let's try to compute persistence homology with giotto "
   ]
  },
  {
   "cell_type": "markdown",
   "metadata": {
    "id": "asYgdyew9JdO"
   },
   "source": [
    "### Creation of a adjacency graph for giotto\n",
    "If we want to use the Vietoris Rips filtration from giotto we need to work on our adjacency graph. In particular the weigth need to represent the appearence of that link in the filtration.\n",
    "\n",
    "In the function below, given a graph filtration we create that kind of adjacency matrix"
   ]
  },
  {
   "cell_type": "code",
   "execution_count": null,
   "metadata": {
    "id": "poV_bHf09336"
   },
   "outputs": [],
   "source": [
    "def from_filtration_to_adjacency(graph_filtration):\n",
    "  \n",
    "  # pre allocate output\n",
    "  # we create an array with non feasible weigth\n",
    "  adjacency_matrix=np.ones(np.shape(graph_filtration[0]))*(-1)\n",
    "\n",
    "  # for each graph in the filtration if a new link appears, the weigth is the \n",
    "  # number of the filtration.\n",
    "  for i,graph in enumerate(graph_filtration):\n",
    "    cond=np.logical_and(adjacency_matrix==-1,graph==1)\n",
    "    adjacency_matrix[cond]=i\n",
    "  \n",
    "  # diagonal entries need to be 0\n",
    "  adjacency_matrix+= np.identity(np.shape(adjacency_matrix)[0])\n",
    "  # all non feasible weight becomes infinite \n",
    "  adjacency_matrix[adjacency_matrix==-1]=np.inf\n",
    "  return adjacency_matrix\n",
    "    \n",
    "\n"
   ]
  },
  {
   "cell_type": "markdown",
   "metadata": {
    "id": "nmsEZ4gHD52o"
   },
   "source": [
    "Example on erdos renyi graph"
   ]
  },
  {
   "cell_type": "code",
   "execution_count": null,
   "metadata": {
    "colab": {
     "base_uri": "https://localhost:8080/"
    },
    "id": "AumMS6CH-hAf",
    "outputId": "71fef8f7-2c52-486f-880f-7aebdd9eb46b"
   },
   "outputs": [
    {
     "data": {
      "text/plain": [
       "array([[ 0., 47.,  3., ..., 16., 82., 61.],\n",
       "       [47.,  0., 67., ..., 60., 48., 98.],\n",
       "       [ 3., 67.,  0., ..., 10., 67., 97.],\n",
       "       ...,\n",
       "       [16., 60., 10., ...,  0., 24.,  9.],\n",
       "       [82., 48., 67., ..., 24.,  0., 53.],\n",
       "       [61., 98., 97., ...,  9., 53.,  0.]])"
      ]
     },
     "execution_count": 40,
     "metadata": {},
     "output_type": "execute_result"
    }
   ],
   "source": [
    "G=generate_Erdos_Renyi_correlation_matrix(90,1)\n",
    "costs=np.linspace(1/44,1,100)\n",
    "graph_filtration=generate_graph_sequence(G,costs)\n",
    "adjacency_matrix=from_filtration_to_adjacency(graph_filtration)\n",
    "adjacency_matrix"
   ]
  },
  {
   "cell_type": "markdown",
   "metadata": {
    "id": "XpuAUnk5EaRe"
   },
   "source": [
    "### Computation of persistence homology\n",
    "Here we define a function that given a list of correlation matrices return a list of persistence diagrams. "
   ]
  },
  {
   "cell_type": "code",
   "execution_count": null,
   "metadata": {
    "id": "DYOh8rz4p8aH"
   },
   "outputs": [],
   "source": [
    "def custom_vietoris_persistance (corr_mats,costs,homology_dimensions,plot=False):\n",
    "#qiesta è la versione che ho modificato, non riesco a stampare il grafico, cosa sbaglio??\n",
    "  '''\n",
    "  input:\n",
    "    corr_mats:  correlation matrices of the graphs we want to compute the diagram\n",
    "    costs:      list of the costs where the filtration is computed\n",
    "    homology_dimensions: list of the dimensions of the homology to compute\n",
    "    plot:       boolean value, if true this function plot the persistence graph \n",
    "  \n",
    "  output:       \n",
    "    diagrams: list of persistance diagrams. Each element of the list \n",
    "              is a list of points in the plane with associated dimansion\n",
    "  '''  \n",
    "\n",
    "  if isinstance(homology_dimensions, int):\n",
    "    homology_dimensions=list(range(1,homology_dimensions+1))\n",
    "\n",
    "  if not isinstance(corr_mats,list):\n",
    "    corr_mats=[corr_mats]\n",
    "\n",
    "  #generate filtrations\n",
    "  graph_filtrations = [generate_graph_sequence(g,costs) for g in corr_mats]\n",
    "  #generate adjacency matrices\n",
    "  adjacency_matrices = [from_filtration_to_adjacency(graph_filtration) for graph_filtration in graph_filtrations]\n",
    "  # Instantiate topological transformer\n",
    "  VR = VietorisRipsPersistence(metric=\"precomputed\",homology_dimensions=homology_dimensions)\n",
    "\n",
    "  # Compute persistence diagrams corresponding to each graph in X\n",
    "  diagrams = VR.fit_transform(adjacency_matrices)\n",
    "\n",
    "  if (plot):\n",
    "    VR.plot(diagrams, sample=0)\n",
    "  \n",
    "  return diagrams,VR"
   ]
  },
  {
   "cell_type": "markdown",
   "metadata": {
    "id": "rKKvAMe9pohm"
   },
   "source": [
    "### Examples\n",
    "In this section we compute some persistence diagrams with Giotto"
   ]
  },
  {
   "cell_type": "markdown",
   "metadata": {
    "id": "ZfPHnIQdabaP"
   },
   "source": [
    "#### Erdos-Renyi persistence diagram \n",
    "Here an example with Erdos-Renyi graph"
   ]
  },
  {
   "cell_type": "code",
   "execution_count": null,
   "metadata": {
    "id": "6A8ormzHaB9z"
   },
   "outputs": [],
   "source": [
    "#generate correlation matrix\n",
    "G=generate_Erdos_Renyi_correlation_matrix(90,1)\n",
    "#generate filtration\n",
    "costs=np.linspace(1/44,1,100)\n",
    "graph_filtration=generate_graph_sequence(G,costs)\n",
    "#compute adjacency matrix to be given to giotto\n",
    "adjacency_matrix=from_filtration_to_adjacency(graph_filtration)\n",
    "adjacency_matrix\n",
    "# Instantiate topological transformer\n",
    "VR = VietorisRipsPersistence(metric=\"precomputed\",homology_dimensions=[ 1, 2,3,4])\n",
    "adjacency_matrix=[adjacency_matrix]\n",
    "# Compute persistence diagrams corresponding to each graph in X\n",
    "diagrams = VR.fit_transform(adjacency_matrix)\n",
    "VR.plot(diagrams, sample=0)"
   ]
  },
  {
   "cell_type": "markdown",
   "metadata": {
    "id": "_4DWcHLFa7Hq"
   },
   "source": [
    "Let see how this homological properties are saved in *diagrams*"
   ]
  },
  {
   "cell_type": "code",
   "execution_count": null,
   "metadata": {
    "id": "CgPeMctj8eY5"
   },
   "outputs": [],
   "source": [
    "#print(diagrams)\n",
    "diagrams[0]"
   ]
  },
  {
   "cell_type": "markdown",
   "metadata": {
    "id": "loU76h58f5PO"
   },
   "source": [
    "Diagrams are saved as a list of all the diagrams.\n",
    "Each diagram is an array of array. Each Array inside the array represent a point of the diagram and it is represented with three floats (birth, death, dimension of homology). If two or more points coincide on the diagrams it is shown as multiplicity."
   ]
  },
  {
   "cell_type": "markdown",
   "metadata": {
    "id": "Ff1HjXd6bbWg"
   },
   "source": [
    "#### Lattice graph persistence diagram\n",
    "Here an example with Lattice Graph"
   ]
  },
  {
   "cell_type": "code",
   "execution_count": null,
   "metadata": {
    "id": "SMji0Ec13cnw"
   },
   "outputs": [],
   "source": [
    "G=generate_ring_lattice_correlation_matrix(90,1)\n",
    "costs=np.linspace(1/44,1,100)\n",
    "graph_filtration=generate_graph_sequence(G,costs)\n",
    "adjacency_matrix=from_filtration_to_adjacency(graph_filtration)\n",
    "#print(adjacency_matrix)\n",
    "# Instantiate topological transformer\n",
    "VR = VietorisRipsPersistence(metric=\"precomputed\",homology_dimensions=[1, 2,3,4])\n",
    "adjacency_matrix=[adjacency_matrix]\n",
    "# Compute persistence diagrams corresponding to each graph in X\n",
    "diagrams = VR.fit_transform(adjacency_matrix)\n",
    "VR.plot(diagrams, sample=0)"
   ]
  },
  {
   "cell_type": "markdown",
   "metadata": {
    "id": "qtA6W8eZb6nk"
   },
   "source": [
    "#### Small-World persistence diagram\n",
    "Here an example with a small world correlation graph"
   ]
  },
  {
   "cell_type": "code",
   "execution_count": null,
   "metadata": {
    "id": "2Uq_VKxuGbMn"
   },
   "outputs": [],
   "source": [
    "G=generate_small_world_correlation_matrix(90,0.01,1)\n",
    "costs=np.linspace(1/44,1,100)\n",
    "graph_filtration=generate_graph_sequence(G,costs)\n",
    "adjacency_matrix=from_filtration_to_adjacency(graph_filtration)\n",
    "#print(adjacency_matrix)\n",
    "# Instantiate topological transformer\n",
    "VR = VietorisRipsPersistence(metric=\"precomputed\",homology_dimensions=[1, 2,3,4])\n",
    "adjacency_matrix=[adjacency_matrix]\n",
    "# Compute persistence diagrams corresponding to each graph in X\n",
    "diagrams = VR.fit_transform(adjacency_matrix)\n",
    "VR.plot(diagrams, sample=0)"
   ]
  },
  {
   "cell_type": "markdown",
   "metadata": {
    "id": "UpcACJpkpO7Y"
   },
   "source": [
    "## Analysis of topological information over random graphs\n",
    "In this section we edfine functions to examine topological informations of a given filtration. Specifically, we plot persistence diagrams, betti curves and (partial) Euler Entropy (by partial we mean that we're actually calculating the Euler characteristic only using the calculated betti numbers). Clearly the number still contains topological information\n"
   ]
  },
  {
   "cell_type": "markdown",
   "metadata": {
    "id": "Dpbk4Fg4lTn9"
   },
   "source": [
    "### Computing betti numbers"
   ]
  },
  {
   "cell_type": "markdown",
   "metadata": {
    "id": "Mo26g1b7gypn"
   },
   "source": [
    "We want to separate the information of the different dimensions of the homology in different list."
   ]
  },
  {
   "cell_type": "code",
   "execution_count": null,
   "metadata": {
    "id": "YDlwwxmf6Tt4"
   },
   "outputs": [],
   "source": [
    "@jit()\n",
    "def separate(diagrams):\n",
    "  '''\n",
    "  input:  \n",
    "    dmg: persistence diagram from giotto \n",
    "  output: \n",
    "    H: list of different dimensions points in persistent diagrams\n",
    "  '''\n",
    "  H=[]\n",
    "\n",
    "  for i,diagram in enumerate(diagrams):\n",
    "    \n",
    "    H.append([])\n",
    "    #set of the dimensions of the points in the diagram\n",
    "    dimensions=set(diagram[:,2])\n",
    "    \n",
    "    #for all the dimension i generate the list of the point of that exact dimension\n",
    "    for j,dimension in enumerate(dimensions):\n",
    "      H[i].append([])\n",
    "      H[i][j]=[point for point in diagram if point[2]==dimension]\n",
    "      H[i][j]=np.asarray(H[i][j])\n",
    "\n",
    "  #if there is only one diagram there is no need of creating a list of list\n",
    "  #if len(diagrams)==1:\n",
    "  #  return H[0]\n",
    "\n",
    "  return H"
   ]
  },
  {
   "cell_type": "markdown",
   "metadata": {
    "id": "_e_1Om2606YY"
   },
   "source": [
    "With the following function we compute the betti numbers for each graph in the filtration"
   ]
  },
  {
   "cell_type": "code",
   "execution_count": null,
   "metadata": {
    "id": "JvYHBx-boQIL"
   },
   "outputs": [],
   "source": [
    "def betti_numbers (diagrams,n_filtration_steps): \n",
    "  '''\n",
    "  input: \n",
    "    diagrams: persistence diagram from giotto \n",
    "    n_filtration_steps: it is the number of filtration steps\n",
    "  output:\n",
    "    betti_numbers: it is a list of matrix where each column represent a dimension \n",
    "        and the rows are the filtration steps\n",
    "  '''\n",
    "  separated_diagram=separate(diagrams)\n",
    "  betti_numbers=[]\n",
    "  for k,H in enumerate(separated_diagram):\n",
    "    n_dimensions=len(H)   # number of different dimensions where we computed the homology\n",
    "    betti_numbers.append(np.zeros(shape=(n_filtration_steps, n_dimensions)))\n",
    "\n",
    "    for i in range(n_filtration_steps):\n",
    "      for j in range(n_dimensions):\n",
    "        born = H[j][:,0]<=i+1 #generator of the omology must be already born\n",
    "        not_death = i+1 < H[j][:,1] #generator og the homology should not be already dead\n",
    "        betti_numbers[k][i,j]=sum(np.logical_and(born, not_death))\n",
    "  \n",
    "  return betti_numbers"
   ]
  },
  {
   "cell_type": "markdown",
   "metadata": {
    "id": "lnObBNJLljvJ"
   },
   "source": [
    "### Euler Characteristic"
   ]
  },
  {
   "cell_type": "markdown",
   "metadata": {
    "id": "ZGXYYK2IpMR2"
   },
   "source": [
    "The following functions are based on enumerating all the cliques, this quickly becomes computationally intractable"
   ]
  },
  {
   "cell_type": "code",
   "execution_count": null,
   "metadata": {
    "colab": {
     "base_uri": "https://localhost:8080/"
    },
    "id": "mxUTSZLQ2Oww",
    "outputId": "3aa656e5-02e3-47b7-fab7-3fb01e5f69ae"
   },
   "outputs": [
    {
     "name": "stdout",
     "output_type": "stream",
     "text": [
      "206\n"
     ]
    }
   ],
   "source": [
    "def euler_char_cliques(adj):\n",
    "  #qua stiamo facendo forza bruta, magari possiamo calcolarci imparando dalle cricche della filtrazione precedente\n",
    "  cliques=list(nx.enumerate_all_cliques(nx.from_numpy_matrix(adj))) # this should give the same value as its analogue w/ the betti numbers\n",
    "  x=0\n",
    "  dim_cliques=np.asarray([len(clique)-1 for clique in cliques])\n",
    "  x=sum((-1)**dim_cliques)\n",
    " # for i in range(len(cliques)):\n",
    "  #  x += ((-1)**(len(cliques[i])-1)) \n",
    "  return x\n",
    "\n",
    "A=(adj_matrix_connected(G,0.222225))\n",
    "print(euler_char_cliques(A))"
   ]
  },
  {
   "cell_type": "code",
   "execution_count": null,
   "metadata": {
    "id": "Lge_LtPBnOps"
   },
   "outputs": [],
   "source": [
    "def euler_entropy_cliques(adj):\n",
    "  return np.log(np.abs(euler_char_cliques(adj)))"
   ]
  },
  {
   "cell_type": "markdown",
   "metadata": {
    "id": "SQvt3ITgpZlU"
   },
   "source": [
    "With the following functions we only calculate the Euler characteristic based on the alternate sum of betti numbers' multiplicity calculated so far ( we don't usually go beyond dimension 4) (this may be actually wrong, yet the euler entropy calculated in this way still lines up properly w/ phase transitions)"
   ]
  },
  {
   "cell_type": "code",
   "execution_count": null,
   "metadata": {
    "id": "eVv7iUsQtqa9"
   },
   "outputs": [],
   "source": [
    "def euler_char_betti(betti):\n",
    "  # problema, noi non ci siamo calcolati tutti tutti i numeri di betti, solo nelle dimensioni che abbiamo scelto, che se fa?\n",
    "  x=0\n",
    "  a = np.empty((len(betti)))\n",
    "  a[::2] = 1\n",
    "  a[1::2] = -1\n",
    "  # a è un vettore con componenti (-1)^n\n",
    "  x = np.sum(np.multiply(betti,a))\n",
    "  return x\n",
    "\n"
   ]
  },
  {
   "cell_type": "code",
   "execution_count": null,
   "metadata": {
    "id": "BRDHHHh1tu2H"
   },
   "outputs": [],
   "source": [
    "def euler_entropy_betti(betti):\n",
    "  return np.log(np.abs(euler_char_betti(betti)))"
   ]
  },
  {
   "cell_type": "markdown",
   "metadata": {
    "id": "hPfv2ls5hO8k"
   },
   "source": [
    "### Examples"
   ]
  },
  {
   "cell_type": "code",
   "execution_count": null,
   "metadata": {
    "id": "F8ALcfezV_DN"
   },
   "outputs": [],
   "source": [
    "filtration_length=100\n",
    "\n",
    "G=generate_small_world_correlation_matrix(90,0.02,1)\n",
    "costs=np.linspace(1/44,1,filtration_length)\n",
    "graph_filtration=generate_graph_sequence(G,costs)\n",
    "adjacency_matrix=from_filtration_to_adjacency(graph_filtration)\n",
    "\n",
    "# Instantiate topological transformer\n",
    "VR = VietorisRipsPersistence(metric=\"precomputed\",homology_dimensions=[1, 2,3,4])\n",
    "adjacency_matrix=[adjacency_matrix]\n",
    "\n",
    "# Compute persistence diagrams corresponding to each graph in X\n",
    "diagrams = VR.fit_transform(adjacency_matrix)\n",
    "VR.plot(diagrams, sample=0)\n",
    "\n",
    "betti_number_small_world=betti_numbers(diagrams,filtration_length)[0]\n",
    "entropy_small_world=[euler_entropy_betti(betti_number_small_world[i,:]) for i in range(filtration_length)] \n",
    "#for j in range(filtration_length):\n",
    " # x=betti_numbers(j+1,separate(diagrams))\n",
    " # y.append(x)\n",
    " # entropy.append(euler_entropy_betti(x))"
   ]
  },
  {
   "cell_type": "code",
   "execution_count": null,
   "metadata": {
    "id": "qMF_5gn82UVL"
   },
   "outputs": [],
   "source": [
    "\n",
    "filtration_length=100\n",
    "G=generate_Erdos_Renyi_correlation_matrix(90,1)\n",
    "costs=np.linspace(1/44,1,filtration_length)\n",
    "graph_filtration=generate_graph_sequence(G,costs)\n",
    "adjacency_matrix=from_filtration_to_adjacency(graph_filtration)\n",
    "#rint(adjacency_matrix)\n",
    "# Instantiate topological transformer\n",
    "VR = VietorisRipsPersistence(metric=\"precomputed\",homology_dimensions=[1, 2,3])\n",
    "adjacency_matrix=[adjacency_matrix]\n",
    "# Compute persistence diagrams corresponding to each graph in X\n",
    "diagrams = VR.fit_transform(adjacency_matrix)\n",
    "VR.plot(diagrams, sample=0)\n",
    "\n",
    "#save array to plot\n",
    "betti_number_erdos_renyi=betti_numbers(diagrams,filtration_length)[0]\n",
    "entropy_erdos_renyi=[euler_entropy_betti(betti_number_erdos_renyi[i,:]) for i in range(filtration_length)]  \n"
   ]
  },
  {
   "cell_type": "code",
   "execution_count": null,
   "metadata": {
    "id": "8NU36nm6n6EC"
   },
   "outputs": [],
   "source": [
    "#calcola i betti numbers con moltiplicità dato il diagramma)\n",
    "plt.plot(range(filtration_length),betti_number_small_world)\n",
    "plt.plot(range(filtration_length),betti_number_erdos_renyi)\n",
    "#plt.plot(range(filtration_length),y)\n",
    "#plt.plot(range(filtration_length),erdos)\n",
    "#y=[euler_entropy_cliques(graph) for graph in graph_filtration]\n",
    "#plt.plot(range(filtration_length),entropy)\n",
    "#betti_number\n",
    "#entropy"
   ]
  },
  {
   "cell_type": "code",
   "execution_count": null,
   "metadata": {
    "id": "bRkYddUDxFtf"
   },
   "outputs": [],
   "source": [
    "plt.plot(range(filtration_length),entropy_erdos_renyi)\n",
    "plt.plot(range(filtration_length),entropy_small_world)\n"
   ]
  },
  {
   "cell_type": "code",
   "execution_count": null,
   "metadata": {
    "id": "IxveG5pCtkSn"
   },
   "outputs": [],
   "source": [
    "s=30\n",
    "filtration_length=100\n",
    "#y1=[]\n",
    "#y2=[]\n",
    "#y3=[]\n",
    "#euler=[]\n",
    "#for i in range(s):\n",
    " # print(i)\n",
    "f=lambda i: generate_small_world_correlation_matrix(90,(i+1)/s,1)\n",
    "graphs=list(map(f,range(s)))\n",
    "costs=np.linspace(1/44,1,filtration_length)\n",
    "graph_filtrations=[generate_graph_sequence(g,costs) for g in graphs]\n",
    "adjacency_matrices=[from_filtration_to_adjacency(graph_filtration) for graph_filtration in graph_filtrations]\n",
    "adjacency_matrices\n",
    "  #rint(adjacency_matrix)\n",
    "  # Instantiate topological transformer\n",
    "VR = VietorisRipsPersistence(metric=\"precomputed\",homology_dimensions=[1, 2])\n",
    "#adjacency_matrix=[adjacency_matrix]\n",
    "  # Compute persistence diagrams corresponding to each graph in X\n",
    "diagrams = VR.fit_transform(adjacency_matrices)\n",
    "VR.plot(diagrams, sample=0)\n",
    "  #for j in range(filtration_length):\n",
    "  #  y1.append([j,(i+1)/s,betti_numbers(j+1,separate(diagrams))[0]])\n",
    "  #  y2.append([j,(i+1)/s,betti_numbers(j+1,separate(diagrams))[1]])\n",
    "  #  y3.append([j,(i+1)/s,betti_numbers(j+1,separate(diagrams))[2]])\n",
    "  #  euler.append([j,(i+1)/s,euler_entropy_betti(betti_numbers(j+1,separate(diagrams)))])"
   ]
  },
  {
   "cell_type": "code",
   "execution_count": null,
   "metadata": {
    "id": "gtRWD01BsCQh"
   },
   "outputs": [],
   "source": [
    "VR.plot([diagrams[9]], sample=0)\n",
    "z=betti_numbers(diagrams,filtration_length)\n",
    "entropy=[[euler_entropy_betti(betti_numbers_graph[i,:]) for i in range(filtration_length)] for betti_numbers_graph in z]  \n",
    "entropy\n",
    "z=np.asarray(z)\n",
    "np.shape(z)\n",
    "z=z.reshape((30*100,2))\n",
    "#z[:,0]"
   ]
  },
  {
   "cell_type": "code",
   "execution_count": null,
   "metadata": {
    "id": "Lq1NFZvOwr5Y"
   },
   "outputs": [],
   "source": [
    "\n",
    "fig = plt.figure()\n",
    "ax = plt.axes(projection='3d')\n",
    "x=np.tile(np.asarray(range(filtration_length)),s)\n",
    "#z=y[:,0]\n",
    "y=np.repeat(np.linspace(1/s,1,s),filtration_length)\n",
    "#print(x)\n",
    "#print(y)\n",
    "#print(z)\n",
    "ax.scatter3D(x,y,z[:,0], cmap='Greens')"
   ]
  },
  {
   "cell_type": "code",
   "execution_count": null,
   "metadata": {
    "id": "zOdlA7I_vOfM"
   },
   "outputs": [],
   "source": [
    "(np.asarray(range(s))+1)/s\n",
    "#np.asarray(range(filtration_length))"
   ]
  },
  {
   "cell_type": "markdown",
   "metadata": {
    "id": "A5dilQQuvOIm"
   },
   "source": []
  },
  {
   "cell_type": "code",
   "execution_count": null,
   "metadata": {
    "id": "FUJ31PfTkQr8"
   },
   "outputs": [],
   "source": [
    "\n",
    "fig = plt.figure()\n",
    "ax = plt.axes(projection='3d')\n",
    "ax.scatter3D(np.transpose(y2)[0],np.transpose(y2)[1],np.transpose(y2)[2] , cmap='Greens')"
   ]
  },
  {
   "cell_type": "code",
   "execution_count": null,
   "metadata": {
    "id": "yGXN_dsDkRTd"
   },
   "outputs": [],
   "source": [
    "\n",
    "fig = plt.figure()\n",
    "ax = plt.axes(projection='3d')\n",
    "ax.scatter3D(np.transpose(y3)[0],np.transpose(y3)[1],np.transpose(y3)[2] , cmap='Greens')"
   ]
  },
  {
   "cell_type": "code",
   "execution_count": null,
   "metadata": {
    "id": "IxjWXbulo8E3"
   },
   "outputs": [],
   "source": [
    "\n",
    "fig = plt.figure()\n",
    "ax = plt.axes(projection='3d')\n",
    "ax.scatter3D(entropy[0],entropy[1],entropy[2] , cmap='Greens')"
   ]
  },
  {
   "cell_type": "markdown",
   "metadata": {
    "id": "vG9G7z4Bvvux"
   },
   "source": [
    "## Brain correlation matrix\n"
   ]
  },
  {
   "cell_type": "markdown",
   "metadata": {
    "id": "izbifdai4jHV"
   },
   "source": [
    "We clone the Github repo"
   ]
  },
  {
   "cell_type": "code",
   "execution_count": 3,
   "metadata": {
    "colab": {
     "base_uri": "https://localhost:8080/"
    },
    "id": "pX4FcsYg0z3M",
    "outputId": "e957356a-fb89-4e58-dcd8-c3d2efd7f9db"
   },
   "outputs": [
    {
     "name": "stdout",
     "output_type": "stream",
     "text": [
      "Cloning into 'regional-differentiation-based-on-graph-nodal-statistics-for-functional-brain-connectivity-networks-characterization'...\n",
      "remote: Enumerating objects: 1274, done.\u001b[K\n",
      "remote: Total 1274 (delta 0), reused 0 (delta 0), pack-reused 1274\n",
      "Receiving objects: 100% (1274/1274), 15.02 MiB | 8.02 MiB/s, done.\n",
      "Resolving deltas: 100% (999/999), done.\n"
     ]
    }
   ],
   "source": [
    "!git clone https://gricad-gitlab.univ-grenoble-alpes.fr/carbonil/regional-differentiation-based-on-graph-nodal-statistics-for-functional-brain-connectivity-networks-characterization.git"
   ]
  },
  {
   "cell_type": "markdown",
   "metadata": {
    "id": "if-Lve5UZo4B"
   },
   "source": [
    "### Importing correlation matrices\n",
    "I'm trying to import the correlation matrices as pandas dataframes"
   ]
  },
  {
   "cell_type": "code",
   "execution_count": 4,
   "metadata": {
    "id": "fbhd42_DcQWw"
   },
   "outputs": [],
   "source": [
    "path=\"/content/regional-differentiation-based-on-graph-nodal-statistics-for-functional-brain-connectivity-networks-characterization/DATA/cor_mat_HCP_90\"\n",
    "files=os.listdir(path) #make a list of all the files' names at the path \n",
    "cor_mats_HCP_90_df=[pd.read_csv(path+\"/\"+file,delim_whitespace=True,header=None) for file in files]"
   ]
  },
  {
   "cell_type": "markdown",
   "metadata": {
    "id": "HMooM7DFeXk3"
   },
   "source": [
    "Now I have imported all files in cor_mat_HCP_90. Let's do the same for the files in cor_mat_coma. They have a sligthly different structure"
   ]
  },
  {
   "cell_type": "code",
   "execution_count": 5,
   "metadata": {
    "id": "lgC0_bg8e5oB"
   },
   "outputs": [],
   "source": [
    "path=\"/content/regional-differentiation-based-on-graph-nodal-statistics-for-functional-brain-connectivity-networks-characterization/DATA/cor_mat_coma\"\n",
    "files=os.listdir(path) #make a list of all the files' names at the path \n",
    "cor_mats_coma_df=[pd.read_csv(path+\"/\"+file,delim_whitespace=True) for file in files]\n"
   ]
  },
  {
   "cell_type": "markdown",
   "metadata": {
    "id": "1R4-rmmne09Y"
   },
   "source": [
    "Now we have imported all the correlation matrices as list of pandas dataframes.\n",
    "Let's save them also as numpy arrays"
   ]
  },
  {
   "cell_type": "code",
   "execution_count": 6,
   "metadata": {
    "id": "rIac4Eh-hSzo"
   },
   "outputs": [],
   "source": [
    "cor_mats_HCP_90=[df.to_numpy() for df in cor_mats_HCP_90_df]\n",
    "cor_mats_coma=[df.to_numpy() for df in cor_mats_coma_df]"
   ]
  },
  {
   "cell_type": "markdown",
   "metadata": {
    "id": "SyvWy0MjgQwZ"
   },
   "source": [
    "### Compute some persistence diagrams"
   ]
  },
  {
   "cell_type": "markdown",
   "metadata": {
    "id": "WgCiambKtViE"
   },
   "source": [
    "There I compute the persistance diagrams of the cor_mats in coma and save it in the file /data.diagrams_coma"
   ]
  },
  {
   "cell_type": "code",
   "execution_count": null,
   "metadata": {
    "id": "98iqVKIHge3H"
   },
   "outputs": [],
   "source": [
    "costs=np.linspace(1/44,1, 100)\n",
    "diagrams_coma,VR_coma=custom_vietoris_persistance(cor_mats_coma,costs,[1,2,3,4],plot=False)"
   ]
  },
  {
   "cell_type": "code",
   "execution_count": null,
   "metadata": {
    "id": "-5BQh5FigOZy"
   },
   "outputs": [],
   "source": [
    "VR_coma.plot(diagrams_coma, sample=9)"
   ]
  },
  {
   "cell_type": "markdown",
   "metadata": {
    "id": "yD7Yj-6-f2OI"
   },
   "source": [
    "Now I want to save this data using pickle"
   ]
  },
  {
   "cell_type": "code",
   "execution_count": null,
   "metadata": {
    "id": "LaCX3a5Pr22F"
   },
   "outputs": [],
   "source": [
    "import pickle"
   ]
  },
  {
   "cell_type": "code",
   "execution_count": null,
   "metadata": {
    "colab": {
     "base_uri": "https://localhost:8080/",
     "height": 183
    },
    "id": "NUeX_ZInf1Nu",
    "outputId": "96d594b3-1c17-41b3-914d-24ee63e62db0"
   },
   "outputs": [
    {
     "ename": "NameError",
     "evalue": "ignored",
     "output_type": "error",
     "traceback": [
      "\u001b[0;31m---------------------------------------------------------------------------\u001b[0m",
      "\u001b[0;31mNameError\u001b[0m                                 Traceback (most recent call last)",
      "\u001b[0;32m<ipython-input-45-56ba8fd0f08f>\u001b[0m in \u001b[0;36m<module>\u001b[0;34m()\u001b[0m\n\u001b[1;32m      1\u001b[0m \u001b[0;32mwith\u001b[0m \u001b[0mopen\u001b[0m\u001b[0;34m(\u001b[0m\u001b[0;34m\"/data.diagrams_coma\"\u001b[0m\u001b[0;34m,\u001b[0m \u001b[0;34m\"wb\"\u001b[0m\u001b[0;34m)\u001b[0m \u001b[0;32mas\u001b[0m \u001b[0mf\u001b[0m\u001b[0;34m:\u001b[0m\u001b[0;34m\u001b[0m\u001b[0;34m\u001b[0m\u001b[0m\n\u001b[0;32m----> 2\u001b[0;31m   \u001b[0mpickle\u001b[0m\u001b[0;34m.\u001b[0m\u001b[0mdump\u001b[0m\u001b[0;34m(\u001b[0m\u001b[0;34m(\u001b[0m\u001b[0mdiagrams_coma\u001b[0m\u001b[0;34m,\u001b[0m\u001b[0mVR_coma\u001b[0m\u001b[0;34m)\u001b[0m\u001b[0;34m,\u001b[0m \u001b[0mf\u001b[0m\u001b[0;34m,\u001b[0m \u001b[0mprotocol\u001b[0m\u001b[0;34m=\u001b[0m\u001b[0mpickle\u001b[0m\u001b[0;34m.\u001b[0m\u001b[0mHIGHEST_PROTOCOL\u001b[0m\u001b[0;34m)\u001b[0m\u001b[0;34m\u001b[0m\u001b[0;34m\u001b[0m\u001b[0m\n\u001b[0m",
      "\u001b[0;31mNameError\u001b[0m: name 'diagrams_coma' is not defined"
     ]
    }
   ],
   "source": [
    "with open(\"/content/TDA_grenoble/data.diagrams_coma\", \"wb\") as f:\n",
    "  pickle.dump((diagrams_coma,VR_coma), f, protocol=pickle.HIGHEST_PROTOCOL)"
   ]
  },
  {
   "cell_type": "code",
   "execution_count": 9,
   "metadata": {
    "colab": {
     "base_uri": "https://localhost:8080/",
     "height": 184
    },
    "id": "beI8bhG1s5bK",
    "outputId": "cbf5d542-16c5-4ab8-806c-245fb13ed12c"
   },
   "outputs": [
    {
     "ename": "FileNotFoundError",
     "evalue": "ignored",
     "output_type": "error",
     "traceback": [
      "\u001b[0;31m---------------------------------------------------------------------------\u001b[0m",
      "\u001b[0;31mFileNotFoundError\u001b[0m                         Traceback (most recent call last)",
      "\u001b[0;32m<ipython-input-9-9139a0709b5e>\u001b[0m in \u001b[0;36m<module>\u001b[0;34m()\u001b[0m\n\u001b[0;32m----> 1\u001b[0;31m \u001b[0;32mwith\u001b[0m \u001b[0mopen\u001b[0m\u001b[0;34m(\u001b[0m\u001b[0;34m\"/data.diagrams_coma\"\u001b[0m\u001b[0;34m,\u001b[0m \u001b[0;34m\"rb\"\u001b[0m\u001b[0;34m)\u001b[0m \u001b[0;32mas\u001b[0m \u001b[0mf\u001b[0m\u001b[0;34m:\u001b[0m\u001b[0;34m\u001b[0m\u001b[0;34m\u001b[0m\u001b[0m\n\u001b[0m\u001b[1;32m      2\u001b[0m   \u001b[0;34m(\u001b[0m\u001b[0mdiagrams_coma\u001b[0m\u001b[0;34m,\u001b[0m\u001b[0mVR_coma\u001b[0m\u001b[0;34m)\u001b[0m\u001b[0;34m=\u001b[0m\u001b[0mpickle\u001b[0m\u001b[0;34m.\u001b[0m\u001b[0mload\u001b[0m\u001b[0;34m(\u001b[0m\u001b[0mf\u001b[0m\u001b[0;34m)\u001b[0m\u001b[0;34m\u001b[0m\u001b[0;34m\u001b[0m\u001b[0m\n",
      "\u001b[0;31mFileNotFoundError\u001b[0m: [Errno 2] No such file or directory: '/data.diagrams_coma'"
     ]
    }
   ],
   "source": [
    "with open(\"/content/TDA_grenoble/data.diagrams_coma\",\"rb\") as f:\n",
    "  (diagrams_coma,VR_coma)=pickle.load(f)"
   ]
  },
  {
   "cell_type": "markdown",
   "metadata": {
    "id": "lQFbqtgNts1w"
   },
   "source": [
    "Now, I'll do the same as before with the HTC_90 Folder"
   ]
  },
  {
   "cell_type": "code",
   "execution_count": null,
   "metadata": {
    "colab": {
     "base_uri": "https://localhost:8080/",
     "height": 328
    },
    "id": "7J4hXUlvuBXt",
    "outputId": "8a873f03-cafb-4cee-cfd0-5d72bae83681"
   },
   "outputs": [
    {
     "ename": "KeyboardInterrupt",
     "evalue": "ignored",
     "output_type": "error",
     "traceback": [
      "\u001b[0;31m---------------------------------------------------------------------------\u001b[0m",
      "\u001b[0;31mKeyboardInterrupt\u001b[0m                         Traceback (most recent call last)",
      "\u001b[0;32m<ipython-input-46-f3b84bcf3fac>\u001b[0m in \u001b[0;36m<module>\u001b[0;34m()\u001b[0m\n\u001b[1;32m      1\u001b[0m \u001b[0mcosts\u001b[0m\u001b[0;34m=\u001b[0m\u001b[0mnp\u001b[0m\u001b[0;34m.\u001b[0m\u001b[0mlinspace\u001b[0m\u001b[0;34m(\u001b[0m\u001b[0;36m1\u001b[0m\u001b[0;34m/\u001b[0m\u001b[0;36m44\u001b[0m\u001b[0;34m,\u001b[0m\u001b[0;36m1\u001b[0m\u001b[0;34m,\u001b[0m \u001b[0;36m100\u001b[0m\u001b[0;34m)\u001b[0m\u001b[0;34m\u001b[0m\u001b[0;34m\u001b[0m\u001b[0m\n\u001b[0;32m----> 2\u001b[0;31m \u001b[0mdiagrams_HCP_90\u001b[0m\u001b[0;34m,\u001b[0m\u001b[0mVR_HCP_90\u001b[0m\u001b[0;34m=\u001b[0m\u001b[0mcustom_vietoris_persistance\u001b[0m\u001b[0;34m(\u001b[0m\u001b[0mcor_mats_HCP_90\u001b[0m\u001b[0;34m,\u001b[0m\u001b[0mcosts\u001b[0m\u001b[0;34m,\u001b[0m\u001b[0;34m[\u001b[0m\u001b[0;36m1\u001b[0m\u001b[0;34m,\u001b[0m\u001b[0;36m2\u001b[0m\u001b[0;34m,\u001b[0m\u001b[0;36m3\u001b[0m\u001b[0;34m,\u001b[0m\u001b[0;36m4\u001b[0m\u001b[0;34m]\u001b[0m\u001b[0;34m,\u001b[0m\u001b[0mplot\u001b[0m\u001b[0;34m=\u001b[0m\u001b[0;32mFalse\u001b[0m\u001b[0;34m)\u001b[0m\u001b[0;34m\u001b[0m\u001b[0;34m\u001b[0m\u001b[0m\n\u001b[0m",
      "\u001b[0;32m<ipython-input-24-98680d856db5>\u001b[0m in \u001b[0;36mcustom_vietoris_persistance\u001b[0;34m(corr_mats, costs, homology_dimensions, plot)\u001b[0m\n\u001b[1;32m     20\u001b[0m \u001b[0;34m\u001b[0m\u001b[0m\n\u001b[1;32m     21\u001b[0m   \u001b[0;31m#generate filtrations\u001b[0m\u001b[0;34m\u001b[0m\u001b[0;34m\u001b[0m\u001b[0;34m\u001b[0m\u001b[0m\n\u001b[0;32m---> 22\u001b[0;31m   \u001b[0mgraph_filtrations\u001b[0m \u001b[0;34m=\u001b[0m \u001b[0;34m[\u001b[0m\u001b[0mgenerate_graph_sequence\u001b[0m\u001b[0;34m(\u001b[0m\u001b[0mg\u001b[0m\u001b[0;34m,\u001b[0m\u001b[0mcosts\u001b[0m\u001b[0;34m)\u001b[0m \u001b[0;32mfor\u001b[0m \u001b[0mg\u001b[0m \u001b[0;32min\u001b[0m \u001b[0mcorr_mats\u001b[0m\u001b[0;34m]\u001b[0m\u001b[0;34m\u001b[0m\u001b[0;34m\u001b[0m\u001b[0m\n\u001b[0m\u001b[1;32m     23\u001b[0m   \u001b[0;31m#generate adjacency matrices\u001b[0m\u001b[0;34m\u001b[0m\u001b[0;34m\u001b[0m\u001b[0;34m\u001b[0m\u001b[0m\n\u001b[1;32m     24\u001b[0m   \u001b[0madjacency_matrices\u001b[0m \u001b[0;34m=\u001b[0m \u001b[0;34m[\u001b[0m\u001b[0mfrom_filtration_to_adjacency\u001b[0m\u001b[0;34m(\u001b[0m\u001b[0mgraph_filtration\u001b[0m\u001b[0;34m)\u001b[0m \u001b[0;32mfor\u001b[0m \u001b[0mgraph_filtration\u001b[0m \u001b[0;32min\u001b[0m \u001b[0mgraph_filtrations\u001b[0m\u001b[0;34m]\u001b[0m\u001b[0;34m\u001b[0m\u001b[0;34m\u001b[0m\u001b[0m\n",
      "\u001b[0;32m<ipython-input-24-98680d856db5>\u001b[0m in \u001b[0;36m<listcomp>\u001b[0;34m(.0)\u001b[0m\n\u001b[1;32m     20\u001b[0m \u001b[0;34m\u001b[0m\u001b[0m\n\u001b[1;32m     21\u001b[0m   \u001b[0;31m#generate filtrations\u001b[0m\u001b[0;34m\u001b[0m\u001b[0;34m\u001b[0m\u001b[0;34m\u001b[0m\u001b[0m\n\u001b[0;32m---> 22\u001b[0;31m   \u001b[0mgraph_filtrations\u001b[0m \u001b[0;34m=\u001b[0m \u001b[0;34m[\u001b[0m\u001b[0mgenerate_graph_sequence\u001b[0m\u001b[0;34m(\u001b[0m\u001b[0mg\u001b[0m\u001b[0;34m,\u001b[0m\u001b[0mcosts\u001b[0m\u001b[0;34m)\u001b[0m \u001b[0;32mfor\u001b[0m \u001b[0mg\u001b[0m \u001b[0;32min\u001b[0m \u001b[0mcorr_mats\u001b[0m\u001b[0;34m]\u001b[0m\u001b[0;34m\u001b[0m\u001b[0;34m\u001b[0m\u001b[0m\n\u001b[0m\u001b[1;32m     23\u001b[0m   \u001b[0;31m#generate adjacency matrices\u001b[0m\u001b[0;34m\u001b[0m\u001b[0;34m\u001b[0m\u001b[0;34m\u001b[0m\u001b[0m\n\u001b[1;32m     24\u001b[0m   \u001b[0madjacency_matrices\u001b[0m \u001b[0;34m=\u001b[0m \u001b[0;34m[\u001b[0m\u001b[0mfrom_filtration_to_adjacency\u001b[0m\u001b[0;34m(\u001b[0m\u001b[0mgraph_filtration\u001b[0m\u001b[0;34m)\u001b[0m \u001b[0;32mfor\u001b[0m \u001b[0mgraph_filtration\u001b[0m \u001b[0;32min\u001b[0m \u001b[0mgraph_filtrations\u001b[0m\u001b[0;34m]\u001b[0m\u001b[0;34m\u001b[0m\u001b[0;34m\u001b[0m\u001b[0m\n",
      "\u001b[0;32m/usr/local/lib/python3.7/dist-packages/networkx/convert_matrix.py\u001b[0m in \u001b[0;36mfrom_numpy_matrix\u001b[0;34m(A, parallel_edges, create_using)\u001b[0m\n\u001b[1;32m    685\u001b[0m         \u001b[0mDeprecationWarning\u001b[0m\u001b[0;34m,\u001b[0m\u001b[0;34m\u001b[0m\u001b[0;34m\u001b[0m\u001b[0m\n\u001b[1;32m    686\u001b[0m     )\n\u001b[0;32m--> 687\u001b[0;31m     \u001b[0;32mreturn\u001b[0m \u001b[0mfrom_numpy_array\u001b[0m\u001b[0;34m(\u001b[0m\u001b[0mA\u001b[0m\u001b[0;34m,\u001b[0m \u001b[0mparallel_edges\u001b[0m\u001b[0;34m=\u001b[0m\u001b[0mparallel_edges\u001b[0m\u001b[0;34m,\u001b[0m \u001b[0mcreate_using\u001b[0m\u001b[0;34m=\u001b[0m\u001b[0mcreate_using\u001b[0m\u001b[0;34m)\u001b[0m\u001b[0;34m\u001b[0m\u001b[0;34m\u001b[0m\u001b[0m\n\u001b[0m\u001b[1;32m    688\u001b[0m \u001b[0;34m\u001b[0m\u001b[0m\n\u001b[1;32m    689\u001b[0m \u001b[0;34m\u001b[0m\u001b[0m\n",
      "\u001b[0;32m/usr/local/lib/python3.7/dist-packages/networkx/convert_matrix.py\u001b[0m in \u001b[0;36mfrom_numpy_array\u001b[0;34m(A, parallel_edges, create_using)\u001b[0m\n\u001b[1;32m   1412\u001b[0m     \u001b[0;32mif\u001b[0m \u001b[0mG\u001b[0m\u001b[0;34m.\u001b[0m\u001b[0mis_multigraph\u001b[0m\u001b[0;34m(\u001b[0m\u001b[0;34m)\u001b[0m \u001b[0;32mand\u001b[0m \u001b[0;32mnot\u001b[0m \u001b[0mG\u001b[0m\u001b[0;34m.\u001b[0m\u001b[0mis_directed\u001b[0m\u001b[0;34m(\u001b[0m\u001b[0;34m)\u001b[0m\u001b[0;34m:\u001b[0m\u001b[0;34m\u001b[0m\u001b[0;34m\u001b[0m\u001b[0m\n\u001b[1;32m   1413\u001b[0m         \u001b[0mtriples\u001b[0m \u001b[0;34m=\u001b[0m \u001b[0;34m(\u001b[0m\u001b[0;34m(\u001b[0m\u001b[0mu\u001b[0m\u001b[0;34m,\u001b[0m \u001b[0mv\u001b[0m\u001b[0;34m,\u001b[0m \u001b[0md\u001b[0m\u001b[0;34m)\u001b[0m \u001b[0;32mfor\u001b[0m \u001b[0mu\u001b[0m\u001b[0;34m,\u001b[0m \u001b[0mv\u001b[0m\u001b[0;34m,\u001b[0m \u001b[0md\u001b[0m \u001b[0;32min\u001b[0m \u001b[0mtriples\u001b[0m \u001b[0;32mif\u001b[0m \u001b[0mu\u001b[0m \u001b[0;34m<=\u001b[0m \u001b[0mv\u001b[0m\u001b[0;34m)\u001b[0m\u001b[0;34m\u001b[0m\u001b[0;34m\u001b[0m\u001b[0m\n\u001b[0;32m-> 1414\u001b[0;31m     \u001b[0mG\u001b[0m\u001b[0;34m.\u001b[0m\u001b[0madd_edges_from\u001b[0m\u001b[0;34m(\u001b[0m\u001b[0mtriples\u001b[0m\u001b[0;34m)\u001b[0m\u001b[0;34m\u001b[0m\u001b[0;34m\u001b[0m\u001b[0m\n\u001b[0m\u001b[1;32m   1415\u001b[0m     \u001b[0;32mreturn\u001b[0m \u001b[0mG\u001b[0m\u001b[0;34m\u001b[0m\u001b[0;34m\u001b[0m\u001b[0m\n",
      "\u001b[0;32m/usr/local/lib/python3.7/dist-packages/networkx/classes/graph.py\u001b[0m in \u001b[0;36madd_edges_from\u001b[0;34m(self, ebunch_to_add, **attr)\u001b[0m\n\u001b[1;32m    931\u001b[0m         \u001b[0;34m>>\u001b[0m\u001b[0;34m>\u001b[0m \u001b[0mG\u001b[0m\u001b[0;34m.\u001b[0m\u001b[0madd_edges_from\u001b[0m\u001b[0;34m(\u001b[0m\u001b[0;34m[\u001b[0m\u001b[0;34m(\u001b[0m\u001b[0;36m3\u001b[0m\u001b[0;34m,\u001b[0m \u001b[0;36m4\u001b[0m\u001b[0;34m)\u001b[0m\u001b[0;34m,\u001b[0m \u001b[0;34m(\u001b[0m\u001b[0;36m1\u001b[0m\u001b[0;34m,\u001b[0m \u001b[0;36m4\u001b[0m\u001b[0;34m)\u001b[0m\u001b[0;34m]\u001b[0m\u001b[0;34m,\u001b[0m \u001b[0mlabel\u001b[0m\u001b[0;34m=\u001b[0m\u001b[0;34m\"WN2898\"\u001b[0m\u001b[0;34m)\u001b[0m\u001b[0;34m\u001b[0m\u001b[0;34m\u001b[0m\u001b[0m\n\u001b[1;32m    932\u001b[0m         \"\"\"\n\u001b[0;32m--> 933\u001b[0;31m         \u001b[0;32mfor\u001b[0m \u001b[0me\u001b[0m \u001b[0;32min\u001b[0m \u001b[0mebunch_to_add\u001b[0m\u001b[0;34m:\u001b[0m\u001b[0;34m\u001b[0m\u001b[0;34m\u001b[0m\u001b[0m\n\u001b[0m\u001b[1;32m    934\u001b[0m             \u001b[0mne\u001b[0m \u001b[0;34m=\u001b[0m \u001b[0mlen\u001b[0m\u001b[0;34m(\u001b[0m\u001b[0me\u001b[0m\u001b[0;34m)\u001b[0m\u001b[0;34m\u001b[0m\u001b[0;34m\u001b[0m\u001b[0m\n\u001b[1;32m    935\u001b[0m             \u001b[0;32mif\u001b[0m \u001b[0mne\u001b[0m \u001b[0;34m==\u001b[0m \u001b[0;36m3\u001b[0m\u001b[0;34m:\u001b[0m\u001b[0;34m\u001b[0m\u001b[0;34m\u001b[0m\u001b[0m\n",
      "\u001b[0;32m/usr/local/lib/python3.7/dist-packages/networkx/convert_matrix.py\u001b[0m in \u001b[0;36m<genexpr>\u001b[0;34m(.0)\u001b[0m\n\u001b[1;32m   1401\u001b[0m         )\n\u001b[1;32m   1402\u001b[0m     \u001b[0;32melse\u001b[0m\u001b[0;34m:\u001b[0m  \u001b[0;31m# basic data type\u001b[0m\u001b[0;34m\u001b[0m\u001b[0;34m\u001b[0m\u001b[0m\n\u001b[0;32m-> 1403\u001b[0;31m         \u001b[0mtriples\u001b[0m \u001b[0;34m=\u001b[0m \u001b[0;34m(\u001b[0m\u001b[0;34m(\u001b[0m\u001b[0mu\u001b[0m\u001b[0;34m,\u001b[0m \u001b[0mv\u001b[0m\u001b[0;34m,\u001b[0m \u001b[0mdict\u001b[0m\u001b[0;34m(\u001b[0m\u001b[0mweight\u001b[0m\u001b[0;34m=\u001b[0m\u001b[0mpython_type\u001b[0m\u001b[0;34m(\u001b[0m\u001b[0mA\u001b[0m\u001b[0;34m[\u001b[0m\u001b[0mu\u001b[0m\u001b[0;34m,\u001b[0m \u001b[0mv\u001b[0m\u001b[0;34m]\u001b[0m\u001b[0;34m)\u001b[0m\u001b[0;34m)\u001b[0m\u001b[0;34m)\u001b[0m \u001b[0;32mfor\u001b[0m \u001b[0mu\u001b[0m\u001b[0;34m,\u001b[0m \u001b[0mv\u001b[0m \u001b[0;32min\u001b[0m \u001b[0medges\u001b[0m\u001b[0;34m)\u001b[0m\u001b[0;34m\u001b[0m\u001b[0;34m\u001b[0m\u001b[0m\n\u001b[0m\u001b[1;32m   1404\u001b[0m     \u001b[0;31m# If we are creating an undirected multigraph, only add the edges from the\u001b[0m\u001b[0;34m\u001b[0m\u001b[0;34m\u001b[0m\u001b[0;34m\u001b[0m\u001b[0m\n\u001b[1;32m   1405\u001b[0m     \u001b[0;31m# upper triangle of the matrix. Otherwise, add all the edges. This relies\u001b[0m\u001b[0;34m\u001b[0m\u001b[0;34m\u001b[0m\u001b[0;34m\u001b[0m\u001b[0m\n",
      "\u001b[0;32m/usr/local/lib/python3.7/dist-packages/networkx/convert_matrix.py\u001b[0m in \u001b[0;36m<genexpr>\u001b[0;34m(.0)\u001b[0m\n\u001b[1;32m   1366\u001b[0m     \u001b[0;31m# Get a list of all the entries in the array with nonzero entries. These\u001b[0m\u001b[0;34m\u001b[0m\u001b[0;34m\u001b[0m\u001b[0;34m\u001b[0m\u001b[0m\n\u001b[1;32m   1367\u001b[0m     \u001b[0;31m# coordinates become edges in the graph. (convert to int from np.int64)\u001b[0m\u001b[0;34m\u001b[0m\u001b[0;34m\u001b[0m\u001b[0;34m\u001b[0m\u001b[0m\n\u001b[0;32m-> 1368\u001b[0;31m     \u001b[0medges\u001b[0m \u001b[0;34m=\u001b[0m \u001b[0;34m(\u001b[0m\u001b[0;34m(\u001b[0m\u001b[0mint\u001b[0m\u001b[0;34m(\u001b[0m\u001b[0me\u001b[0m\u001b[0;34m[\u001b[0m\u001b[0;36m0\u001b[0m\u001b[0;34m]\u001b[0m\u001b[0;34m)\u001b[0m\u001b[0;34m,\u001b[0m \u001b[0mint\u001b[0m\u001b[0;34m(\u001b[0m\u001b[0me\u001b[0m\u001b[0;34m[\u001b[0m\u001b[0;36m1\u001b[0m\u001b[0;34m]\u001b[0m\u001b[0;34m)\u001b[0m\u001b[0;34m)\u001b[0m \u001b[0;32mfor\u001b[0m \u001b[0me\u001b[0m \u001b[0;32min\u001b[0m \u001b[0mzip\u001b[0m\u001b[0;34m(\u001b[0m\u001b[0;34m*\u001b[0m\u001b[0mA\u001b[0m\u001b[0;34m.\u001b[0m\u001b[0mnonzero\u001b[0m\u001b[0;34m(\u001b[0m\u001b[0;34m)\u001b[0m\u001b[0;34m)\u001b[0m\u001b[0;34m)\u001b[0m\u001b[0;34m\u001b[0m\u001b[0;34m\u001b[0m\u001b[0m\n\u001b[0m\u001b[1;32m   1369\u001b[0m     \u001b[0;31m# handle numpy constructed data type\u001b[0m\u001b[0;34m\u001b[0m\u001b[0;34m\u001b[0m\u001b[0;34m\u001b[0m\u001b[0m\n\u001b[1;32m   1370\u001b[0m     \u001b[0;32mif\u001b[0m \u001b[0mpython_type\u001b[0m \u001b[0;34m==\u001b[0m \u001b[0;34m\"void\"\u001b[0m\u001b[0;34m:\u001b[0m\u001b[0;34m\u001b[0m\u001b[0;34m\u001b[0m\u001b[0m\n",
      "\u001b[0;31mKeyboardInterrupt\u001b[0m: "
     ]
    }
   ],
   "source": [
    "costs=np.linspace(1/44,1, 100)\n",
    "diagrams_HCP_90,VR_HCP_90=custom_vietoris_persistance(cor_mats_HCP_90,costs,[1,2,3,4],plot=False)"
   ]
  },
  {
   "cell_type": "code",
   "execution_count": null,
   "metadata": {
    "id": "MxqDr_DyuHSr"
   },
   "outputs": [],
   "source": [
    "VR_HCP_90.plot(diagrams_HCP_90, sample=9)"
   ]
  },
  {
   "cell_type": "code",
   "execution_count": null,
   "metadata": {
    "id": "ASEIk_XDucEp"
   },
   "outputs": [],
   "source": [
    "with open(\"/content/TDA_grenoble/data.diagrams_HCP_90\", \"wb\") as f:\n",
    "  pickle.dump((diagrams_HCP_90,VR_HCP_90), f, protocol=pickle.HIGHEST_PROTOCOL)"
   ]
  },
  {
   "cell_type": "code",
   "execution_count": 10,
   "metadata": {
    "id": "NsniV-BTG5FI"
   },
   "outputs": [],
   "source": [
    "with open(\"/content/TDA_grenoble/data.diagrams_HCP_90\", \"rb\") as f:\n",
    "  (diagrams_HCP_90,VR_HCP_90)=pickle.load(f)\n"
   ]
  },
  {
   "cell_type": "code",
   "execution_count": 22,
   "metadata": {
    "colab": {
     "base_uri": "https://localhost:8080/",
     "height": 517
    },
    "id": "BqN4abo-HCf5",
    "outputId": "8ab4ac39-dd1e-41db-a04a-62eacbaac225"
   },
   "outputs": [
    {
     "data": {
      "text/html": [
       "<html>\n",
       "<head><meta charset=\"utf-8\" /></head>\n",
       "<body>\n",
       "    <div>            <script src=\"https://cdnjs.cloudflare.com/ajax/libs/mathjax/2.7.5/MathJax.js?config=TeX-AMS-MML_SVG\"></script><script type=\"text/javascript\">if (window.MathJax) {MathJax.Hub.Config({SVG: {font: \"STIX-Web\"}});}</script>                <script type=\"text/javascript\">window.PlotlyConfig = {MathJaxConfig: 'local'};</script>\n",
       "        <script src=\"https://cdn.plot.ly/plotly-2.8.3.min.js\"></script>                <div id=\"1f91f82c-af5a-4520-9af5-b4ce17137e6f\" class=\"plotly-graph-div\" style=\"height:500px; width:500px;\"></div>            <script type=\"text/javascript\">                                    window.PLOTLYENV=window.PLOTLYENV || {};                                    if (document.getElementById(\"1f91f82c-af5a-4520-9af5-b4ce17137e6f\")) {                    Plotly.newPlot(                        \"1f91f82c-af5a-4520-9af5-b4ce17137e6f\",                        [{\"hoverinfo\":\"none\",\"line\":{\"color\":\"black\",\"dash\":\"dash\",\"width\":1},\"mode\":\"lines\",\"showlegend\":false,\"x\":[0.5,78.5],\"y\":[0.5,78.5],\"type\":\"scatter\"},{\"hoverinfo\":\"text\",\"hovertext\":[\"(73.0, 74.0)\",\"(42.0, 51.0)\",\"(35.0, 37.0)\",\"(34.0, 43.0)\",\"(25.0, 32.0)\",\"(23.0, 25.0)\",\"(23.0, 31.0)\",\"(19.0, 20.0)\",\"(17.0, 24.0)\",\"(10.0, 19.0)\",\"(9.0, 11.0), multiplicity: 2\",\"(9.0, 12.0)\",\"(9.0, 11.0), multiplicity: 2\",\"(7.0, 14.0)\",\"(7.0, 8.0)\",\"(7.0, 9.0)\",\"(5.0, 6.0), multiplicity: 2\",\"(5.0, 26.0)\",\"(5.0, 6.0), multiplicity: 2\",\"(3.0, 7.0), multiplicity: 2\",\"(3.0, 8.0)\",\"(3.0, 6.0)\",\"(3.0, 7.0), multiplicity: 2\",\"(2.0, 5.0), multiplicity: 2\",\"(2.0, 5.0), multiplicity: 2\"],\"mode\":\"markers\",\"name\":\"H1\",\"x\":[73.0,42.0,35.0,34.0,25.0,23.0,23.0,19.0,17.0,10.0,9.0,9.0,9.0,7.0,7.0,7.0,5.0,5.0,5.0,3.0,3.0,3.0,3.0,2.0,2.0],\"y\":[74.0,51.0,37.0,43.0,32.0,25.0,31.0,20.0,24.0,19.0,11.0,12.0,11.0,14.0,8.0,9.0,6.0,26.0,6.0,7.0,8.0,6.0,7.0,5.0,5.0],\"type\":\"scatter\"},{\"hoverinfo\":\"text\",\"hovertext\":[\"(66.0, 69.0)\",\"(64.0, 66.0)\",\"(39.0, 51.0)\",\"(35.0, 37.0)\",\"(35.0, 40.0)\",\"(33.0, 35.0)\",\"(32.0, 37.0)\",\"(23.0, 24.0)\",\"(11.0, 12.0)\",\"(8.0, 9.0), multiplicity: 2\",\"(8.0, 9.0), multiplicity: 2\",\"(7.0, 9.0)\"],\"mode\":\"markers\",\"name\":\"H2\",\"x\":[66.0,64.0,39.0,35.0,35.0,33.0,32.0,23.0,11.0,8.0,8.0,7.0],\"y\":[69.0,66.0,51.0,37.0,40.0,35.0,37.0,24.0,12.0,9.0,9.0,9.0],\"type\":\"scatter\"},{\"hoverinfo\":\"text\",\"hovertext\":[\"(70.0, 74.0)\",\"(56.0, 57.0)\",\"(54.0, 58.0)\",\"(41.0, 48.0)\",\"(40.0, 44.0)\"],\"mode\":\"markers\",\"name\":\"H3\",\"x\":[70.0,56.0,54.0,41.0,40.0],\"y\":[74.0,57.0,58.0,48.0,44.0],\"type\":\"scatter\"},{\"hoverinfo\":\"text\",\"hovertext\":[\"(74.0, 77.0)\",\"(60.0, 61.0)\"],\"mode\":\"markers\",\"name\":\"H4\",\"x\":[74.0,60.0],\"y\":[77.0,61.0],\"type\":\"scatter\"}],                        {\"template\":{\"data\":{\"bar\":[{\"error_x\":{\"color\":\"#2a3f5f\"},\"error_y\":{\"color\":\"#2a3f5f\"},\"marker\":{\"line\":{\"color\":\"#E5ECF6\",\"width\":0.5},\"pattern\":{\"fillmode\":\"overlay\",\"size\":10,\"solidity\":0.2}},\"type\":\"bar\"}],\"barpolar\":[{\"marker\":{\"line\":{\"color\":\"#E5ECF6\",\"width\":0.5},\"pattern\":{\"fillmode\":\"overlay\",\"size\":10,\"solidity\":0.2}},\"type\":\"barpolar\"}],\"carpet\":[{\"aaxis\":{\"endlinecolor\":\"#2a3f5f\",\"gridcolor\":\"white\",\"linecolor\":\"white\",\"minorgridcolor\":\"white\",\"startlinecolor\":\"#2a3f5f\"},\"baxis\":{\"endlinecolor\":\"#2a3f5f\",\"gridcolor\":\"white\",\"linecolor\":\"white\",\"minorgridcolor\":\"white\",\"startlinecolor\":\"#2a3f5f\"},\"type\":\"carpet\"}],\"choropleth\":[{\"colorbar\":{\"outlinewidth\":0,\"ticks\":\"\"},\"type\":\"choropleth\"}],\"contour\":[{\"colorbar\":{\"outlinewidth\":0,\"ticks\":\"\"},\"colorscale\":[[0.0,\"#0d0887\"],[0.1111111111111111,\"#46039f\"],[0.2222222222222222,\"#7201a8\"],[0.3333333333333333,\"#9c179e\"],[0.4444444444444444,\"#bd3786\"],[0.5555555555555556,\"#d8576b\"],[0.6666666666666666,\"#ed7953\"],[0.7777777777777778,\"#fb9f3a\"],[0.8888888888888888,\"#fdca26\"],[1.0,\"#f0f921\"]],\"type\":\"contour\"}],\"contourcarpet\":[{\"colorbar\":{\"outlinewidth\":0,\"ticks\":\"\"},\"type\":\"contourcarpet\"}],\"heatmap\":[{\"colorbar\":{\"outlinewidth\":0,\"ticks\":\"\"},\"colorscale\":[[0.0,\"#0d0887\"],[0.1111111111111111,\"#46039f\"],[0.2222222222222222,\"#7201a8\"],[0.3333333333333333,\"#9c179e\"],[0.4444444444444444,\"#bd3786\"],[0.5555555555555556,\"#d8576b\"],[0.6666666666666666,\"#ed7953\"],[0.7777777777777778,\"#fb9f3a\"],[0.8888888888888888,\"#fdca26\"],[1.0,\"#f0f921\"]],\"type\":\"heatmap\"}],\"heatmapgl\":[{\"colorbar\":{\"outlinewidth\":0,\"ticks\":\"\"},\"colorscale\":[[0.0,\"#0d0887\"],[0.1111111111111111,\"#46039f\"],[0.2222222222222222,\"#7201a8\"],[0.3333333333333333,\"#9c179e\"],[0.4444444444444444,\"#bd3786\"],[0.5555555555555556,\"#d8576b\"],[0.6666666666666666,\"#ed7953\"],[0.7777777777777778,\"#fb9f3a\"],[0.8888888888888888,\"#fdca26\"],[1.0,\"#f0f921\"]],\"type\":\"heatmapgl\"}],\"histogram\":[{\"marker\":{\"pattern\":{\"fillmode\":\"overlay\",\"size\":10,\"solidity\":0.2}},\"type\":\"histogram\"}],\"histogram2d\":[{\"colorbar\":{\"outlinewidth\":0,\"ticks\":\"\"},\"colorscale\":[[0.0,\"#0d0887\"],[0.1111111111111111,\"#46039f\"],[0.2222222222222222,\"#7201a8\"],[0.3333333333333333,\"#9c179e\"],[0.4444444444444444,\"#bd3786\"],[0.5555555555555556,\"#d8576b\"],[0.6666666666666666,\"#ed7953\"],[0.7777777777777778,\"#fb9f3a\"],[0.8888888888888888,\"#fdca26\"],[1.0,\"#f0f921\"]],\"type\":\"histogram2d\"}],\"histogram2dcontour\":[{\"colorbar\":{\"outlinewidth\":0,\"ticks\":\"\"},\"colorscale\":[[0.0,\"#0d0887\"],[0.1111111111111111,\"#46039f\"],[0.2222222222222222,\"#7201a8\"],[0.3333333333333333,\"#9c179e\"],[0.4444444444444444,\"#bd3786\"],[0.5555555555555556,\"#d8576b\"],[0.6666666666666666,\"#ed7953\"],[0.7777777777777778,\"#fb9f3a\"],[0.8888888888888888,\"#fdca26\"],[1.0,\"#f0f921\"]],\"type\":\"histogram2dcontour\"}],\"mesh3d\":[{\"colorbar\":{\"outlinewidth\":0,\"ticks\":\"\"},\"type\":\"mesh3d\"}],\"parcoords\":[{\"line\":{\"colorbar\":{\"outlinewidth\":0,\"ticks\":\"\"}},\"type\":\"parcoords\"}],\"pie\":[{\"automargin\":true,\"type\":\"pie\"}],\"scatter\":[{\"marker\":{\"colorbar\":{\"outlinewidth\":0,\"ticks\":\"\"}},\"type\":\"scatter\"}],\"scatter3d\":[{\"line\":{\"colorbar\":{\"outlinewidth\":0,\"ticks\":\"\"}},\"marker\":{\"colorbar\":{\"outlinewidth\":0,\"ticks\":\"\"}},\"type\":\"scatter3d\"}],\"scattercarpet\":[{\"marker\":{\"colorbar\":{\"outlinewidth\":0,\"ticks\":\"\"}},\"type\":\"scattercarpet\"}],\"scattergeo\":[{\"marker\":{\"colorbar\":{\"outlinewidth\":0,\"ticks\":\"\"}},\"type\":\"scattergeo\"}],\"scattergl\":[{\"marker\":{\"colorbar\":{\"outlinewidth\":0,\"ticks\":\"\"}},\"type\":\"scattergl\"}],\"scattermapbox\":[{\"marker\":{\"colorbar\":{\"outlinewidth\":0,\"ticks\":\"\"}},\"type\":\"scattermapbox\"}],\"scatterpolar\":[{\"marker\":{\"colorbar\":{\"outlinewidth\":0,\"ticks\":\"\"}},\"type\":\"scatterpolar\"}],\"scatterpolargl\":[{\"marker\":{\"colorbar\":{\"outlinewidth\":0,\"ticks\":\"\"}},\"type\":\"scatterpolargl\"}],\"scatterternary\":[{\"marker\":{\"colorbar\":{\"outlinewidth\":0,\"ticks\":\"\"}},\"type\":\"scatterternary\"}],\"surface\":[{\"colorbar\":{\"outlinewidth\":0,\"ticks\":\"\"},\"colorscale\":[[0.0,\"#0d0887\"],[0.1111111111111111,\"#46039f\"],[0.2222222222222222,\"#7201a8\"],[0.3333333333333333,\"#9c179e\"],[0.4444444444444444,\"#bd3786\"],[0.5555555555555556,\"#d8576b\"],[0.6666666666666666,\"#ed7953\"],[0.7777777777777778,\"#fb9f3a\"],[0.8888888888888888,\"#fdca26\"],[1.0,\"#f0f921\"]],\"type\":\"surface\"}],\"table\":[{\"cells\":{\"fill\":{\"color\":\"#EBF0F8\"},\"line\":{\"color\":\"white\"}},\"header\":{\"fill\":{\"color\":\"#C8D4E3\"},\"line\":{\"color\":\"white\"}},\"type\":\"table\"}]},\"layout\":{\"annotationdefaults\":{\"arrowcolor\":\"#2a3f5f\",\"arrowhead\":0,\"arrowwidth\":1},\"autotypenumbers\":\"strict\",\"coloraxis\":{\"colorbar\":{\"outlinewidth\":0,\"ticks\":\"\"}},\"colorscale\":{\"diverging\":[[0,\"#8e0152\"],[0.1,\"#c51b7d\"],[0.2,\"#de77ae\"],[0.3,\"#f1b6da\"],[0.4,\"#fde0ef\"],[0.5,\"#f7f7f7\"],[0.6,\"#e6f5d0\"],[0.7,\"#b8e186\"],[0.8,\"#7fbc41\"],[0.9,\"#4d9221\"],[1,\"#276419\"]],\"sequential\":[[0.0,\"#0d0887\"],[0.1111111111111111,\"#46039f\"],[0.2222222222222222,\"#7201a8\"],[0.3333333333333333,\"#9c179e\"],[0.4444444444444444,\"#bd3786\"],[0.5555555555555556,\"#d8576b\"],[0.6666666666666666,\"#ed7953\"],[0.7777777777777778,\"#fb9f3a\"],[0.8888888888888888,\"#fdca26\"],[1.0,\"#f0f921\"]],\"sequentialminus\":[[0.0,\"#0d0887\"],[0.1111111111111111,\"#46039f\"],[0.2222222222222222,\"#7201a8\"],[0.3333333333333333,\"#9c179e\"],[0.4444444444444444,\"#bd3786\"],[0.5555555555555556,\"#d8576b\"],[0.6666666666666666,\"#ed7953\"],[0.7777777777777778,\"#fb9f3a\"],[0.8888888888888888,\"#fdca26\"],[1.0,\"#f0f921\"]]},\"colorway\":[\"#636efa\",\"#EF553B\",\"#00cc96\",\"#ab63fa\",\"#FFA15A\",\"#19d3f3\",\"#FF6692\",\"#B6E880\",\"#FF97FF\",\"#FECB52\"],\"font\":{\"color\":\"#2a3f5f\"},\"geo\":{\"bgcolor\":\"white\",\"lakecolor\":\"white\",\"landcolor\":\"#E5ECF6\",\"showlakes\":true,\"showland\":true,\"subunitcolor\":\"white\"},\"hoverlabel\":{\"align\":\"left\"},\"hovermode\":\"closest\",\"mapbox\":{\"style\":\"light\"},\"paper_bgcolor\":\"white\",\"plot_bgcolor\":\"#E5ECF6\",\"polar\":{\"angularaxis\":{\"gridcolor\":\"white\",\"linecolor\":\"white\",\"ticks\":\"\"},\"bgcolor\":\"#E5ECF6\",\"radialaxis\":{\"gridcolor\":\"white\",\"linecolor\":\"white\",\"ticks\":\"\"}},\"scene\":{\"xaxis\":{\"backgroundcolor\":\"#E5ECF6\",\"gridcolor\":\"white\",\"gridwidth\":2,\"linecolor\":\"white\",\"showbackground\":true,\"ticks\":\"\",\"zerolinecolor\":\"white\"},\"yaxis\":{\"backgroundcolor\":\"#E5ECF6\",\"gridcolor\":\"white\",\"gridwidth\":2,\"linecolor\":\"white\",\"showbackground\":true,\"ticks\":\"\",\"zerolinecolor\":\"white\"},\"zaxis\":{\"backgroundcolor\":\"#E5ECF6\",\"gridcolor\":\"white\",\"gridwidth\":2,\"linecolor\":\"white\",\"showbackground\":true,\"ticks\":\"\",\"zerolinecolor\":\"white\"}},\"shapedefaults\":{\"line\":{\"color\":\"#2a3f5f\"}},\"ternary\":{\"aaxis\":{\"gridcolor\":\"white\",\"linecolor\":\"white\",\"ticks\":\"\"},\"baxis\":{\"gridcolor\":\"white\",\"linecolor\":\"white\",\"ticks\":\"\"},\"bgcolor\":\"#E5ECF6\",\"caxis\":{\"gridcolor\":\"white\",\"linecolor\":\"white\",\"ticks\":\"\"}},\"title\":{\"x\":0.05},\"xaxis\":{\"automargin\":true,\"gridcolor\":\"white\",\"linecolor\":\"white\",\"ticks\":\"\",\"title\":{\"standoff\":15},\"zerolinecolor\":\"white\",\"zerolinewidth\":2},\"yaxis\":{\"automargin\":true,\"gridcolor\":\"white\",\"linecolor\":\"white\",\"ticks\":\"\",\"title\":{\"standoff\":15},\"zerolinecolor\":\"white\",\"zerolinewidth\":2}}},\"xaxis\":{\"title\":{\"text\":\"Birth\"},\"side\":\"bottom\",\"type\":\"linear\",\"range\":[0.5,78.5],\"autorange\":false,\"ticks\":\"outside\",\"showline\":true,\"zeroline\":true,\"linewidth\":1,\"linecolor\":\"black\",\"mirror\":false,\"showexponent\":\"all\",\"exponentformat\":\"e\"},\"yaxis\":{\"title\":{\"text\":\"Death\"},\"side\":\"left\",\"type\":\"linear\",\"range\":[0.5,78.5],\"autorange\":false,\"scaleanchor\":\"x\",\"scaleratio\":1,\"ticks\":\"outside\",\"showline\":true,\"zeroline\":true,\"linewidth\":1,\"linecolor\":\"black\",\"mirror\":false,\"showexponent\":\"all\",\"exponentformat\":\"e\"},\"width\":500,\"height\":500,\"plot_bgcolor\":\"white\"},                        {\"responsive\": true}                    ).then(function(){\n",
       "                            \n",
       "var gd = document.getElementById('1f91f82c-af5a-4520-9af5-b4ce17137e6f');\n",
       "var x = new MutationObserver(function (mutations, observer) {{\n",
       "        var display = window.getComputedStyle(gd).display;\n",
       "        if (!display || display === 'none') {{\n",
       "            console.log([gd, 'removed!']);\n",
       "            Plotly.purge(gd);\n",
       "            observer.disconnect();\n",
       "        }}\n",
       "}});\n",
       "\n",
       "// Listen for the removal of the full notebook cells\n",
       "var notebookContainer = gd.closest('#notebook-container');\n",
       "if (notebookContainer) {{\n",
       "    x.observe(notebookContainer, {childList: true});\n",
       "}}\n",
       "\n",
       "// Listen for the clearing of the current output cell\n",
       "var outputEl = gd.closest('.output');\n",
       "if (outputEl) {{\n",
       "    x.observe(outputEl, {childList: true});\n",
       "}}\n",
       "\n",
       "                        })                };                            </script>        </div>\n",
       "</body>\n",
       "</html>"
      ]
     },
     "metadata": {},
     "output_type": "display_data"
    }
   ],
   "source": [
    "VR_HCP_90.plot(diagrams_HCP_90,sample=0)"
   ]
  },
  {
   "cell_type": "markdown",
   "metadata": {
    "id": "jve3GoPXWie2"
   },
   "source": [
    "# New code\n",
    "This are parts we are still working on"
   ]
  },
  {
   "cell_type": "code",
   "execution_count": null,
   "metadata": {
    "id": "0bZzLsZpWhwB"
   },
   "outputs": [],
   "source": []
  },
  {
   "cell_type": "code",
   "execution_count": null,
   "metadata": {
    "colab": {
     "base_uri": "https://localhost:8080/"
    },
    "id": "kFgsRSGVvzJW",
    "outputId": "5af9d83c-5105-491a-d09e-a3816e67a0c0"
   },
   "outputs": [
    {
     "name": "stdout",
     "output_type": "stream",
     "text": [
      "[[1.         0.82769115 0.57917623 ... 0.47048196 0.6871404  0.69223374]\n",
      " [0.82769115 1.         0.50612392 ... 0.5312735  0.55749886 0.63544121]\n",
      " [0.57917623 0.50612392 1.         ... 0.61353392 0.70573595 0.55755186]\n",
      " ...\n",
      " [0.47048196 0.5312735  0.61353392 ... 1.         0.57111876 0.60343518]\n",
      " [0.6871404  0.55749886 0.70573595 ... 0.57111876 1.         0.75000928]\n",
      " [0.69223374 0.63544121 0.55755186 ... 0.60343518 0.75000928 1.        ]]\n"
     ]
    }
   ],
   "source": [
    "G=np.loadtxt(\"WAVECO~1.TXT\",skiprows=0,dtype=float,usecols=range(0,90))\n",
    "print((G))"
   ]
  },
  {
   "cell_type": "code",
   "execution_count": null,
   "metadata": {
    "id": "BVv5FuoUzatl"
   },
   "outputs": [],
   "source": [
    "def custom_vietoris_persistance_old (adjacency_matrix,filtration_length,dimensions,plot):\n",
    "  #commenti:  - cambierei il nome della variabile da adjacency a correlation matrix\n",
    "  #           - più che filtration_lenght passerei i costi\n",
    "  #           - con dimensions passerei già la lista delle dimensioni da calcolare, \n",
    "  #             magari con una cosa che conrtolla se è o no una lista se è una lista\n",
    "  #             fa da uno a o altrimenti dai i costi\n",
    "  #           - la funzione deve essere resistente a passare liste di correlation matrices, \n",
    "  #             così sfruttiamo la possibilità di giotto di calcolarne più insieme, \n",
    "  #             probabilmente in quella maniera è ottimizzato\n",
    "  costs=np.linspace(1/44,1,filtration_length)\n",
    "  graph_filtration=generate_graph_sequence(adjacency_matrix,costs)\n",
    "  adjacency_matrix=from_filtration_to_adjacency(graph_filtration)\n",
    "  dim = list(range(1,dimensions+1))\n",
    "  print(dim)\n",
    "  # Instantiate topological transformer\n",
    "  VR = VietorisRipsPersistence(metric=\"precomputed\",homology_dimensions=dim)\n",
    "  adjacency_matrix=[adjacency_matrix]\n",
    "\n",
    "  # Compute persistence diagrams corresponding to each graph in X\n",
    "  diagrams = VR.fit_transform(adjacency_matrix)\n",
    "  if(plot):\n",
    "    VR.plot(diagrams, sample=0)\n",
    "  return diagrams"
   ]
  },
  {
   "cell_type": "code",
   "execution_count": null,
   "metadata": {
    "id": "ZSJV6M6lVd0r"
   },
   "outputs": [],
   "source": [
    "def custom_vietoris_persistance (corr_mats,costs,homology_dimensions,plot):\n",
    "#qiesta è la versione che ho modificato, non riesco a stampare il grafico, cosa sbaglio??\n",
    "#sposterei questo pezzo nella parte dedicata a giotto\n",
    "  '''\n",
    "  input:\n",
    "    corr_mats:  correlation matrices of the graphs we want to compute the diagram\n",
    "    costs:      list of the costs where the filtration is computed\n",
    "    homology_dimensions: list of the dimensions of the homology to compute\n",
    "    plot:       boolean value, if true this function plot the persistence graph \n",
    "  \n",
    "  output:       diagrams, list of persistance diagrams. Each element of the list \n",
    "                is a list of points in the plane with associated dimansion\n",
    "  '''  \n",
    "\n",
    "  if isinstance(homology_dimensions, int):\n",
    "    homology_dimensions=list(range(1,homology_dimensions+1))\n",
    "\n",
    "  if not isinstance(corr_mats,list):\n",
    "    corr_mats=[corr_mats]\n",
    "\n",
    "  #generate filtrations\n",
    "  graph_filtrations = [generate_graph_sequence(g,costs) for g in corr_mats] #sbaglia qualcosa qua dentro! fa soltanto 2 step\n",
    "  #generate adjacency matrices\n",
    "  adjacency_matrices = [from_filtration_to_adjacency(graph_filtration) for graph_filtration in graph_filtrations]\n",
    "  # Instantiate topological transformer\n",
    "  VR = VietorisRipsPersistence(metric=\"precomputed\",homology_dimensions=homology_dimensions)\n",
    "  # Compute persistence diagrams corresponding to each graph in X\n",
    "  diagrams = VR.fit_transform(adjacency_matrices)\n",
    "  print(diagrams)\n",
    "\n",
    "  if (plot):\n",
    "    VR.plot(diagrams, sample=0)\n",
    "  return diagrams"
   ]
  },
  {
   "cell_type": "markdown",
   "metadata": {
    "id": "_ABG9mPK5t3i"
   },
   "source": [
    "example for testing purposes"
   ]
  },
  {
   "cell_type": "code",
   "execution_count": null,
   "metadata": {
    "colab": {
     "base_uri": "https://localhost:8080/"
    },
    "id": "cyxfGY2ftqmc",
    "outputId": "13251010-2830-410c-fe97-0f2ae61104c7"
   },
   "outputs": [
    {
     "name": "stdout",
     "output_type": "stream",
     "text": [
      "[array([[0., 0., 2., ..., 3., 0., 0.],\n",
      "       [0., 0., 3., ..., 2., 2., 1.],\n",
      "       [2., 3., 0., ..., 1., 0., 2.],\n",
      "       ...,\n",
      "       [3., 2., 1., ..., 0., 2., 1.],\n",
      "       [0., 2., 0., ..., 2., 0., 0.],\n",
      "       [0., 1., 2., ..., 1., 0., 0.]]), array([[0., 0., 2., ..., 3., 0., 0.],\n",
      "       [0., 0., 3., ..., 2., 2., 1.],\n",
      "       [2., 3., 0., ..., 1., 0., 2.],\n",
      "       ...,\n",
      "       [3., 2., 1., ..., 0., 2., 1.],\n",
      "       [0., 2., 0., ..., 2., 0., 0.],\n",
      "       [0., 1., 2., ..., 1., 0., 0.]])]\n"
     ]
    }
   ],
   "source": [
    "diagrams=custom_vietoris_persistance([G,G],[0.1,0.2,0.3,0.4],2,plot=True)"
   ]
  },
  {
   "cell_type": "markdown",
   "metadata": {
    "id": "MkBDtkyx5z47"
   },
   "source": [
    "(not)working example"
   ]
  },
  {
   "cell_type": "code",
   "execution_count": null,
   "metadata": {
    "colab": {
     "base_uri": "https://localhost:8080/",
     "height": 432
    },
    "id": "Mq_zLqq55yds",
    "outputId": "b80842fd-a302-4fe8-c603-895a8b72fae1"
   },
   "outputs": [
    {
     "name": "stdout",
     "output_type": "stream",
     "text": [
      "[[[0. 0. 1.]\n",
      "  [0. 0. 2.]\n",
      "  [0. 0. 3.]\n",
      "  [0. 0. 4.]]]\n"
     ]
    },
    {
     "ename": "ValueError",
     "evalue": "ignored",
     "output_type": "error",
     "traceback": [
      "\u001b[0;31m---------------------------------------------------------------------------\u001b[0m",
      "\u001b[0;31mValueError\u001b[0m                                Traceback (most recent call last)",
      "\u001b[0;32m<ipython-input-163-e031a7e2b54b>\u001b[0m in \u001b[0;36m<module>\u001b[0;34m()\u001b[0m\n\u001b[0;32m----> 1\u001b[0;31m \u001b[0mdiagrams\u001b[0m\u001b[0;34m=\u001b[0m\u001b[0mcustom_vietoris_persistance\u001b[0m\u001b[0;34m(\u001b[0m\u001b[0mG\u001b[0m\u001b[0;34m,\u001b[0m\u001b[0;34m[\u001b[0m\u001b[0;36m1\u001b[0m\u001b[0;34m/\u001b[0m\u001b[0;36m44\u001b[0m\u001b[0;34m,\u001b[0m\u001b[0;36m1\u001b[0m\u001b[0;34m]\u001b[0m\u001b[0;34m,\u001b[0m\u001b[0;34m[\u001b[0m\u001b[0;36m1\u001b[0m\u001b[0;34m,\u001b[0m\u001b[0;36m2\u001b[0m\u001b[0;34m,\u001b[0m\u001b[0;36m3\u001b[0m\u001b[0;34m,\u001b[0m\u001b[0;36m4\u001b[0m\u001b[0;34m]\u001b[0m\u001b[0;34m,\u001b[0m\u001b[0mplot\u001b[0m\u001b[0;34m=\u001b[0m\u001b[0;32mTrue\u001b[0m\u001b[0;34m)\u001b[0m\u001b[0;34m\u001b[0m\u001b[0;34m\u001b[0m\u001b[0m\n\u001b[0m\u001b[1;32m      2\u001b[0m \u001b[0;31m#print(G)\u001b[0m\u001b[0;34m\u001b[0m\u001b[0;34m\u001b[0m\u001b[0;34m\u001b[0m\u001b[0m\n",
      "\u001b[0;32m<ipython-input-162-e659c4390152>\u001b[0m in \u001b[0;36mcustom_vietoris_persistance\u001b[0;34m(corr_mats, costs, homology_dimensions, plot)\u001b[0m\n\u001b[1;32m     30\u001b[0m \u001b[0;34m\u001b[0m\u001b[0m\n\u001b[1;32m     31\u001b[0m   \u001b[0;32mif\u001b[0m \u001b[0;34m(\u001b[0m\u001b[0mplot\u001b[0m\u001b[0;34m)\u001b[0m\u001b[0;34m:\u001b[0m\u001b[0;34m\u001b[0m\u001b[0;34m\u001b[0m\u001b[0m\n\u001b[0;32m---> 32\u001b[0;31m     \u001b[0mVR\u001b[0m\u001b[0;34m.\u001b[0m\u001b[0mplot\u001b[0m\u001b[0;34m(\u001b[0m\u001b[0mdiagrams\u001b[0m\u001b[0;34m,\u001b[0m \u001b[0msample\u001b[0m\u001b[0;34m=\u001b[0m\u001b[0;36m0\u001b[0m\u001b[0;34m)\u001b[0m\u001b[0;34m\u001b[0m\u001b[0;34m\u001b[0m\u001b[0m\n\u001b[0m\u001b[1;32m     33\u001b[0m   \u001b[0;32mreturn\u001b[0m \u001b[0mdiagrams\u001b[0m\u001b[0;34m\u001b[0m\u001b[0;34m\u001b[0m\u001b[0m\n",
      "\u001b[0;32m/usr/local/lib/python3.7/dist-packages/gtda/homology/simplicial.py\u001b[0m in \u001b[0;36mplot\u001b[0;34m(Xt, sample, homology_dimensions, plotly_params)\u001b[0m\n\u001b[1;32m    345\u001b[0m         return plot_diagram(\n\u001b[1;32m    346\u001b[0m             \u001b[0mXt\u001b[0m\u001b[0;34m[\u001b[0m\u001b[0msample\u001b[0m\u001b[0;34m]\u001b[0m\u001b[0;34m,\u001b[0m \u001b[0mhomology_dimensions\u001b[0m\u001b[0;34m=\u001b[0m\u001b[0mhomology_dimensions\u001b[0m\u001b[0;34m,\u001b[0m\u001b[0;34m\u001b[0m\u001b[0;34m\u001b[0m\u001b[0m\n\u001b[0;32m--> 347\u001b[0;31m             \u001b[0mplotly_params\u001b[0m\u001b[0;34m=\u001b[0m\u001b[0mplotly_params\u001b[0m\u001b[0;34m\u001b[0m\u001b[0;34m\u001b[0m\u001b[0m\n\u001b[0m\u001b[1;32m    348\u001b[0m             )\n\u001b[1;32m    349\u001b[0m \u001b[0;34m\u001b[0m\u001b[0m\n",
      "\u001b[0;32m/usr/local/lib/python3.7/dist-packages/gtda/plotting/persistence_diagrams.py\u001b[0m in \u001b[0;36mplot_diagram\u001b[0;34m(diagram, homology_dimensions, plotly_params)\u001b[0m\n\u001b[1;32m     41\u001b[0m     \u001b[0mposinfinite_mask\u001b[0m \u001b[0;34m=\u001b[0m \u001b[0mnp\u001b[0m\u001b[0;34m.\u001b[0m\u001b[0misposinf\u001b[0m\u001b[0;34m(\u001b[0m\u001b[0mdiagram_no_dims\u001b[0m\u001b[0;34m)\u001b[0m\u001b[0;34m\u001b[0m\u001b[0;34m\u001b[0m\u001b[0m\n\u001b[1;32m     42\u001b[0m     \u001b[0mneginfinite_mask\u001b[0m \u001b[0;34m=\u001b[0m \u001b[0mnp\u001b[0m\u001b[0;34m.\u001b[0m\u001b[0misneginf\u001b[0m\u001b[0;34m(\u001b[0m\u001b[0mdiagram_no_dims\u001b[0m\u001b[0;34m)\u001b[0m\u001b[0;34m\u001b[0m\u001b[0;34m\u001b[0m\u001b[0m\n\u001b[0;32m---> 43\u001b[0;31m     \u001b[0mmax_val\u001b[0m \u001b[0;34m=\u001b[0m \u001b[0mnp\u001b[0m\u001b[0;34m.\u001b[0m\u001b[0mmax\u001b[0m\u001b[0;34m(\u001b[0m\u001b[0mnp\u001b[0m\u001b[0;34m.\u001b[0m\u001b[0mwhere\u001b[0m\u001b[0;34m(\u001b[0m\u001b[0mposinfinite_mask\u001b[0m\u001b[0;34m,\u001b[0m \u001b[0;34m-\u001b[0m\u001b[0mnp\u001b[0m\u001b[0;34m.\u001b[0m\u001b[0minf\u001b[0m\u001b[0;34m,\u001b[0m \u001b[0mdiagram_no_dims\u001b[0m\u001b[0;34m)\u001b[0m\u001b[0;34m)\u001b[0m\u001b[0;34m\u001b[0m\u001b[0;34m\u001b[0m\u001b[0m\n\u001b[0m\u001b[1;32m     44\u001b[0m     \u001b[0mmin_val\u001b[0m \u001b[0;34m=\u001b[0m \u001b[0mnp\u001b[0m\u001b[0;34m.\u001b[0m\u001b[0mmin\u001b[0m\u001b[0;34m(\u001b[0m\u001b[0mnp\u001b[0m\u001b[0;34m.\u001b[0m\u001b[0mwhere\u001b[0m\u001b[0;34m(\u001b[0m\u001b[0mneginfinite_mask\u001b[0m\u001b[0;34m,\u001b[0m \u001b[0mnp\u001b[0m\u001b[0;34m.\u001b[0m\u001b[0minf\u001b[0m\u001b[0;34m,\u001b[0m \u001b[0mdiagram_no_dims\u001b[0m\u001b[0;34m)\u001b[0m\u001b[0;34m)\u001b[0m\u001b[0;34m\u001b[0m\u001b[0;34m\u001b[0m\u001b[0m\n\u001b[1;32m     45\u001b[0m     \u001b[0mparameter_range\u001b[0m \u001b[0;34m=\u001b[0m \u001b[0mmax_val\u001b[0m \u001b[0;34m-\u001b[0m \u001b[0mmin_val\u001b[0m\u001b[0;34m\u001b[0m\u001b[0;34m\u001b[0m\u001b[0m\n",
      "\u001b[0;32m<__array_function__ internals>\u001b[0m in \u001b[0;36mamax\u001b[0;34m(*args, **kwargs)\u001b[0m\n",
      "\u001b[0;32m/usr/local/lib/python3.7/dist-packages/numpy/core/fromnumeric.py\u001b[0m in \u001b[0;36mamax\u001b[0;34m(a, axis, out, keepdims, initial, where)\u001b[0m\n\u001b[1;32m   2753\u001b[0m     \"\"\"\n\u001b[1;32m   2754\u001b[0m     return _wrapreduction(a, np.maximum, 'max', axis, None, out,\n\u001b[0;32m-> 2755\u001b[0;31m                           keepdims=keepdims, initial=initial, where=where)\n\u001b[0m\u001b[1;32m   2756\u001b[0m \u001b[0;34m\u001b[0m\u001b[0m\n\u001b[1;32m   2757\u001b[0m \u001b[0;34m\u001b[0m\u001b[0m\n",
      "\u001b[0;32m/usr/local/lib/python3.7/dist-packages/numpy/core/fromnumeric.py\u001b[0m in \u001b[0;36m_wrapreduction\u001b[0;34m(obj, ufunc, method, axis, dtype, out, **kwargs)\u001b[0m\n\u001b[1;32m     84\u001b[0m                 \u001b[0;32mreturn\u001b[0m \u001b[0mreduction\u001b[0m\u001b[0;34m(\u001b[0m\u001b[0maxis\u001b[0m\u001b[0;34m=\u001b[0m\u001b[0maxis\u001b[0m\u001b[0;34m,\u001b[0m \u001b[0mout\u001b[0m\u001b[0;34m=\u001b[0m\u001b[0mout\u001b[0m\u001b[0;34m,\u001b[0m \u001b[0;34m**\u001b[0m\u001b[0mpasskwargs\u001b[0m\u001b[0;34m)\u001b[0m\u001b[0;34m\u001b[0m\u001b[0;34m\u001b[0m\u001b[0m\n\u001b[1;32m     85\u001b[0m \u001b[0;34m\u001b[0m\u001b[0m\n\u001b[0;32m---> 86\u001b[0;31m     \u001b[0;32mreturn\u001b[0m \u001b[0mufunc\u001b[0m\u001b[0;34m.\u001b[0m\u001b[0mreduce\u001b[0m\u001b[0;34m(\u001b[0m\u001b[0mobj\u001b[0m\u001b[0;34m,\u001b[0m \u001b[0maxis\u001b[0m\u001b[0;34m,\u001b[0m \u001b[0mdtype\u001b[0m\u001b[0;34m,\u001b[0m \u001b[0mout\u001b[0m\u001b[0;34m,\u001b[0m \u001b[0;34m**\u001b[0m\u001b[0mpasskwargs\u001b[0m\u001b[0;34m)\u001b[0m\u001b[0;34m\u001b[0m\u001b[0;34m\u001b[0m\u001b[0m\n\u001b[0m\u001b[1;32m     87\u001b[0m \u001b[0;34m\u001b[0m\u001b[0m\n\u001b[1;32m     88\u001b[0m \u001b[0;34m\u001b[0m\u001b[0m\n",
      "\u001b[0;31mValueError\u001b[0m: zero-size array to reduction operation maximum which has no identity"
     ]
    }
   ],
   "source": [
    "diagrams=custom_vietoris_persistance(G,[1/44,1],[1,2,3,4],plot=True)\n",
    "#print(G)"
   ]
  },
  {
   "cell_type": "code",
   "execution_count": null,
   "metadata": {
    "colab": {
     "base_uri": "https://localhost:8080/"
    },
    "id": "9H_tywVSQsz-",
    "outputId": "bd0c7a70-dc33-4e65-f2d8-67c51e392ca7"
   },
   "outputs": [
    {
     "name": "stdout",
     "output_type": "stream",
     "text": [
      "[[1.         0.82769115 0.57917623 ... 0.47048196 0.6871404  0.69223374]\n",
      " [0.82769115 1.         0.50612392 ... 0.5312735  0.55749886 0.63544121]\n",
      " [0.57917623 0.50612392 1.         ... 0.61353392 0.70573595 0.55755186]\n",
      " ...\n",
      " [0.47048196 0.5312735  0.61353392 ... 1.         0.57111876 0.60343518]\n",
      " [0.6871404  0.55749886 0.70573595 ... 0.57111876 1.         0.75000928]\n",
      " [0.69223374 0.63544121 0.55755186 ... 0.60343518 0.75000928 1.        ]]\n",
      "[1, 2, 3, 4]\n"
     ]
    }
   ],
   "source": [
    "diagrams=custom_vietoris_persistance_old(G,100,4,plot=True)\n",
    "#print(G)"
   ]
  },
  {
   "cell_type": "code",
   "execution_count": null,
   "metadata": {
    "colab": {
     "base_uri": "https://localhost:8080/"
    },
    "id": "8JEyAVTjt5ac",
    "outputId": "ac501d4d-8d25-487f-fb16-8ce8a5fe33d2"
   },
   "outputs": [
    {
     "name": "stdout",
     "output_type": "stream",
     "text": [
      "[array([[0., 0., 0., 0.],\n",
      "       [2., 0., 0., 0.],\n",
      "       [4., 0., 0., 0.],\n",
      "       [8., 0., 0., 0.],\n",
      "       [7., 0., 0., 0.],\n",
      "       [8., 0., 0., 0.],\n",
      "       [5., 0., 0., 0.],\n",
      "       [4., 1., 0., 0.],\n",
      "       [3., 0., 0., 0.],\n",
      "       [3., 0., 0., 0.],\n",
      "       [3., 0., 0., 0.],\n",
      "       [2., 0., 0., 0.],\n",
      "       [2., 1., 0., 0.],\n",
      "       [2., 1., 0., 0.],\n",
      "       [2., 1., 0., 0.],\n",
      "       [2., 1., 0., 0.],\n",
      "       [2., 1., 0., 0.],\n",
      "       [2., 1., 0., 0.],\n",
      "       [1., 0., 0., 0.],\n",
      "       [0., 1., 0., 0.],\n",
      "       [0., 1., 0., 0.],\n",
      "       [0., 0., 0., 0.],\n",
      "       [0., 0., 0., 0.],\n",
      "       [1., 0., 0., 0.],\n",
      "       [0., 0., 0., 0.],\n",
      "       [0., 0., 0., 0.],\n",
      "       [1., 0., 0., 0.],\n",
      "       [2., 0., 0., 0.],\n",
      "       [2., 0., 0., 0.],\n",
      "       [2., 0., 0., 0.],\n",
      "       [2., 0., 0., 0.],\n",
      "       [2., 0., 0., 0.],\n",
      "       [1., 0., 0., 0.],\n",
      "       [1., 0., 0., 0.],\n",
      "       [1., 0., 0., 0.],\n",
      "       [1., 0., 0., 0.],\n",
      "       [1., 0., 0., 0.],\n",
      "       [1., 0., 0., 0.],\n",
      "       [0., 0., 0., 0.],\n",
      "       [0., 0., 0., 0.],\n",
      "       [0., 0., 0., 0.],\n",
      "       [0., 0., 0., 0.],\n",
      "       [0., 0., 0., 0.],\n",
      "       [0., 0., 0., 0.],\n",
      "       [0., 0., 0., 0.],\n",
      "       [0., 0., 0., 0.],\n",
      "       [0., 0., 0., 0.],\n",
      "       [0., 0., 0., 0.],\n",
      "       [0., 0., 0., 0.],\n",
      "       [0., 0., 0., 0.],\n",
      "       [0., 0., 0., 0.],\n",
      "       [0., 0., 0., 0.],\n",
      "       [0., 0., 0., 0.],\n",
      "       [0., 0., 0., 0.],\n",
      "       [0., 0., 0., 0.],\n",
      "       [0., 0., 0., 0.],\n",
      "       [0., 0., 0., 0.],\n",
      "       [0., 0., 0., 0.],\n",
      "       [0., 0., 0., 0.],\n",
      "       [0., 0., 0., 0.],\n",
      "       [0., 0., 0., 0.],\n",
      "       [0., 0., 0., 0.],\n",
      "       [0., 0., 0., 0.],\n",
      "       [0., 0., 0., 0.],\n",
      "       [0., 0., 0., 0.],\n",
      "       [0., 0., 0., 0.],\n",
      "       [0., 0., 0., 0.],\n",
      "       [0., 0., 0., 0.],\n",
      "       [0., 0., 0., 0.],\n",
      "       [0., 1., 0., 0.],\n",
      "       [0., 0., 0., 0.],\n",
      "       [0., 0., 0., 0.],\n",
      "       [0., 0., 0., 0.],\n",
      "       [0., 0., 0., 0.],\n",
      "       [0., 0., 0., 0.],\n",
      "       [0., 0., 0., 0.],\n",
      "       [0., 0., 0., 0.],\n",
      "       [0., 0., 0., 0.],\n",
      "       [0., 0., 0., 0.],\n",
      "       [0., 0., 0., 0.],\n",
      "       [0., 0., 0., 0.],\n",
      "       [0., 0., 0., 0.],\n",
      "       [0., 0., 0., 0.],\n",
      "       [0., 0., 0., 0.],\n",
      "       [0., 0., 0., 0.],\n",
      "       [0., 0., 0., 0.],\n",
      "       [0., 0., 0., 0.],\n",
      "       [0., 0., 0., 0.],\n",
      "       [0., 0., 0., 0.],\n",
      "       [0., 0., 0., 0.],\n",
      "       [0., 0., 0., 0.],\n",
      "       [0., 0., 0., 0.],\n",
      "       [0., 0., 0., 0.],\n",
      "       [0., 0., 0., 0.],\n",
      "       [0., 0., 0., 0.],\n",
      "       [0., 0., 0., 0.],\n",
      "       [0., 0., 0., 0.],\n",
      "       [0., 0., 0., 0.],\n",
      "       [0., 0., 0., 0.],\n",
      "       [0., 0., 0., 0.]])]\n"
     ]
    }
   ],
   "source": [
    "betti_number_brain1=betti_numbers(diagrams,100)\n",
    "print(betti_number_brain1)"
   ]
  },
  {
   "cell_type": "code",
   "execution_count": null,
   "metadata": {
    "colab": {
     "base_uri": "https://localhost:8080/",
     "height": 334
    },
    "id": "6b9qDyK1zbKe",
    "outputId": "3c2ef9b4-8d40-402c-d0cf-f768abe18a76"
   },
   "outputs": [
    {
     "data": {
      "text/plain": [
       "[<matplotlib.lines.Line2D at 0x7f76163bd310>,\n",
       " <matplotlib.lines.Line2D at 0x7f761638f610>,\n",
       " <matplotlib.lines.Line2D at 0x7f761638f7d0>,\n",
       " <matplotlib.lines.Line2D at 0x7f761638f990>]"
      ]
     },
     "execution_count": 72,
     "metadata": {},
     "output_type": "execute_result"
    },
    {
     "data": {
      "image/png": "[encoded data removed]",
      "text/plain": [
       "<Figure size 432x288 with 1 Axes>"
      ]
     },
     "metadata": {
      "needs_background": "light"
     },
     "output_type": "display_data"
    }
   ],
   "source": [
    "#calcola i betti numbers con moltiplicità dato il diagramma)\n",
    "plt.plot(range(100),betti_number_brain1[0])\n",
    "#plt.plot(range(filtration_length),betti_number_erdos_renyi)\n",
    "#plt.plot(range(filtration_length),y)\n",
    "#plt.plot(range(filtration_length),erdos)\n",
    "#y=[euler_entropy_cliques(graph) for graph in graph_filtration]\n",
    "#plt.plot(range(filtration_length),entropy)\n",
    "#betti_number\n",
    "#entropy"
   ]
  }
 ],
 "metadata": {
  "accelerator": "GPU",
  "colab": {
   "collapsed_sections": [
    "qNTrrqNNdGR1",
    "GPdU8-o7dKC6",
    "i2FJAtHaVhrL",
    "6yKyM0Gh374P",
    "D1CxD2zeJYna",
    "KKJJoCiPPNDd",
    "Bn7g2uW0PbS9",
    "K031Py2RZp0R",
    "asYgdyew9JdO",
    "XpuAUnk5EaRe",
    "Dpbk4Fg4lTn9",
    "lnObBNJLljvJ",
    "hPfv2ls5hO8k"
   ],
   "include_colab_link": true,
   "name": "BrainNet.ipynb",
   "provenance": []
  },
  "kernelspec": {
   "display_name": "Python 3 (ipykernel)",
   "language": "python",
   "name": "python3"
  },
  "language_info": {
   "codemirror_mode": {
    "name": "ipython",
    "version": 3
   },
   "file_extension": ".py",
   "mimetype": "text/x-python",
   "name": "python",
   "nbconvert_exporter": "python",
   "pygments_lexer": "ipython3",
   "version": "3.9.10"
  }
 },
 "nbformat": 4,
 "nbformat_minor": 1
}
