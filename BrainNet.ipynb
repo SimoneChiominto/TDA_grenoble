{
  "cells": [
    {
      "cell_type": "markdown",
      "metadata": {
        "id": "view-in-github",
        "colab_type": "text"
      },
      "source": [
        "<a href=\"https://colab.research.google.com/github/SimoneChiominto/TDA_grenoble/blob/main/BrainNet.ipynb\" target=\"_parent\"><img src=\"https://colab.research.google.com/assets/colab-badge.svg\" alt=\"Open In Colab\"/></a>"
      ]
    },
    {
      "cell_type": "markdown",
      "metadata": {
        "id": "5RSCqVMM4JZK"
      },
      "source": [
        "# Brain functional network project\n"
      ]
    },
    {
      "cell_type": "markdown",
      "source": [
        "## Packages\n",
        "First we import some libraries that will be useful in the project"
      ],
      "metadata": {
        "id": "nDPWx1QHUB5a"
      }
    },
    {
      "cell_type": "markdown",
      "source": [
        "### Install"
      ],
      "metadata": {
        "id": "qNTrrqNNdGR1"
      }
    },
    {
      "cell_type": "code",
      "source": [
        "!pip install -U giotto-tda"
      ],
      "metadata": {
        "colab": {
          "base_uri": "https://localhost:8080/"
        },
        "id": "AwumZPQ5U9IY",
        "outputId": "5647f8c8-a6fc-4a27-8882-4128ccceb140"
      },
      "execution_count": null,
      "outputs": [
        {
          "output_type": "stream",
          "name": "stdout",
          "text": [
            "Collecting giotto-tda\n",
            "  Downloading giotto_tda-0.5.1-cp37-cp37m-manylinux_2_12_x86_64.manylinux2010_x86_64.whl (1.5 MB)\n",
            "\u001b[K     |████████████████████████████████| 1.5 MB 4.2 MB/s \n",
            "\u001b[?25hRequirement already satisfied: joblib>=0.16.0 in /usr/local/lib/python3.7/dist-packages (from giotto-tda) (1.1.0)\n",
            "Requirement already satisfied: scikit-learn>=0.23.1 in /usr/local/lib/python3.7/dist-packages (from giotto-tda) (1.0.2)\n",
            "Requirement already satisfied: ipywidgets>=7.5.1 in /usr/local/lib/python3.7/dist-packages (from giotto-tda) (7.6.5)\n",
            "Collecting scipy>=1.5.0\n",
            "  Downloading scipy-1.7.3-cp37-cp37m-manylinux_2_12_x86_64.manylinux2010_x86_64.whl (38.1 MB)\n",
            "\u001b[K     |████████████████████████████████| 38.1 MB 1.3 MB/s \n",
            "\u001b[?25hCollecting pyflagser>=0.4.3\n",
            "  Downloading pyflagser-0.4.4-cp37-cp37m-manylinux2010_x86_64.whl (404 kB)\n",
            "\u001b[K     |████████████████████████████████| 404 kB 54.0 MB/s \n",
            "\u001b[?25hCollecting python-igraph>=0.8.2\n",
            "  Downloading python_igraph-0.9.9-py3-none-any.whl (9.1 kB)\n",
            "Requirement already satisfied: plotly>=4.8.2 in /usr/local/lib/python3.7/dist-packages (from giotto-tda) (5.5.0)\n",
            "Requirement already satisfied: numpy>=1.19.1 in /usr/local/lib/python3.7/dist-packages (from giotto-tda) (1.21.5)\n",
            "Requirement already satisfied: ipython>=4.0.0 in /usr/local/lib/python3.7/dist-packages (from ipywidgets>=7.5.1->giotto-tda) (5.5.0)\n",
            "Requirement already satisfied: traitlets>=4.3.1 in /usr/local/lib/python3.7/dist-packages (from ipywidgets>=7.5.1->giotto-tda) (5.1.1)\n",
            "Requirement already satisfied: jupyterlab-widgets>=1.0.0 in /usr/local/lib/python3.7/dist-packages (from ipywidgets>=7.5.1->giotto-tda) (1.0.2)\n",
            "Requirement already satisfied: ipykernel>=4.5.1 in /usr/local/lib/python3.7/dist-packages (from ipywidgets>=7.5.1->giotto-tda) (4.10.1)\n",
            "Requirement already satisfied: nbformat>=4.2.0 in /usr/local/lib/python3.7/dist-packages (from ipywidgets>=7.5.1->giotto-tda) (5.1.3)\n",
            "Requirement already satisfied: widgetsnbextension~=3.5.0 in /usr/local/lib/python3.7/dist-packages (from ipywidgets>=7.5.1->giotto-tda) (3.5.2)\n",
            "Requirement already satisfied: ipython-genutils~=0.2.0 in /usr/local/lib/python3.7/dist-packages (from ipywidgets>=7.5.1->giotto-tda) (0.2.0)\n",
            "Requirement already satisfied: tornado>=4.0 in /usr/local/lib/python3.7/dist-packages (from ipykernel>=4.5.1->ipywidgets>=7.5.1->giotto-tda) (5.1.1)\n",
            "Requirement already satisfied: jupyter-client in /usr/local/lib/python3.7/dist-packages (from ipykernel>=4.5.1->ipywidgets>=7.5.1->giotto-tda) (5.3.5)\n",
            "Requirement already satisfied: simplegeneric>0.8 in /usr/local/lib/python3.7/dist-packages (from ipython>=4.0.0->ipywidgets>=7.5.1->giotto-tda) (0.8.1)\n",
            "Requirement already satisfied: prompt-toolkit<2.0.0,>=1.0.4 in /usr/local/lib/python3.7/dist-packages (from ipython>=4.0.0->ipywidgets>=7.5.1->giotto-tda) (1.0.18)\n",
            "Requirement already satisfied: pygments in /usr/local/lib/python3.7/dist-packages (from ipython>=4.0.0->ipywidgets>=7.5.1->giotto-tda) (2.6.1)\n",
            "Requirement already satisfied: pexpect in /usr/local/lib/python3.7/dist-packages (from ipython>=4.0.0->ipywidgets>=7.5.1->giotto-tda) (4.8.0)\n",
            "Requirement already satisfied: setuptools>=18.5 in /usr/local/lib/python3.7/dist-packages (from ipython>=4.0.0->ipywidgets>=7.5.1->giotto-tda) (57.4.0)\n",
            "Requirement already satisfied: decorator in /usr/local/lib/python3.7/dist-packages (from ipython>=4.0.0->ipywidgets>=7.5.1->giotto-tda) (4.4.2)\n",
            "Requirement already satisfied: pickleshare in /usr/local/lib/python3.7/dist-packages (from ipython>=4.0.0->ipywidgets>=7.5.1->giotto-tda) (0.7.5)\n",
            "Requirement already satisfied: jupyter-core in /usr/local/lib/python3.7/dist-packages (from nbformat>=4.2.0->ipywidgets>=7.5.1->giotto-tda) (4.9.2)\n",
            "Requirement already satisfied: jsonschema!=2.5.0,>=2.4 in /usr/local/lib/python3.7/dist-packages (from nbformat>=4.2.0->ipywidgets>=7.5.1->giotto-tda) (4.3.3)\n",
            "Requirement already satisfied: pyrsistent!=0.17.0,!=0.17.1,!=0.17.2,>=0.14.0 in /usr/local/lib/python3.7/dist-packages (from jsonschema!=2.5.0,>=2.4->nbformat>=4.2.0->ipywidgets>=7.5.1->giotto-tda) (0.18.1)\n",
            "Requirement already satisfied: importlib-resources>=1.4.0 in /usr/local/lib/python3.7/dist-packages (from jsonschema!=2.5.0,>=2.4->nbformat>=4.2.0->ipywidgets>=7.5.1->giotto-tda) (5.4.0)\n",
            "Requirement already satisfied: attrs>=17.4.0 in /usr/local/lib/python3.7/dist-packages (from jsonschema!=2.5.0,>=2.4->nbformat>=4.2.0->ipywidgets>=7.5.1->giotto-tda) (21.4.0)\n",
            "Requirement already satisfied: importlib-metadata in /usr/local/lib/python3.7/dist-packages (from jsonschema!=2.5.0,>=2.4->nbformat>=4.2.0->ipywidgets>=7.5.1->giotto-tda) (4.11.2)\n",
            "Requirement already satisfied: typing-extensions in /usr/local/lib/python3.7/dist-packages (from jsonschema!=2.5.0,>=2.4->nbformat>=4.2.0->ipywidgets>=7.5.1->giotto-tda) (3.10.0.2)\n",
            "Requirement already satisfied: zipp>=3.1.0 in /usr/local/lib/python3.7/dist-packages (from importlib-resources>=1.4.0->jsonschema!=2.5.0,>=2.4->nbformat>=4.2.0->ipywidgets>=7.5.1->giotto-tda) (3.7.0)\n",
            "Requirement already satisfied: six in /usr/local/lib/python3.7/dist-packages (from plotly>=4.8.2->giotto-tda) (1.15.0)\n",
            "Requirement already satisfied: tenacity>=6.2.0 in /usr/local/lib/python3.7/dist-packages (from plotly>=4.8.2->giotto-tda) (8.0.1)\n",
            "Requirement already satisfied: wcwidth in /usr/local/lib/python3.7/dist-packages (from prompt-toolkit<2.0.0,>=1.0.4->ipython>=4.0.0->ipywidgets>=7.5.1->giotto-tda) (0.2.5)\n",
            "Collecting igraph==0.9.9\n",
            "  Downloading igraph-0.9.9-cp37-cp37m-manylinux_2_17_x86_64.manylinux2014_x86_64.whl (3.1 MB)\n",
            "\u001b[K     |████████████████████████████████| 3.1 MB 45.6 MB/s \n",
            "\u001b[?25hCollecting texttable>=1.6.2\n",
            "  Downloading texttable-1.6.4-py2.py3-none-any.whl (10 kB)\n",
            "Requirement already satisfied: threadpoolctl>=2.0.0 in /usr/local/lib/python3.7/dist-packages (from scikit-learn>=0.23.1->giotto-tda) (3.1.0)\n",
            "Requirement already satisfied: notebook>=4.4.1 in /usr/local/lib/python3.7/dist-packages (from widgetsnbextension~=3.5.0->ipywidgets>=7.5.1->giotto-tda) (5.3.1)\n",
            "Requirement already satisfied: nbconvert in /usr/local/lib/python3.7/dist-packages (from notebook>=4.4.1->widgetsnbextension~=3.5.0->ipywidgets>=7.5.1->giotto-tda) (5.6.1)\n",
            "Requirement already satisfied: Send2Trash in /usr/local/lib/python3.7/dist-packages (from notebook>=4.4.1->widgetsnbextension~=3.5.0->ipywidgets>=7.5.1->giotto-tda) (1.8.0)\n",
            "Requirement already satisfied: jinja2 in /usr/local/lib/python3.7/dist-packages (from notebook>=4.4.1->widgetsnbextension~=3.5.0->ipywidgets>=7.5.1->giotto-tda) (2.11.3)\n",
            "Requirement already satisfied: terminado>=0.8.1 in /usr/local/lib/python3.7/dist-packages (from notebook>=4.4.1->widgetsnbextension~=3.5.0->ipywidgets>=7.5.1->giotto-tda) (0.13.3)\n",
            "Requirement already satisfied: pyzmq>=13 in /usr/local/lib/python3.7/dist-packages (from jupyter-client->ipykernel>=4.5.1->ipywidgets>=7.5.1->giotto-tda) (22.3.0)\n",
            "Requirement already satisfied: python-dateutil>=2.1 in /usr/local/lib/python3.7/dist-packages (from jupyter-client->ipykernel>=4.5.1->ipywidgets>=7.5.1->giotto-tda) (2.8.2)\n",
            "Requirement already satisfied: ptyprocess in /usr/local/lib/python3.7/dist-packages (from terminado>=0.8.1->notebook>=4.4.1->widgetsnbextension~=3.5.0->ipywidgets>=7.5.1->giotto-tda) (0.7.0)\n",
            "Requirement already satisfied: MarkupSafe>=0.23 in /usr/local/lib/python3.7/dist-packages (from jinja2->notebook>=4.4.1->widgetsnbextension~=3.5.0->ipywidgets>=7.5.1->giotto-tda) (2.0.1)\n",
            "Requirement already satisfied: testpath in /usr/local/lib/python3.7/dist-packages (from nbconvert->notebook>=4.4.1->widgetsnbextension~=3.5.0->ipywidgets>=7.5.1->giotto-tda) (0.6.0)\n",
            "Requirement already satisfied: mistune<2,>=0.8.1 in /usr/local/lib/python3.7/dist-packages (from nbconvert->notebook>=4.4.1->widgetsnbextension~=3.5.0->ipywidgets>=7.5.1->giotto-tda) (0.8.4)\n",
            "Requirement already satisfied: pandocfilters>=1.4.1 in /usr/local/lib/python3.7/dist-packages (from nbconvert->notebook>=4.4.1->widgetsnbextension~=3.5.0->ipywidgets>=7.5.1->giotto-tda) (1.5.0)\n",
            "Requirement already satisfied: bleach in /usr/local/lib/python3.7/dist-packages (from nbconvert->notebook>=4.4.1->widgetsnbextension~=3.5.0->ipywidgets>=7.5.1->giotto-tda) (4.1.0)\n",
            "Requirement already satisfied: defusedxml in /usr/local/lib/python3.7/dist-packages (from nbconvert->notebook>=4.4.1->widgetsnbextension~=3.5.0->ipywidgets>=7.5.1->giotto-tda) (0.7.1)\n",
            "Requirement already satisfied: entrypoints>=0.2.2 in /usr/local/lib/python3.7/dist-packages (from nbconvert->notebook>=4.4.1->widgetsnbextension~=3.5.0->ipywidgets>=7.5.1->giotto-tda) (0.4)\n",
            "Requirement already satisfied: packaging in /usr/local/lib/python3.7/dist-packages (from bleach->nbconvert->notebook>=4.4.1->widgetsnbextension~=3.5.0->ipywidgets>=7.5.1->giotto-tda) (21.3)\n",
            "Requirement already satisfied: webencodings in /usr/local/lib/python3.7/dist-packages (from bleach->nbconvert->notebook>=4.4.1->widgetsnbextension~=3.5.0->ipywidgets>=7.5.1->giotto-tda) (0.5.1)\n",
            "Requirement already satisfied: pyparsing!=3.0.5,>=2.0.2 in /usr/local/lib/python3.7/dist-packages (from packaging->bleach->nbconvert->notebook>=4.4.1->widgetsnbextension~=3.5.0->ipywidgets>=7.5.1->giotto-tda) (3.0.7)\n",
            "Installing collected packages: texttable, scipy, igraph, python-igraph, pyflagser, giotto-tda\n",
            "  Attempting uninstall: scipy\n",
            "    Found existing installation: scipy 1.4.1\n",
            "    Uninstalling scipy-1.4.1:\n",
            "      Successfully uninstalled scipy-1.4.1\n",
            "\u001b[31mERROR: pip's dependency resolver does not currently take into account all the packages that are installed. This behaviour is the source of the following dependency conflicts.\n",
            "albumentations 0.1.12 requires imgaug<0.2.7,>=0.2.5, but you have imgaug 0.2.9 which is incompatible.\u001b[0m\n",
            "Successfully installed giotto-tda-0.5.1 igraph-0.9.9 pyflagser-0.4.4 python-igraph-0.9.9 scipy-1.7.3 texttable-1.6.4\n"
          ]
        }
      ]
    },
    {
      "cell_type": "markdown",
      "source": [
        "### Import"
      ],
      "metadata": {
        "id": "GPdU8-o7dKC6"
      }
    },
    {
      "cell_type": "code",
      "source": [
        "from numba import jit #utilising this library to speed up numpy computation\n",
        "import numpy as np\n",
        "import networkx as nx\n",
        "import math\n",
        "from networkx import tree\n",
        "import scipy.special as ss\n",
        "import gtda as gtda\n",
        "from gtda.homology import VietorisRipsPersistence, SparseRipsPersistence, FlagserPersistence\n",
        "from igraph import Graph\n",
        "import matplotlib\n",
        "from matplotlib import pyplot as plt\n",
        "from mpl_toolkits import mplot3d"
      ],
      "metadata": {
        "id": "LrkFP9VOUJjx"
      },
      "execution_count": null,
      "outputs": []
    },
    {
      "cell_type": "markdown",
      "source": [
        "## Random Graph generation"
      ],
      "metadata": {
        "id": "i2FJAtHaVhrL"
      }
    },
    {
      "cell_type": "markdown",
      "metadata": {
        "id": "Qbfy4VFg8Zhz"
      },
      "source": [
        "### Erdos-Renyi\n",
        "In this section we create a correlation matrix where for each threshold we generate an Erdos-Renyi graph.\n",
        "This correlation matrix is symmetric, positive and has null diagonal. Each element in the upper triangle is genated from an uniform [0,1] distribution. "
      ]
    },
    {
      "cell_type": "markdown",
      "metadata": {
        "id": "tKOLqAUB6Uva"
      },
      "source": [
        "There we create a function where we create an Erdos-renyi correlation matrix "
      ]
    },
    {
      "cell_type": "code",
      "execution_count": null,
      "metadata": {
        "id": "4lKe0Ezr6TBN"
      },
      "outputs": [],
      "source": [
        "def generate_Erdos_Renyi_correlation_matrix(n, seed=np.nan):\n",
        "  # preallocate output\n",
        "  corr_matrix=np.zeros([n,n])\n",
        "  \n",
        "  # generate random correlation\n",
        "\n",
        "  # set seed\n",
        "  if not np.isnan(seed):\n",
        "     rng=np.random.default_rng(seed)\n",
        "  else:\n",
        "    rng=np.random.default_rng() \n",
        "  # generate upper triangle\n",
        "  for i in range(0,n-1):\n",
        "    for j in range(i+1,n):\n",
        "      corr_matrix[i,j]=rng.uniform()\n",
        "  \n",
        "  # generate whole matrix\n",
        "  corr_matrix=corr_matrix+ corr_matrix.transpose()\n",
        "\n",
        "  return corr_matrix \n",
        "\n",
        "  "
      ]
    },
    {
      "cell_type": "markdown",
      "metadata": {
        "id": "lokbR9sq_qOS"
      },
      "source": [
        "Simple example to see if the function is working"
      ]
    },
    {
      "cell_type": "code",
      "execution_count": null,
      "metadata": {
        "colab": {
          "base_uri": "https://localhost:8080/"
        },
        "id": "gBWvvR45AHg-",
        "outputId": "2c1c62a4-fe5c-4616-8171-8454ff4e3f80"
      },
      "outputs": [
        {
          "output_type": "execute_result",
          "data": {
            "text/plain": [
              "array([[0.        , 0.09650849, 0.27348446, 0.32694251, 0.30826027],\n",
              "       [0.09650849, 0.        , 0.14155196, 0.07234424, 0.57565805],\n",
              "       [0.27348446, 0.14155196, 0.        , 0.45995284, 0.90732899],\n",
              "       [0.32694251, 0.07234424, 0.45995284, 0.        , 0.47697383],\n",
              "       [0.30826027, 0.57565805, 0.90732899, 0.47697383, 0.        ]])"
            ]
          },
          "metadata": {},
          "execution_count": 21
        }
      ],
      "source": [
        "generate_Erdos_Renyi_correlation_matrix(5)"
      ]
    },
    {
      "cell_type": "markdown",
      "metadata": {
        "id": "pL13zVGBAOUL"
      },
      "source": [
        "### Lattice WRONG\n",
        "Now, we want to do the same as before but for lattice network. The idea is to use networkx for creating a grid graph, then extract the adjacency matrix and then where we see 1 we generate a random number. \n"
      ]
    },
    {
      "cell_type": "markdown",
      "metadata": {
        "id": "86IiaVTluADi"
      },
      "source": [
        "#### First method from grid graph\n",
        "Below there are 3 functions needed to generate a random correlation matric for lattice graphs.\n",
        "- **generate_nd_lattice(dim)**: given the dimensions it gives a complete grid graph\n",
        "- **adjacency_to_correlation (A, seed=np.nan)**: a general function that given a adjacency matrix it gives a correlation matrix where each link is $\\sim$ Unif(0,1).\n",
        "- **generate_lattice_correlation_matrix(dim, seed=np.nan)**: It is the function that we want to use to generate a random correlation matrix for lattice graph. It uses the two preceding functions"
      ]
    },
    {
      "cell_type": "code",
      "execution_count": null,
      "metadata": {
        "id": "yAGSt7tpt-T-"
      },
      "outputs": [],
      "source": [
        "def generate_nd_lattice (dim): #genera lattice con le corrispondenti dimensioni\n",
        "  lattice = nx.grid_graph(dim)\n",
        "  lattice = nx.to_numpy_array(lattice)\n",
        "  return lattice\n",
        "#we can figure out lattice dimensions by roughly superimposing a rectangular grid over a human brain and figuring out estimate proportions"
      ]
    },
    {
      "cell_type": "code",
      "execution_count": null,
      "metadata": {
        "id": "q9RW0LLyv8Zo"
      },
      "outputs": [],
      "source": [
        "def adjacency_to_correlation (A, seed=np.nan): # genera corr matrix da qualsiasi adjacency\n",
        "  \n",
        "  #set seed\n",
        "  if not np.isnan(seed):\n",
        "    rng=np.random.default_rng(seed)\n",
        "  else:\n",
        "    rng=np.random.default_rng() \n",
        "  #generate random uniform correlation\n",
        "  A=np.triu(A)\n",
        "  length=sum(sum(A==1))\n",
        "  A[A==1]=rng.uniform(0,1,length)\n",
        "  A=A+A.transpose()\n",
        "  return A"
      ]
    },
    {
      "cell_type": "code",
      "execution_count": null,
      "metadata": {
        "id": "Jy7Yg3KV5Zfz"
      },
      "outputs": [],
      "source": [
        "def generate_lattice_correlation_matrix(dim, seed=np.nan):\n",
        "  complete_lattice = generate_nd_lattice(dim)\n",
        "  random_lattice = adjacency_to_correlation(complete_lattice, seed)\n",
        "  return random_lattice\n"
      ]
    },
    {
      "cell_type": "markdown",
      "metadata": {
        "id": "nz2uOSsV5dAa"
      },
      "source": [
        "Simple example"
      ]
    },
    {
      "cell_type": "code",
      "execution_count": null,
      "metadata": {
        "colab": {
          "base_uri": "https://localhost:8080/"
        },
        "id": "wiLO1VL75dah",
        "outputId": "4791dd06-d97a-48c2-f45d-476fd7869708"
      },
      "outputs": [
        {
          "output_type": "stream",
          "name": "stdout",
          "text": [
            "[[0. 1. 1. 0. 1. 0. 0. 0.]\n",
            " [1. 0. 0. 1. 0. 1. 0. 0.]\n",
            " [1. 0. 0. 1. 0. 0. 1. 0.]\n",
            " [0. 1. 1. 0. 0. 0. 0. 1.]\n",
            " [1. 0. 0. 0. 0. 1. 1. 0.]\n",
            " [0. 1. 0. 0. 1. 0. 0. 1.]\n",
            " [0. 0. 1. 0. 1. 0. 0. 1.]\n",
            " [0. 0. 0. 1. 0. 1. 1. 0.]]\n",
            "[[0.         0.80500292 0.80794079 0.         0.51532556 0.\n",
            "  0.         0.        ]\n",
            " [0.80500292 0.         0.         0.28580138 0.         0.0539307\n",
            "  0.         0.        ]\n",
            " [0.80794079 0.         0.         0.38336888 0.         0.\n",
            "  0.40847321 0.        ]\n",
            " [0.         0.28580138 0.38336888 0.         0.         0.\n",
            "  0.         0.04527519]\n",
            " [0.51532556 0.         0.         0.         0.         0.04875771\n",
            "  0.99917612 0.        ]\n",
            " [0.         0.0539307  0.         0.         0.04875771 0.\n",
            "  0.         0.65236911]\n",
            " [0.         0.         0.40847321 0.         0.99917612 0.\n",
            "  0.         0.2345102 ]\n",
            " [0.         0.         0.         0.04527519 0.         0.65236911\n",
            "  0.2345102  0.        ]]\n"
          ]
        },
        {
          "output_type": "display_data",
          "data": {
            "text/plain": [
              "<Figure size 432x288 with 1 Axes>"
            ],
            "image/png": "[encoded data removed]"
          },
          "metadata": {}
        }
      ],
      "source": [
        "A=generate_nd_lattice([2,2,2])\n",
        "print(A)\n",
        "A=adjacency_to_correlation(A,5)\n",
        "print(A)\n",
        "nx.draw(nx.from_numpy_matrix(A))"
      ]
    },
    {
      "cell_type": "markdown",
      "metadata": {
        "id": "3vZKq40POD9e"
      },
      "source": [
        "### Lattice\n",
        "The first method might be wrong. Lattice shold be connected to the nearest k nodes, not as a grid. We have to do it again"
      ]
    },
    {
      "cell_type": "code",
      "execution_count": null,
      "metadata": {
        "id": "KRUdiGQdOD9e"
      },
      "outputs": [],
      "source": [
        "def generate_ring_lattice_correlation_matrix(n, seed=np.nan):\n",
        "  \n",
        "  max_edge=n*(n-1)/2\n",
        "  \n",
        "  # preallocate output\n",
        "  corr_matrix=np.zeros([n,n])\n",
        "  \n",
        "  # generate random correlation\n",
        "  # set seed\n",
        "  if not np.isnan(seed):\n",
        "     rng=np.random.default_rng(seed)\n",
        "  else:\n",
        "    rng=np.random.default_rng() \n",
        "\n",
        "\n",
        "  G=nx.watts_strogatz_graph(n, 2, 0)\n",
        "  G_adjacency=nx.to_numpy_array(G)\n",
        "  G_adjacency=np.triu(G_adjacency) \n",
        "  length=sum(sum(G_adjacency==1))\n",
        "  G_adjacency[G_adjacency==1]=rng.uniform(1-length/max_edge,1,length)\n",
        "  a=1-length/max_edge\n",
        "  \n",
        "  corr_matrix+=G_adjacency\n",
        "\n",
        "  for k in range(1,int(np.floor(n/2))):\n",
        "    #creo ring lattice con 2*k e 2*(k+1) edges\n",
        "    G=nx.watts_strogatz_graph(n, 2*k, 0)\n",
        "    H=nx.watts_strogatz_graph(n, 2*(k+1), 0)\n",
        "    H_adjacency=nx.to_numpy_array(H)\n",
        "    G_adjacency=nx.to_numpy_array(G)\n",
        "    diff_adjacency=H_adjacency-G_adjacency\n",
        "    diff_adjacency=np.triu(diff_adjacency)\n",
        "    # prendo la differenza, conto quanti sono\n",
        "    diff_adjacency=H_adjacency-G_adjacency\n",
        "    diff_adjacency=np.triu(diff_adjacency)\n",
        "  \n",
        "    length=sum(sum(diff_adjacency==1))\n",
        "    #faccio unif nella parte nell'intervallo dalla fine del precedente a la porzione di nodi da inserire rispetto al totale\n",
        "    diff_adjacency[diff_adjacency==1]=rng.uniform(a-length/max_edge,a,length)\n",
        "    a=a-length/max_edge\n",
        "    corr_matrix+=diff_adjacency\n",
        "\n",
        "  return corr_matrix+np.transpose(corr_matrix)"
      ]
    },
    {
      "cell_type": "markdown",
      "metadata": {
        "id": "Dut5D4esWkwV"
      },
      "source": [
        "I had some problems installing cechmate, maybe it is not possible to use it. In that case i think I have to read https://giotto-ai.github.io/gtda-docs/latest/notebooks/persistent_homology_graphs.html#undirected-graphs-vietorisripspersistence-and-sparseripspersistence and maje the graph such that the filtration becames automatic"
      ]
    },
    {
      "cell_type": "markdown",
      "metadata": {
        "id": "OHllJvZuOLCZ"
      },
      "source": [
        "### Small world\n",
        "now, we want to generate correlation matrices for small world graph from watts_strogatz_graph."
      ]
    },
    {
      "cell_type": "code",
      "execution_count": null,
      "metadata": {
        "id": "1ofO_yFhOLCa"
      },
      "outputs": [],
      "source": [
        "@jit()\n",
        "def generate_small_world_correlation_matrix(n,p, seed=np.nan):\n",
        "  max_edge=n*(n-1)/2\n",
        "  \n",
        "  # preallocate output\n",
        "  corr_matrix=np.zeros([n,n])\n",
        "  \n",
        "  # generate random correlation\n",
        "\n",
        "  # set seed\n",
        "  if not np.isnan(seed):\n",
        "     rng=np.random.default_rng(seed)\n",
        "  else:\n",
        "    rng=np.random.default_rng() \n",
        "    seed=0 #da modificare\n",
        "\n",
        "\n",
        "  G=nx.watts_strogatz_graph(n, 2, p,seed)\n",
        "  G_adjacency=nx.to_numpy_array(G)\n",
        "  G_adjacency=np.triu(G_adjacency) \n",
        "  length=sum(sum(G_adjacency==1))\n",
        "  G_adjacency[G_adjacency==1]=rng.uniform(1-length/max_edge,1,length)\n",
        "  a=1-length/max_edge\n",
        "  \n",
        "  corr_matrix+=G_adjacency\n",
        "\n",
        "  for k in range(1,int(np.floor(n/2))):\n",
        "    #creo ring lattice con 2*k e 2*(k+1) edges\n",
        "    G=nx.watts_strogatz_graph(n, 2*k, p,seed)\n",
        "    H=nx.watts_strogatz_graph(n, 2*(k+1), p,seed)\n",
        "    H_adjacency=nx.to_numpy_array(H)\n",
        "    G_adjacency=nx.to_numpy_array(G)\n",
        "    diff_adjacency=H_adjacency-G_adjacency\n",
        "    diff_adjacency=np.triu(diff_adjacency)\n",
        "    # prendo la differenza, conto quanti sono\n",
        "    diff_adjacency=H_adjacency-G_adjacency\n",
        "    diff_adjacency=np.triu(diff_adjacency)\n",
        "  \n",
        "    length=sum(sum(diff_adjacency==1))\n",
        "    #faccio unif nella parte nell'intervallo dalla fine del precedente a la porzione di nodi da inserire rispetto al totale\n",
        "    diff_adjacency[diff_adjacency==1]=rng.uniform(a-length/max_edge,a,length)\n",
        "    a=a-length/max_edge\n",
        "    corr_matrix+=diff_adjacency\n",
        "\n",
        "  return corr_matrix+np.transpose(corr_matrix)\n"
      ]
    },
    {
      "cell_type": "markdown",
      "metadata": {
        "id": "6yKyM0Gh374P"
      },
      "source": [
        "## From correlation matrix to graph\n",
        "In this section we want to create a function that generate an adjency matrix from a correlation matrix given a specified threshold. We would like to have a connected graph, therefore we use a function provided to us that add to the initially created graph a spanning tree that does not modify homological properties of the graph\n",
        "\n",
        "\n"
      ]
    },
    {
      "cell_type": "code",
      "execution_count": null,
      "metadata": {
        "id": "2PVG3ogaBcUH"
      },
      "outputs": [],
      "source": [
        "def adj_matrix_notconncted(corr_matrix, eps):#this function it is not used, but maybe it will be useful in the future\n",
        "  cond=corr_matrix<1-eps\n",
        "  adj_matrix=np.zeros(np.shape(corr_matrix))\n",
        "  adj_matrix[np.where(cond)]=0\n",
        "  adj_matrix[np.where(np.logical_not(cond))]=1\n",
        "  return adj_matrix\n"
      ]
    },
    {
      "cell_type": "code",
      "execution_count": null,
      "metadata": {
        "id": "iF5Laze68hDv"
      },
      "outputs": [],
      "source": [
        "@jit()\n",
        "def adj_matrix_connected(corr_matrix,sparsity_value):\n",
        "    \"\"\"\n",
        "    given the correlation matrix and the expected sparsity coefficient it can \n",
        "    happen that the corresponding thresholded matrix results in a disconnected graph\n",
        "    here we force the graph to be fully connected by the computation of the minimum\n",
        "    spanning tree and adding the required edges in order to have a unique connected component \n",
        "    \"\"\"\n",
        "    if sparsity_value == 1.0:\n",
        "        adj_matrix=np.ones(corr_matrix.shape)\n",
        "        np.fill_diagonal(adj_matrix,0)\n",
        "        return adj_matrix\n",
        "        \n",
        "    #aggiungere l'errore se lo sparsity value è troppo basso\n",
        "    \n",
        "    corr_matrix =abs(corr_matrix)\n",
        "\n",
        "    max_num_edges = ss.comb(corr_matrix.shape[0],2)\n",
        "    num_edges = int(max_num_edges*sparsity_value)\n",
        "    \n",
        "    num_regions=corr_matrix.shape[0]\n",
        "    #total number of regions in the graph\n",
        "\n",
        "\n",
        "    totalgraph=nx.from_numpy_matrix(1-abs(corr_matrix))\n",
        "    #extraction of a complete graph having has weight 1-abs(correlation)\n",
        "    #we need to take 1-abs since the mst is taking the minimum weight graph and we want the most correlated edges to be there\n",
        "    \n",
        "    MST=nx.adjacency_matrix(tree.minimum_spanning_tree(totalgraph).to_undirected()).todense()\n",
        "    MST_adj_mat=MST #inutile\n",
        "    MST_adj_mat[MST>0]==1 #inutile\n",
        "    MST_adj_mat=np.triu(MST_adj_mat) #put zeros in the inferior triangular matrix\n",
        "    \n",
        "    #put zeros in the diagonal of the corr matrix\n",
        "    for i in range(num_regions):\n",
        "        corr_matrix[i,i]=0\n",
        "    \n",
        "    values_corr=abs(np.triu(corr_matrix)) #forse abs inutile\n",
        "    \n",
        "    cor_wo_MST=values_corr[np.triu(MST_adj_mat)==0]\n",
        "    #we do not consider the correlation values which do not involve edges that are already in the MST\n",
        "        #we consider the correlation values which do not involve edges that are already in the MST ???\n",
        "    values=list(cor_wo_MST.flatten())\n",
        "    values.sort(reverse=True)\n",
        "    \n",
        "    #we select the maximum value of correlation to have the expected num of edges - num of edges in the mst (num regions-1)\n",
        "    # values must have at least 1 element: AT LEAST 1 LINK MORE THAN  THE  SPANNING TREE\n",
        "    value_thresh=values[min(num_edges-(num_regions-1),len(values))-1] #-1 index start at 0\n",
        "    #notice, we can't choose a sparsity value resulting in a nuber of edges lower than then number of edges in the spanning tree (sparsity value tree  = 2*(n-1)/(n-1)*n = 1*2/n)\n",
        "    adj_matrix=np.zeros(corr_matrix.shape) \n",
        "    \n",
        "    #we put an edge if the value of correlation is higher than the found threshold or if the edges is required by the mst\n",
        "    adj_matrix[values_corr>=value_thresh]=1\n",
        "    adj_matrix[MST_adj_mat!=0]=1\n",
        "    \n",
        "    adj_matrix=(adj_matrix)+np.transpose((adj_matrix)) #simmetry of the adj matrix\n",
        "    \n",
        "    return adj_matrix\n"
      ]
    },
    {
      "cell_type": "markdown",
      "metadata": {
        "id": "Zk8n5DJYHEyH"
      },
      "source": [
        "The function above, gives some problems when the sparsity value is too little. An example follows."
      ]
    },
    {
      "cell_type": "code",
      "execution_count": null,
      "metadata": {
        "colab": {
          "base_uri": "https://localhost:8080/"
        },
        "id": "X5tBCyOAFrMC",
        "outputId": "a2d7ef87-88cf-4870-d7df-adabc2aaae9d"
      },
      "outputs": [
        {
          "output_type": "stream",
          "name": "stderr",
          "text": [
            "<ipython-input-29-00f6cf815520>:1: NumbaWarning: \n",
            "Compilation is falling back to object mode WITH looplifting enabled because Function \"adj_matrix_connected\" failed type inference due to: No implementation of function Function(<built-in function abs>) found for signature:\n",
            " \n",
            " >>> abs(array(float64, 2d, C))\n",
            " \n",
            "There are 4 candidate implementations:\n",
            "    - Of which 2 did not match due to:\n",
            "    Type Restricted Function in function 'abs': File: unknown: Line unknown.\n",
            "      With argument(s): '(array(float64, 2d, C))':\n",
            "     No match for registered cases:\n",
            "      * (int8,) -> int8\n",
            "      * (int16,) -> int16\n",
            "      * (int32,) -> int32\n",
            "      * (int64,) -> int64\n",
            "      * (uint8,) -> uint8\n",
            "      * (uint16,) -> uint16\n",
            "      * (uint32,) -> uint32\n",
            "      * (uint64,) -> uint64\n",
            "      * (float32,) -> float32\n",
            "      * (float64,) -> float64\n",
            "      * (complex64,) -> float32\n",
            "      * (complex128,) -> float64\n",
            "    - Of which 2 did not match due to:\n",
            "    Overload of function 'abs': File: numba/core/typing/npdatetime.py: Line 20.\n",
            "      With argument(s): '(array(float64, 2d, C))':\n",
            "     No match.\n",
            "\n",
            "During: resolving callee type: Function(<built-in function abs>)\n",
            "During: typing of call at <ipython-input-29-00f6cf815520> (16)\n",
            "\n",
            "\n",
            "File \"<ipython-input-29-00f6cf815520>\", line 16:\n",
            "def adj_matrix_connected(corr_matrix,sparsity_value):\n",
            "    <source elided>\n",
            "    \n",
            "    corr_matrix =abs(corr_matrix)\n",
            "    ^\n",
            "\n",
            "  @jit()\n",
            "<ipython-input-29-00f6cf815520>:1: NumbaWarning: \n",
            "Compilation is falling back to object mode WITHOUT looplifting enabled because Function \"adj_matrix_connected\" failed type inference due to: cannot determine Numba type of <class 'numba.core.dispatcher.LiftedLoop'>\n",
            "\n",
            "File \"<ipython-input-29-00f6cf815520>\", line 35:\n",
            "def adj_matrix_connected(corr_matrix,sparsity_value):\n",
            "    <source elided>\n",
            "    #put zeros in the diagonal of the corr matrix\n",
            "    for i in range(num_regions):\n",
            "    ^\n",
            "\n",
            "  @jit()\n",
            "/usr/local/lib/python3.7/dist-packages/numba/core/object_mode_passes.py:178: NumbaWarning: Function \"adj_matrix_connected\" was compiled in object mode without forceobj=True, but has lifted loops.\n",
            "\n",
            "File \"<ipython-input-29-00f6cf815520>\", line 9:\n",
            "def adj_matrix_connected(corr_matrix,sparsity_value):\n",
            "    <source elided>\n",
            "    \"\"\"\n",
            "    if sparsity_value == 1.0:\n",
            "    ^\n",
            "\n",
            "  state.func_ir.loc))\n",
            "/usr/local/lib/python3.7/dist-packages/numba/core/object_mode_passes.py:188: NumbaDeprecationWarning: \n",
            "Fall-back from the nopython compilation path to the object mode compilation path has been detected, this is deprecated behaviour.\n",
            "\n",
            "For more information visit https://numba.pydata.org/numba-doc/latest/reference/deprecation.html#deprecation-of-object-mode-fall-back-behaviour-when-using-jit\n",
            "\n",
            "File \"<ipython-input-29-00f6cf815520>\", line 9:\n",
            "def adj_matrix_connected(corr_matrix,sparsity_value):\n",
            "    <source elided>\n",
            "    \"\"\"\n",
            "    if sparsity_value == 1.0:\n",
            "    ^\n",
            "\n",
            "  state.func_ir.loc))\n"
          ]
        },
        {
          "output_type": "display_data",
          "data": {
            "text/plain": [
              "<Figure size 432x288 with 1 Axes>"
            ],
            "image/png": "[encoded data removed]"
          },
          "metadata": {}
        }
      ],
      "source": [
        "G=generate_Erdos_Renyi_correlation_matrix(10,10)\n",
        "\n",
        "nx.draw(nx.from_numpy_matrix(adj_matrix_connected(G,0.1)))"
      ]
    },
    {
      "cell_type": "markdown",
      "metadata": {
        "id": "D1CxD2zeJYna"
      },
      "source": [
        "## Extracting filtration from correlation matrices\n",
        "in this section we want to make a filtration from correlation matrices. The idea is to increase the threshold $ɛ$ in order to create more and more connected graphs. Given each graph $G_ɛ$ we want to write it as a simplicial complex, therefore we have to find the cliques trhough networkx"
      ]
    },
    {
      "cell_type": "markdown",
      "metadata": {
        "id": "KKJJoCiPPNDd"
      },
      "source": [
        "### generate_graph_sequence()\n",
        "This is the function generating the graph sequence needed for the filtration"
      ]
    },
    {
      "cell_type": "code",
      "execution_count": null,
      "metadata": {
        "id": "J29tWsrSKYFl"
      },
      "outputs": [],
      "source": [
        "@jit()\n",
        "def generate_graph_sequence(corr_matrix, costs):\n",
        "\n",
        "\n",
        "  # input:\n",
        "  #   correlation matrix: is the correlation matrix where we need to extract \n",
        "  #                       using the function provided to us\n",
        "  #   costs: is the list of cost where we decided to make the filtration\n",
        "  # output:\n",
        "  #   graph_sequence: it is a list of numpy matrices, each being an adjacency \n",
        "  #                   matrix of a graph of hte filtration\n",
        "  \n",
        "  graph_sequence=list()\n",
        "  for eps in costs:\n",
        "    graph_sequence.append(adj_matrix_connected(corr_matrix,eps))\n",
        "  return graph_sequence\n",
        "\n"
      ]
    },
    {
      "cell_type": "markdown",
      "metadata": {
        "id": "MTip0cSgNTnG"
      },
      "source": [
        "below some exaples, it seems to work even though the problem with the function adj_matrix_connected() remains."
      ]
    },
    {
      "cell_type": "code",
      "execution_count": null,
      "metadata": {
        "colab": {
          "base_uri": "https://localhost:8080/"
        },
        "id": "puDIc-HjLlxH",
        "outputId": "638b8016-5712-4c49-b420-4fac06ccb3e5"
      },
      "outputs": [
        {
          "output_type": "stream",
          "name": "stderr",
          "text": [
            "<ipython-input-31-5bfd9e0ed268>:1: NumbaWarning: \n",
            "Compilation is falling back to object mode WITH looplifting enabled because Function \"generate_graph_sequence\" failed type inference due to: Invalid use of type(CPUDispatcher(<function adj_matrix_connected at 0x7f271464d320>)) with parameters (array(float64, 2d, C), float64)\n",
            "\n",
            "During: resolving callee type: type(CPUDispatcher(<function adj_matrix_connected at 0x7f271464d320>))\n",
            "During: typing of call at <ipython-input-31-5bfd9e0ed268> (15)\n",
            "\n",
            "\n",
            "File \"<ipython-input-31-5bfd9e0ed268>\", line 15:\n",
            "def generate_graph_sequence(corr_matrix, costs):\n",
            "    <source elided>\n",
            "  for eps in costs:\n",
            "    graph_sequence.append(adj_matrix_connected(corr_matrix,eps))\n",
            "    ^\n",
            "\n",
            "  @jit()\n",
            "<ipython-input-31-5bfd9e0ed268>:1: NumbaWarning: \n",
            "Compilation is falling back to object mode WITHOUT looplifting enabled because Function \"generate_graph_sequence\" failed type inference due to: cannot determine Numba type of <class 'numba.core.dispatcher.LiftedLoop'>\n",
            "\n",
            "File \"<ipython-input-31-5bfd9e0ed268>\", line 14:\n",
            "def generate_graph_sequence(corr_matrix, costs):\n",
            "    <source elided>\n",
            "  graph_sequence=list()\n",
            "  for eps in costs:\n",
            "  ^\n",
            "\n",
            "  @jit()\n",
            "/usr/local/lib/python3.7/dist-packages/numba/core/object_mode_passes.py:178: NumbaWarning: Function \"generate_graph_sequence\" was compiled in object mode without forceobj=True, but has lifted loops.\n",
            "\n",
            "File \"<ipython-input-31-5bfd9e0ed268>\", line 13:\n",
            "def generate_graph_sequence(corr_matrix, costs):\n",
            "    <source elided>\n",
            "  \n",
            "  graph_sequence=list()\n",
            "  ^\n",
            "\n",
            "  state.func_ir.loc))\n",
            "/usr/local/lib/python3.7/dist-packages/numba/core/object_mode_passes.py:188: NumbaDeprecationWarning: \n",
            "Fall-back from the nopython compilation path to the object mode compilation path has been detected, this is deprecated behaviour.\n",
            "\n",
            "For more information visit https://numba.pydata.org/numba-doc/latest/reference/deprecation.html#deprecation-of-object-mode-fall-back-behaviour-when-using-jit\n",
            "\n",
            "File \"<ipython-input-31-5bfd9e0ed268>\", line 13:\n",
            "def generate_graph_sequence(corr_matrix, costs):\n",
            "    <source elided>\n",
            "  \n",
            "  graph_sequence=list()\n",
            "  ^\n",
            "\n",
            "  state.func_ir.loc))\n",
            "<ipython-input-31-5bfd9e0ed268>:1: NumbaWarning: \n",
            "Compilation is falling back to object mode WITHOUT looplifting enabled because Function \"generate_graph_sequence\" failed type inference due to: non-precise type pyobject\n",
            "During: typing of argument at <ipython-input-31-5bfd9e0ed268> (14)\n",
            "\n",
            "File \"<ipython-input-31-5bfd9e0ed268>\", line 14:\n",
            "def generate_graph_sequence(corr_matrix, costs):\n",
            "    <source elided>\n",
            "  graph_sequence=list()\n",
            "  for eps in costs:\n",
            "  ^\n",
            "\n",
            "  @jit()\n",
            "/usr/local/lib/python3.7/dist-packages/numba/core/object_mode_passes.py:178: NumbaWarning: Function \"generate_graph_sequence\" was compiled in object mode without forceobj=True.\n",
            "\n",
            "File \"<ipython-input-31-5bfd9e0ed268>\", line 14:\n",
            "def generate_graph_sequence(corr_matrix, costs):\n",
            "    <source elided>\n",
            "  graph_sequence=list()\n",
            "  for eps in costs:\n",
            "  ^\n",
            "\n",
            "  state.func_ir.loc))\n",
            "/usr/local/lib/python3.7/dist-packages/numba/core/object_mode_passes.py:188: NumbaDeprecationWarning: \n",
            "Fall-back from the nopython compilation path to the object mode compilation path has been detected, this is deprecated behaviour.\n",
            "\n",
            "For more information visit https://numba.pydata.org/numba-doc/latest/reference/deprecation.html#deprecation-of-object-mode-fall-back-behaviour-when-using-jit\n",
            "\n",
            "File \"<ipython-input-31-5bfd9e0ed268>\", line 14:\n",
            "def generate_graph_sequence(corr_matrix, costs):\n",
            "    <source elided>\n",
            "  graph_sequence=list()\n",
            "  for eps in costs:\n",
            "  ^\n",
            "\n",
            "  state.func_ir.loc))\n"
          ]
        },
        {
          "output_type": "display_data",
          "data": {
            "text/plain": [
              "<Figure size 432x288 with 1 Axes>"
            ],
            "image/png": "[encoded data removed]"
          },
          "metadata": {}
        }
      ],
      "source": [
        "G=generate_Erdos_Renyi_correlation_matrix(10,0)\n",
        "costs=np.linspace(0,1,21)\n",
        "graph_filtration=generate_graph_sequence(G,costs)\n",
        "#for example: in this case we had no problem from 5 up, 4 becames a strange graph\n",
        "nx.draw_networkx(nx.from_numpy_matrix(graph_filtration[5]))"
      ]
    },
    {
      "cell_type": "code",
      "execution_count": null,
      "metadata": {
        "colab": {
          "base_uri": "https://localhost:8080/"
        },
        "id": "s6zwHM64SJmA",
        "outputId": "91c35048-f32f-4753-cba7-d472038534b4"
      },
      "outputs": [
        {
          "output_type": "display_data",
          "data": {
            "text/plain": [
              "<Figure size 432x288 with 1 Axes>"
            ],
            "image/png": "[encoded data removed]"
          },
          "metadata": {}
        }
      ],
      "source": [
        "nx.draw_networkx(nx.from_numpy_matrix(graph_filtration[15]))"
      ]
    },
    {
      "cell_type": "markdown",
      "metadata": {
        "id": "PtvgDORz3wKh"
      },
      "source": [
        "Examples with random lattice\n",
        "\n"
      ]
    },
    {
      "cell_type": "code",
      "execution_count": null,
      "metadata": {
        "colab": {
          "base_uri": "https://localhost:8080/"
        },
        "id": "uHpf_vZL3vz0",
        "outputId": "12f8d446-5355-4dc6-a600-fcbeba8c786e"
      },
      "outputs": [
        {
          "output_type": "display_data",
          "data": {
            "text/plain": [
              "<Figure size 432x288 with 1 Axes>"
            ],
            "image/png": "[encoded data removed]"
          },
          "metadata": {}
        }
      ],
      "source": [
        "G=generate_lattice_correlation_matrix([2,2,2],0)\n",
        "costs=np.linspace(0,1,21)\n",
        "graph_filtration=generate_graph_sequence(G,costs)\n",
        "#for example: in this case it works only between 6 and 9\n",
        "nx.draw_networkx(nx.from_numpy_matrix(graph_filtration[8]))"
      ]
    },
    {
      "cell_type": "code",
      "execution_count": null,
      "metadata": {
        "colab": {
          "base_uri": "https://localhost:8080/"
        },
        "id": "ycQKGtOsOD9f",
        "outputId": "8ad16924-ac62-4f8b-9c36-c3812dac9b29"
      },
      "outputs": [
        {
          "output_type": "display_data",
          "data": {
            "text/plain": [
              "<Figure size 432x288 with 1 Axes>"
            ],
            "image/png": "[encoded data removed]"
          },
          "metadata": {}
        }
      ],
      "source": [
        "C=generate_ring_lattice_correlation_matrix(20,1)\n",
        "costs=np.linspace(1/9,1,100)\n",
        "graph_filtration=generate_graph_sequence(C,costs)\n",
        "nx.draw_networkx(nx.from_numpy_matrix(graph_filtration[13]))\n"
      ]
    },
    {
      "cell_type": "code",
      "execution_count": null,
      "metadata": {
        "colab": {
          "base_uri": "https://localhost:8080/"
        },
        "id": "LN9t1qiSOLCa",
        "outputId": "08b7f1fd-0495-4182-8b59-5cce16215856"
      },
      "outputs": [
        {
          "output_type": "stream",
          "name": "stderr",
          "text": [
            "<ipython-input-27-e0b9d99be811>:1: NumbaWarning: \n",
            "Compilation is falling back to object mode WITH looplifting enabled because Function \"generate_small_world_correlation_matrix\" failed type inference due to: Untyped global name 'sum': cannot determine Numba type of <class 'builtin_function_or_method'>\n",
            "\n",
            "File \"<ipython-input-27-e0b9d99be811>\", line 21:\n",
            "def generate_small_world_correlation_matrix(n,p, seed=np.nan):\n",
            "    <source elided>\n",
            "  G_adjacency=np.triu(G_adjacency) \n",
            "  length=sum(sum(G_adjacency==1))\n",
            "  ^\n",
            "\n",
            "  @jit()\n",
            "<ipython-input-27-e0b9d99be811>:1: NumbaWarning: \n",
            "Compilation is falling back to object mode WITHOUT looplifting enabled because Function \"generate_small_world_correlation_matrix\" failed type inference due to: Untyped global name 'sum': cannot determine Numba type of <class 'builtin_function_or_method'>\n",
            "\n",
            "File \"<ipython-input-27-e0b9d99be811>\", line 21:\n",
            "def generate_small_world_correlation_matrix(n,p, seed=np.nan):\n",
            "    <source elided>\n",
            "  G_adjacency=np.triu(G_adjacency) \n",
            "  length=sum(sum(G_adjacency==1))\n",
            "  ^\n",
            "\n",
            "  @jit()\n",
            "/usr/local/lib/python3.7/dist-packages/numba/core/object_mode_passes.py:178: NumbaWarning: Function \"generate_small_world_correlation_matrix\" was compiled in object mode without forceobj=True, but has lifted loops.\n",
            "\n",
            "File \"<ipython-input-27-e0b9d99be811>\", line 3:\n",
            "def generate_small_world_correlation_matrix(n,p, seed=np.nan):\n",
            "  max_edge=n*(n-1)/2\n",
            "  ^\n",
            "\n",
            "  state.func_ir.loc))\n",
            "/usr/local/lib/python3.7/dist-packages/numba/core/object_mode_passes.py:188: NumbaDeprecationWarning: \n",
            "Fall-back from the nopython compilation path to the object mode compilation path has been detected, this is deprecated behaviour.\n",
            "\n",
            "For more information visit https://numba.pydata.org/numba-doc/latest/reference/deprecation.html#deprecation-of-object-mode-fall-back-behaviour-when-using-jit\n",
            "\n",
            "File \"<ipython-input-27-e0b9d99be811>\", line 3:\n",
            "def generate_small_world_correlation_matrix(n,p, seed=np.nan):\n",
            "  max_edge=n*(n-1)/2\n",
            "  ^\n",
            "\n",
            "  state.func_ir.loc))\n",
            "<ipython-input-27-e0b9d99be811>:1: NumbaWarning: \n",
            "Compilation is falling back to object mode WITHOUT looplifting enabled because Function \"generate_small_world_correlation_matrix\" failed type inference due to: Untyped global name 'sum': cannot determine Numba type of <class 'builtin_function_or_method'>\n",
            "\n",
            "File \"<ipython-input-27-e0b9d99be811>\", line 39:\n",
            "def generate_small_world_correlation_matrix(n,p, seed=np.nan):\n",
            "    <source elided>\n",
            "  \n",
            "    length=sum(sum(diff_adjacency==1))\n",
            "    ^\n",
            "\n",
            "  @jit()\n",
            "/usr/local/lib/python3.7/dist-packages/numba/core/object_mode_passes.py:178: NumbaWarning: Function \"generate_small_world_correlation_matrix\" was compiled in object mode without forceobj=True.\n",
            "\n",
            "File \"<ipython-input-27-e0b9d99be811>\", line 27:\n",
            "def generate_small_world_correlation_matrix(n,p, seed=np.nan):\n",
            "    <source elided>\n",
            "\n",
            "  for k in range(1,int(np.floor(n/2))):\n",
            "  ^\n",
            "\n",
            "  state.func_ir.loc))\n",
            "/usr/local/lib/python3.7/dist-packages/numba/core/object_mode_passes.py:188: NumbaDeprecationWarning: \n",
            "Fall-back from the nopython compilation path to the object mode compilation path has been detected, this is deprecated behaviour.\n",
            "\n",
            "For more information visit https://numba.pydata.org/numba-doc/latest/reference/deprecation.html#deprecation-of-object-mode-fall-back-behaviour-when-using-jit\n",
            "\n",
            "File \"<ipython-input-27-e0b9d99be811>\", line 27:\n",
            "def generate_small_world_correlation_matrix(n,p, seed=np.nan):\n",
            "    <source elided>\n",
            "\n",
            "  for k in range(1,int(np.floor(n/2))):\n",
            "  ^\n",
            "\n",
            "  state.func_ir.loc))\n"
          ]
        },
        {
          "output_type": "display_data",
          "data": {
            "text/plain": [
              "<Figure size 432x288 with 1 Axes>"
            ],
            "image/png": "[encoded data removed]"
          },
          "metadata": {}
        }
      ],
      "source": [
        "C=generate_small_world_correlation_matrix(20,0.05,1)\n",
        "costs=np.linspace(1/9,1,100)\n",
        "graph_filtration=generate_graph_sequence(C,costs)\n",
        "nx.draw_networkx(nx.from_numpy_matrix(graph_filtration[20]))"
      ]
    },
    {
      "cell_type": "markdown",
      "metadata": {
        "id": "Bn7g2uW0PbS9"
      },
      "source": [
        "### generate_complex_filtration()\n",
        "From the list of graph we want to have a list of simplicial complexes. This is done in the following function\n",
        "\n",
        "It does not seem to be useful"
      ]
    },
    {
      "cell_type": "code",
      "execution_count": null,
      "metadata": {
        "id": "L7jBKMKSPJgK"
      },
      "outputs": [],
      "source": [
        "@jit()\n",
        "def generate_complex_filtration(graph_sequence):\n",
        "  # input:\n",
        "  #   graph_sequence: it is the graph sequence in the filtration we are \n",
        "  #                   interested in\n",
        "  # output:\n",
        "  #   complex_sequence: it is a list of list of arrays, each being a clique for \n",
        "  #                     a graph in the sequence\n",
        "  complex_sequence=list()\n",
        "  for graph in graph_sequence:\n",
        "    complex_sequence.append(list(nx.find_cliques(nx.from_numpy_matrix(graph))))\n",
        "  return complex_sequence"
      ]
    },
    {
      "cell_type": "markdown",
      "metadata": {
        "id": "EiOTWksqSWft"
      },
      "source": [
        "we continue the example made before, it seems all coherent."
      ]
    },
    {
      "cell_type": "code",
      "execution_count": null,
      "metadata": {
        "colab": {
          "base_uri": "https://localhost:8080/"
        },
        "id": "VklaJQxHRJuS",
        "outputId": "585c9303-bef1-43dd-e374-7656376c69f9"
      },
      "outputs": [
        {
          "output_type": "stream",
          "name": "stderr",
          "text": [
            "<ipython-input-37-26c01dabad98>:1: NumbaWarning: \n",
            "Compilation is falling back to object mode WITH looplifting enabled because Function \"generate_complex_filtration\" failed type inference due to: Unknown attribute 'find_cliques' of type Module(<module 'networkx' from '/usr/local/lib/python3.7/dist-packages/networkx/__init__.py'>)\n",
            "\n",
            "File \"<ipython-input-37-26c01dabad98>\", line 11:\n",
            "def generate_complex_filtration(graph_sequence):\n",
            "    <source elided>\n",
            "  for graph in graph_sequence:\n",
            "    complex_sequence.append(list(nx.find_cliques(nx.from_numpy_matrix(graph))))\n",
            "    ^\n",
            "\n",
            "During: typing of get attribute at <ipython-input-37-26c01dabad98> (11)\n",
            "\n",
            "File \"<ipython-input-37-26c01dabad98>\", line 11:\n",
            "def generate_complex_filtration(graph_sequence):\n",
            "    <source elided>\n",
            "  for graph in graph_sequence:\n",
            "    complex_sequence.append(list(nx.find_cliques(nx.from_numpy_matrix(graph))))\n",
            "    ^\n",
            "\n",
            "  @jit()\n",
            "<ipython-input-37-26c01dabad98>:1: NumbaWarning: \n",
            "Compilation is falling back to object mode WITHOUT looplifting enabled because Function \"generate_complex_filtration\" failed type inference due to: cannot determine Numba type of <class 'numba.core.dispatcher.LiftedLoop'>\n",
            "\n",
            "File \"<ipython-input-37-26c01dabad98>\", line 10:\n",
            "def generate_complex_filtration(graph_sequence):\n",
            "    <source elided>\n",
            "  complex_sequence=list()\n",
            "  for graph in graph_sequence:\n",
            "  ^\n",
            "\n",
            "  @jit()\n",
            "/usr/local/lib/python3.7/dist-packages/numba/core/object_mode_passes.py:178: NumbaWarning: Function \"generate_complex_filtration\" was compiled in object mode without forceobj=True, but has lifted loops.\n",
            "\n",
            "File \"<ipython-input-37-26c01dabad98>\", line 9:\n",
            "def generate_complex_filtration(graph_sequence):\n",
            "    <source elided>\n",
            "  #                     a graph in the sequence\n",
            "  complex_sequence=list()\n",
            "  ^\n",
            "\n",
            "  state.func_ir.loc))\n",
            "/usr/local/lib/python3.7/dist-packages/numba/core/object_mode_passes.py:188: NumbaDeprecationWarning: \n",
            "Fall-back from the nopython compilation path to the object mode compilation path has been detected, this is deprecated behaviour.\n",
            "\n",
            "For more information visit https://numba.pydata.org/numba-doc/latest/reference/deprecation.html#deprecation-of-object-mode-fall-back-behaviour-when-using-jit\n",
            "\n",
            "File \"<ipython-input-37-26c01dabad98>\", line 9:\n",
            "def generate_complex_filtration(graph_sequence):\n",
            "    <source elided>\n",
            "  #                     a graph in the sequence\n",
            "  complex_sequence=list()\n",
            "  ^\n",
            "\n",
            "  state.func_ir.loc))\n",
            "<ipython-input-37-26c01dabad98>:1: NumbaWarning: \n",
            "Compilation is falling back to object mode WITHOUT looplifting enabled because Function \"generate_complex_filtration\" failed type inference due to: non-precise type pyobject\n",
            "During: typing of argument at <ipython-input-37-26c01dabad98> (10)\n",
            "\n",
            "File \"<ipython-input-37-26c01dabad98>\", line 10:\n",
            "def generate_complex_filtration(graph_sequence):\n",
            "    <source elided>\n",
            "  complex_sequence=list()\n",
            "  for graph in graph_sequence:\n",
            "  ^\n",
            "\n",
            "  @jit()\n"
          ]
        },
        {
          "output_type": "stream",
          "name": "stdout",
          "text": [
            "[[0, 5], [0, 6], [1, 9, 5], [1, 2], [1, 3], [4, 8], [6, 3], [7, 3], [8, 5]]\n",
            "[[0, 8, 5], [0, 6], [1, 9, 5], [1, 2], [1, 3, 7], [4, 8], [6, 3]]\n"
          ]
        },
        {
          "output_type": "stream",
          "name": "stderr",
          "text": [
            "/usr/local/lib/python3.7/dist-packages/numba/core/object_mode_passes.py:178: NumbaWarning: Function \"generate_complex_filtration\" was compiled in object mode without forceobj=True.\n",
            "\n",
            "File \"<ipython-input-37-26c01dabad98>\", line 10:\n",
            "def generate_complex_filtration(graph_sequence):\n",
            "    <source elided>\n",
            "  complex_sequence=list()\n",
            "  for graph in graph_sequence:\n",
            "  ^\n",
            "\n",
            "  state.func_ir.loc))\n",
            "/usr/local/lib/python3.7/dist-packages/numba/core/object_mode_passes.py:188: NumbaDeprecationWarning: \n",
            "Fall-back from the nopython compilation path to the object mode compilation path has been detected, this is deprecated behaviour.\n",
            "\n",
            "For more information visit https://numba.pydata.org/numba-doc/latest/reference/deprecation.html#deprecation-of-object-mode-fall-back-behaviour-when-using-jit\n",
            "\n",
            "File \"<ipython-input-37-26c01dabad98>\", line 10:\n",
            "def generate_complex_filtration(graph_sequence):\n",
            "    <source elided>\n",
            "  complex_sequence=list()\n",
            "  for graph in graph_sequence:\n",
            "  ^\n",
            "\n",
            "  state.func_ir.loc))\n"
          ]
        }
      ],
      "source": [
        "G=generate_Erdos_Renyi_correlation_matrix(10,0)\n",
        "costs=np.linspace(0,1,21)\n",
        "graph_filtration=generate_graph_sequence(G,costs)\n",
        "complex_filtration=generate_complex_filtration(graph_filtration)\n",
        "print(complex_filtration[5])\n",
        "print(complex_filtration[6])"
      ]
    },
    {
      "cell_type": "markdown",
      "metadata": {
        "id": "K031Py2RZp0R"
      },
      "source": [
        "## Giotto\n",
        "let's try to compute persistence homology with giotto "
      ]
    },
    {
      "cell_type": "markdown",
      "metadata": {
        "id": "asYgdyew9JdO"
      },
      "source": [
        "### Creation of a adjacency graph for giotto\n",
        "If we want to use the Vietoris Rips filtration from giotto we need to work on our adjacency graph. In particular the weigth need to represent the appearence of that link in the filtration.\n",
        "\n",
        "In the function below, given a graph filtration we create that kind of adjacency matrix"
      ]
    },
    {
      "cell_type": "code",
      "execution_count": null,
      "metadata": {
        "id": "poV_bHf09336"
      },
      "outputs": [],
      "source": [
        "def from_filtration_to_adjacency(graph_filtration):\n",
        "  \n",
        "  # pre allocate output\n",
        "  # we create an array with non feasible weigth\n",
        "  adjacency_matrix=np.ones(np.shape(graph_filtration[0]))*(-1)\n",
        "\n",
        "  # for each graph in the filtration if a new link appears, the weigth is the \n",
        "  # number of the filtration.\n",
        "  for i,graph in enumerate(graph_filtration):\n",
        "    cond=np.logical_and(adjacency_matrix==-1,graph==1)\n",
        "    adjacency_matrix[cond]=i\n",
        "  \n",
        "  # diagonal entries need to be 0\n",
        "  adjacency_matrix+= np.identity(np.shape(adjacency_matrix)[0])\n",
        "  # all non feasible weight becomes infinite \n",
        "  adjacency_matrix[adjacency_matrix==-1]=np.inf\n",
        "  return adjacency_matrix\n",
        "    \n",
        "\n"
      ]
    },
    {
      "cell_type": "markdown",
      "metadata": {
        "id": "nmsEZ4gHD52o"
      },
      "source": [
        "Example on erdos renyi graph"
      ]
    },
    {
      "cell_type": "code",
      "execution_count": null,
      "metadata": {
        "colab": {
          "base_uri": "https://localhost:8080/"
        },
        "id": "AumMS6CH-hAf",
        "outputId": "71fef8f7-2c52-486f-880f-7aebdd9eb46b"
      },
      "outputs": [
        {
          "output_type": "execute_result",
          "data": {
            "text/plain": [
              "array([[ 0., 47.,  3., ..., 16., 82., 61.],\n",
              "       [47.,  0., 67., ..., 60., 48., 98.],\n",
              "       [ 3., 67.,  0., ..., 10., 67., 97.],\n",
              "       ...,\n",
              "       [16., 60., 10., ...,  0., 24.,  9.],\n",
              "       [82., 48., 67., ..., 24.,  0., 53.],\n",
              "       [61., 98., 97., ...,  9., 53.,  0.]])"
            ]
          },
          "metadata": {},
          "execution_count": 40
        }
      ],
      "source": [
        "G=generate_Erdos_Renyi_correlation_matrix(90,1)\n",
        "costs=np.linspace(1/44,1,100)\n",
        "graph_filtration=generate_graph_sequence(G,costs)\n",
        "adjacency_matrix=from_filtration_to_adjacency(graph_filtration)\n",
        "adjacency_matrix"
      ]
    },
    {
      "cell_type": "markdown",
      "metadata": {
        "id": "XpuAUnk5EaRe"
      },
      "source": [
        "### Computation of persistence homology\n",
        "Here we define a function that given a list of correlation matrices return a list of persistence diagrams. "
      ]
    },
    {
      "cell_type": "code",
      "source": [
        "def custom_vietoris_persistance (corr_mats,costs,homology_dimensions,plot=False):\n",
        "#qiesta è la versione che ho modificato, non riesco a stampare il grafico, cosa sbaglio??\n",
        "  '''\n",
        "  input:\n",
        "    corr_mats:  correlation matrices of the graphs we want to compute the diagram\n",
        "    costs:      list of the costs where the filtration is computed\n",
        "    homology_dimensions: list of the dimensions of the homology to compute\n",
        "    plot:       boolean value, if true this function plot the persistence graph \n",
        "  \n",
        "  output:       \n",
        "    diagrams: list of persistance diagrams. Each element of the list \n",
        "              is a list of points in the plane with associated dimansion\n",
        "  '''  \n",
        "\n",
        "  if isinstance(homology_dimensions, int):\n",
        "    homology_dimensions=list(range(1,homology_dimensions+1))\n",
        "\n",
        "  if not isinstance(corr_mats,list):\n",
        "    corr_mats=[corr_mats]\n",
        "\n",
        "  #generate filtrations\n",
        "  graph_filtrations = [generate_graph_sequence(g,costs) for g in corr_mats]\n",
        "  #generate adjacency matrices\n",
        "  adjacency_matrices = [from_filtration_to_adjacency(graph_filtration) for graph_filtration in graph_filtrations]\n",
        "  # Instantiate topological transformer\n",
        "  VR = VietorisRipsPersistence(metric=\"precomputed\",homology_dimensions=homology_dimensions)\n",
        "\n",
        "  # Compute persistence diagrams corresponding to each graph in X\n",
        "  diagrams = VR.fit_transform(adjacency_matrices)\n",
        "\n",
        "  if (plot):\n",
        "    VR.plot(diagrams, sample=0)\n",
        "  \n",
        "  return diagrams,VR"
      ],
      "metadata": {
        "id": "DYOh8rz4p8aH"
      },
      "execution_count": null,
      "outputs": []
    },
    {
      "cell_type": "markdown",
      "source": [
        "### Examples\n",
        "In this section we compute some persistence diagrams with Giotto"
      ],
      "metadata": {
        "id": "rKKvAMe9pohm"
      }
    },
    {
      "cell_type": "markdown",
      "source": [
        "#### Erdos-Renyi persistence diagram \n",
        "Here an example with Erdos-Renyi graph"
      ],
      "metadata": {
        "id": "ZfPHnIQdabaP"
      }
    },
    {
      "cell_type": "code",
      "execution_count": null,
      "metadata": {
        "id": "6A8ormzHaB9z"
      },
      "outputs": [],
      "source": [
        "#generate correlation matrix\n",
        "G=generate_Erdos_Renyi_correlation_matrix(90,1)\n",
        "#generate filtration\n",
        "costs=np.linspace(1/44,1,100)\n",
        "graph_filtration=generate_graph_sequence(G,costs)\n",
        "#compute adjacency matrix to be given to giotto\n",
        "adjacency_matrix=from_filtration_to_adjacency(graph_filtration)\n",
        "adjacency_matrix\n",
        "# Instantiate topological transformer\n",
        "VR = VietorisRipsPersistence(metric=\"precomputed\",homology_dimensions=[ 1, 2,3,4])\n",
        "adjacency_matrix=[adjacency_matrix]\n",
        "# Compute persistence diagrams corresponding to each graph in X\n",
        "diagrams = VR.fit_transform(adjacency_matrix)\n",
        "VR.plot(diagrams, sample=0)"
      ]
    },
    {
      "cell_type": "markdown",
      "source": [
        "Let see how this homological properties are saved in *diagrams*"
      ],
      "metadata": {
        "id": "_4DWcHLFa7Hq"
      }
    },
    {
      "cell_type": "code",
      "execution_count": null,
      "metadata": {
        "id": "CgPeMctj8eY5"
      },
      "outputs": [],
      "source": [
        "#print(diagrams)\n",
        "diagrams[0]"
      ]
    },
    {
      "cell_type": "markdown",
      "source": [
        "Diagrams are saved as a list of all the diagrams.\n",
        "Each diagram is an array of array. Each Array inside the array represent a point of the diagram and it is represented with three floats (birth, death, dimension of homology). If two or more points coincide on the diagrams it is shown as multiplicity."
      ],
      "metadata": {
        "id": "loU76h58f5PO"
      }
    },
    {
      "cell_type": "markdown",
      "source": [
        "#### Lattice graph persistence diagram\n",
        "Here an example with Lattice Graph"
      ],
      "metadata": {
        "id": "Ff1HjXd6bbWg"
      }
    },
    {
      "cell_type": "code",
      "execution_count": null,
      "metadata": {
        "id": "SMji0Ec13cnw"
      },
      "outputs": [],
      "source": [
        "G=generate_ring_lattice_correlation_matrix(90,1)\n",
        "costs=np.linspace(1/44,1,100)\n",
        "graph_filtration=generate_graph_sequence(G,costs)\n",
        "adjacency_matrix=from_filtration_to_adjacency(graph_filtration)\n",
        "#print(adjacency_matrix)\n",
        "# Instantiate topological transformer\n",
        "VR = VietorisRipsPersistence(metric=\"precomputed\",homology_dimensions=[1, 2,3,4])\n",
        "adjacency_matrix=[adjacency_matrix]\n",
        "# Compute persistence diagrams corresponding to each graph in X\n",
        "diagrams = VR.fit_transform(adjacency_matrix)\n",
        "VR.plot(diagrams, sample=0)"
      ]
    },
    {
      "cell_type": "markdown",
      "source": [
        "#### Small-World persistence diagram\n",
        "Here an example with a small world correlation graph"
      ],
      "metadata": {
        "id": "qtA6W8eZb6nk"
      }
    },
    {
      "cell_type": "code",
      "execution_count": null,
      "metadata": {
        "id": "2Uq_VKxuGbMn"
      },
      "outputs": [],
      "source": [
        "G=generate_small_world_correlation_matrix(90,0.01,1)\n",
        "costs=np.linspace(1/44,1,100)\n",
        "graph_filtration=generate_graph_sequence(G,costs)\n",
        "adjacency_matrix=from_filtration_to_adjacency(graph_filtration)\n",
        "#print(adjacency_matrix)\n",
        "# Instantiate topological transformer\n",
        "VR = VietorisRipsPersistence(metric=\"precomputed\",homology_dimensions=[1, 2,3,4])\n",
        "adjacency_matrix=[adjacency_matrix]\n",
        "# Compute persistence diagrams corresponding to each graph in X\n",
        "diagrams = VR.fit_transform(adjacency_matrix)\n",
        "VR.plot(diagrams, sample=0)"
      ]
    },
    {
      "cell_type": "markdown",
      "metadata": {
        "id": "UpcACJpkpO7Y"
      },
      "source": [
        "## Analysis of topological information over random graphs\n",
        "In this section we edfine functions to examine topological informations of a given filtration. Specifically, we plot persistence diagrams, betti curves and (partial) Euler Entropy (by partial we mean that we're actually calculating the Euler characteristic only using the calculated betti numbers). Clearly the number still contains topological information\n"
      ]
    },
    {
      "cell_type": "markdown",
      "source": [
        "### Computing betti numbers"
      ],
      "metadata": {
        "id": "Dpbk4Fg4lTn9"
      }
    },
    {
      "cell_type": "markdown",
      "source": [
        "We want to separate the information of the different dimensions of the homology in different list."
      ],
      "metadata": {
        "id": "Mo26g1b7gypn"
      }
    },
    {
      "cell_type": "code",
      "execution_count": null,
      "metadata": {
        "id": "YDlwwxmf6Tt4"
      },
      "outputs": [],
      "source": [
        "@jit()\n",
        "def separate(diagrams):\n",
        "  '''\n",
        "  input:  \n",
        "    dmg: persistence diagram from giotto \n",
        "  output: \n",
        "    H: list of different dimensions points in persistent diagrams\n",
        "  '''\n",
        "  H=[]\n",
        "\n",
        "  for i,diagram in enumerate(diagrams):\n",
        "    \n",
        "    H.append([])\n",
        "    #set of the dimensions of the points in the diagram\n",
        "    dimensions=set(diagram[:,2])\n",
        "    \n",
        "    #for all the dimension i generate the list of the point of that exact dimension\n",
        "    for j,dimension in enumerate(dimensions):\n",
        "      H[i].append([])\n",
        "      H[i][j]=[point for point in diagram if point[2]==dimension]\n",
        "      H[i][j]=np.asarray(H[i][j])\n",
        "\n",
        "  #if there is only one diagram there is no need of creating a list of list\n",
        "  #if len(diagrams)==1:\n",
        "  #  return H[0]\n",
        "\n",
        "  return H"
      ]
    },
    {
      "cell_type": "markdown",
      "source": [
        "With the following function we compute the betti numbers for each graph in the filtration"
      ],
      "metadata": {
        "id": "_e_1Om2606YY"
      }
    },
    {
      "cell_type": "code",
      "execution_count": null,
      "metadata": {
        "id": "JvYHBx-boQIL"
      },
      "outputs": [],
      "source": [
        "def betti_numbers (diagrams,n_filtration_steps): \n",
        "  '''\n",
        "  input: \n",
        "    diagrams: persistence diagram from giotto \n",
        "    n_filtration_steps: it is the number of filtration steps\n",
        "  output:\n",
        "    betti_numbers: it is a list of matrix where each column represent a dimension \n",
        "        and the rows are the filtration steps\n",
        "  '''\n",
        "  separated_diagram=separate(diagrams)\n",
        "  betti_numbers=[]\n",
        "  for k,H in enumerate(separated_diagram):\n",
        "    n_dimensions=len(H)   # number of different dimensions where we computed the homology\n",
        "    betti_numbers.append(np.zeros(shape=(n_filtration_steps, n_dimensions)))\n",
        "\n",
        "    for i in range(n_filtration_steps):\n",
        "      for j in range(n_dimensions):\n",
        "        born = H[j][:,0]<=i+1 #generator of the omology must be already born\n",
        "        not_death = i+1 < H[j][:,1] #generator og the homology should not be already dead\n",
        "        betti_numbers[k][i,j]=sum(np.logical_and(born, not_death))\n",
        "  \n",
        "  return betti_numbers"
      ]
    },
    {
      "cell_type": "markdown",
      "source": [
        "### Euler Characteristic"
      ],
      "metadata": {
        "id": "lnObBNJLljvJ"
      }
    },
    {
      "cell_type": "markdown",
      "source": [
        "The following functions are based on enumerating all the cliques, this quickly becomes computationally intractable"
      ],
      "metadata": {
        "id": "ZGXYYK2IpMR2"
      }
    },
    {
      "cell_type": "code",
      "execution_count": null,
      "metadata": {
        "id": "mxUTSZLQ2Oww",
        "colab": {
          "base_uri": "https://localhost:8080/"
        },
        "outputId": "3aa656e5-02e3-47b7-fab7-3fb01e5f69ae"
      },
      "outputs": [
        {
          "output_type": "stream",
          "name": "stdout",
          "text": [
            "206\n"
          ]
        }
      ],
      "source": [
        "def euler_char_cliques(adj):\n",
        "  #qua stiamo facendo forza bruta, magari possiamo calcolarci imparando dalle cricche della filtrazione precedente\n",
        "  cliques=list(nx.enumerate_all_cliques(nx.from_numpy_matrix(adj))) # this should give the same value as its analogue w/ the betti numbers\n",
        "  x=0\n",
        "  dim_cliques=np.asarray([len(clique)-1 for clique in cliques])\n",
        "  x=sum((-1)**dim_cliques)\n",
        " # for i in range(len(cliques)):\n",
        "  #  x += ((-1)**(len(cliques[i])-1)) \n",
        "  return x\n",
        "\n",
        "A=(adj_matrix_connected(G,0.222225))\n",
        "print(euler_char_cliques(A))"
      ]
    },
    {
      "cell_type": "code",
      "execution_count": null,
      "metadata": {
        "id": "Lge_LtPBnOps"
      },
      "outputs": [],
      "source": [
        "def euler_entropy_cliques(adj):\n",
        "  return np.log(np.abs(euler_char_cliques(adj)))"
      ]
    },
    {
      "cell_type": "markdown",
      "source": [
        "With the following functions we only calculate the Euler characteristic based on the alternate sum of betti numbers' multiplicity calculated so far ( we don't usually go beyond dimension 4) (this may be actually wrong, yet the euler entropy calculated in this way still lines up properly w/ phase transitions)"
      ],
      "metadata": {
        "id": "SQvt3ITgpZlU"
      }
    },
    {
      "cell_type": "code",
      "execution_count": null,
      "metadata": {
        "id": "eVv7iUsQtqa9"
      },
      "outputs": [],
      "source": [
        "def euler_char_betti(betti):\n",
        "  # problema, noi non ci siamo calcolati tutti tutti i numeri di betti, solo nelle dimensioni che abbiamo scelto, che se fa?\n",
        "  x=0\n",
        "  a = np.empty((len(betti)))\n",
        "  a[::2] = 1\n",
        "  a[1::2] = -1\n",
        "  # a è un vettore con componenti (-1)^n\n",
        "  x = np.sum(np.multiply(betti,a))\n",
        "  return x\n",
        "\n"
      ]
    },
    {
      "cell_type": "code",
      "execution_count": null,
      "metadata": {
        "id": "BRDHHHh1tu2H"
      },
      "outputs": [],
      "source": [
        "def euler_entropy_betti(betti):\n",
        "  return np.log(np.abs(euler_char_betti(betti)))"
      ]
    },
    {
      "cell_type": "markdown",
      "source": [
        "### Examples"
      ],
      "metadata": {
        "id": "hPfv2ls5hO8k"
      }
    },
    {
      "cell_type": "code",
      "execution_count": null,
      "metadata": {
        "id": "F8ALcfezV_DN"
      },
      "outputs": [],
      "source": [
        "filtration_length=100\n",
        "\n",
        "G=generate_small_world_correlation_matrix(90,0.02,1)\n",
        "costs=np.linspace(1/44,1,filtration_length)\n",
        "graph_filtration=generate_graph_sequence(G,costs)\n",
        "adjacency_matrix=from_filtration_to_adjacency(graph_filtration)\n",
        "\n",
        "# Instantiate topological transformer\n",
        "VR = VietorisRipsPersistence(metric=\"precomputed\",homology_dimensions=[1, 2,3,4])\n",
        "adjacency_matrix=[adjacency_matrix]\n",
        "\n",
        "# Compute persistence diagrams corresponding to each graph in X\n",
        "diagrams = VR.fit_transform(adjacency_matrix)\n",
        "VR.plot(diagrams, sample=0)\n",
        "\n",
        "betti_number_small_world=betti_numbers(diagrams,filtration_length)[0]\n",
        "entropy_small_world=[euler_entropy_betti(betti_number_small_world[i,:]) for i in range(filtration_length)] \n",
        "#for j in range(filtration_length):\n",
        " # x=betti_numbers(j+1,separate(diagrams))\n",
        " # y.append(x)\n",
        " # entropy.append(euler_entropy_betti(x))"
      ]
    },
    {
      "cell_type": "code",
      "execution_count": null,
      "metadata": {
        "id": "qMF_5gn82UVL"
      },
      "outputs": [],
      "source": [
        "\n",
        "filtration_length=100\n",
        "G=generate_Erdos_Renyi_correlation_matrix(90,1)\n",
        "costs=np.linspace(1/44,1,filtration_length)\n",
        "graph_filtration=generate_graph_sequence(G,costs)\n",
        "adjacency_matrix=from_filtration_to_adjacency(graph_filtration)\n",
        "#rint(adjacency_matrix)\n",
        "# Instantiate topological transformer\n",
        "VR = VietorisRipsPersistence(metric=\"precomputed\",homology_dimensions=[1, 2,3])\n",
        "adjacency_matrix=[adjacency_matrix]\n",
        "# Compute persistence diagrams corresponding to each graph in X\n",
        "diagrams = VR.fit_transform(adjacency_matrix)\n",
        "VR.plot(diagrams, sample=0)\n",
        "\n",
        "#save array to plot\n",
        "betti_number_erdos_renyi=betti_numbers(diagrams,filtration_length)[0]\n",
        "entropy_erdos_renyi=[euler_entropy_betti(betti_number_erdos_renyi[i,:]) for i in range(filtration_length)]  \n"
      ]
    },
    {
      "cell_type": "code",
      "execution_count": null,
      "metadata": {
        "id": "8NU36nm6n6EC"
      },
      "outputs": [],
      "source": [
        "#calcola i betti numbers con moltiplicità dato il diagramma)\n",
        "plt.plot(range(filtration_length),betti_number_small_world)\n",
        "plt.plot(range(filtration_length),betti_number_erdos_renyi)\n",
        "#plt.plot(range(filtration_length),y)\n",
        "#plt.plot(range(filtration_length),erdos)\n",
        "#y=[euler_entropy_cliques(graph) for graph in graph_filtration]\n",
        "#plt.plot(range(filtration_length),entropy)\n",
        "#betti_number\n",
        "#entropy"
      ]
    },
    {
      "cell_type": "code",
      "execution_count": null,
      "metadata": {
        "id": "bRkYddUDxFtf"
      },
      "outputs": [],
      "source": [
        "plt.plot(range(filtration_length),entropy_erdos_renyi)\n",
        "plt.plot(range(filtration_length),entropy_small_world)\n"
      ]
    },
    {
      "cell_type": "code",
      "execution_count": null,
      "metadata": {
        "id": "IxveG5pCtkSn"
      },
      "outputs": [],
      "source": [
        "s=30\n",
        "filtration_length=100\n",
        "#y1=[]\n",
        "#y2=[]\n",
        "#y3=[]\n",
        "#euler=[]\n",
        "#for i in range(s):\n",
        " # print(i)\n",
        "f=lambda i: generate_small_world_correlation_matrix(90,(i+1)/s,1)\n",
        "graphs=list(map(f,range(s)))\n",
        "costs=np.linspace(1/44,1,filtration_length)\n",
        "graph_filtrations=[generate_graph_sequence(g,costs) for g in graphs]\n",
        "adjacency_matrices=[from_filtration_to_adjacency(graph_filtration) for graph_filtration in graph_filtrations]\n",
        "adjacency_matrices\n",
        "  #rint(adjacency_matrix)\n",
        "  # Instantiate topological transformer\n",
        "VR = VietorisRipsPersistence(metric=\"precomputed\",homology_dimensions=[1, 2])\n",
        "#adjacency_matrix=[adjacency_matrix]\n",
        "  # Compute persistence diagrams corresponding to each graph in X\n",
        "diagrams = VR.fit_transform(adjacency_matrices)\n",
        "VR.plot(diagrams, sample=0)\n",
        "  #for j in range(filtration_length):\n",
        "  #  y1.append([j,(i+1)/s,betti_numbers(j+1,separate(diagrams))[0]])\n",
        "  #  y2.append([j,(i+1)/s,betti_numbers(j+1,separate(diagrams))[1]])\n",
        "  #  y3.append([j,(i+1)/s,betti_numbers(j+1,separate(diagrams))[2]])\n",
        "  #  euler.append([j,(i+1)/s,euler_entropy_betti(betti_numbers(j+1,separate(diagrams)))])"
      ]
    },
    {
      "cell_type": "code",
      "source": [
        "VR.plot([diagrams[9]], sample=0)\n",
        "z=betti_numbers(diagrams,filtration_length)\n",
        "entropy=[[euler_entropy_betti(betti_numbers_graph[i,:]) for i in range(filtration_length)] for betti_numbers_graph in z]  \n",
        "entropy\n",
        "z=np.asarray(z)\n",
        "np.shape(z)\n",
        "z=z.reshape((30*100,2))\n",
        "#z[:,0]"
      ],
      "metadata": {
        "id": "gtRWD01BsCQh"
      },
      "execution_count": null,
      "outputs": []
    },
    {
      "cell_type": "code",
      "execution_count": null,
      "metadata": {
        "id": "Lq1NFZvOwr5Y"
      },
      "outputs": [],
      "source": [
        "\n",
        "fig = plt.figure()\n",
        "ax = plt.axes(projection='3d')\n",
        "x=np.tile(np.asarray(range(filtration_length)),s)\n",
        "#z=y[:,0]\n",
        "y=np.repeat(np.linspace(1/s,1,s),filtration_length)\n",
        "#print(x)\n",
        "#print(y)\n",
        "#print(z)\n",
        "ax.scatter3D(x,y,z[:,0], cmap='Greens')"
      ]
    },
    {
      "cell_type": "code",
      "source": [
        "(np.asarray(range(s))+1)/s\n",
        "#np.asarray(range(filtration_length))"
      ],
      "metadata": {
        "id": "zOdlA7I_vOfM"
      },
      "execution_count": null,
      "outputs": []
    },
    {
      "cell_type": "markdown",
      "source": [
        ""
      ],
      "metadata": {
        "id": "A5dilQQuvOIm"
      }
    },
    {
      "cell_type": "code",
      "execution_count": null,
      "metadata": {
        "id": "FUJ31PfTkQr8"
      },
      "outputs": [],
      "source": [
        "\n",
        "fig = plt.figure()\n",
        "ax = plt.axes(projection='3d')\n",
        "ax.scatter3D(np.transpose(y2)[0],np.transpose(y2)[1],np.transpose(y2)[2] , cmap='Greens')"
      ]
    },
    {
      "cell_type": "code",
      "execution_count": null,
      "metadata": {
        "id": "yGXN_dsDkRTd"
      },
      "outputs": [],
      "source": [
        "\n",
        "fig = plt.figure()\n",
        "ax = plt.axes(projection='3d')\n",
        "ax.scatter3D(np.transpose(y3)[0],np.transpose(y3)[1],np.transpose(y3)[2] , cmap='Greens')"
      ]
    },
    {
      "cell_type": "code",
      "execution_count": null,
      "metadata": {
        "id": "IxjWXbulo8E3"
      },
      "outputs": [],
      "source": [
        "\n",
        "fig = plt.figure()\n",
        "ax = plt.axes(projection='3d')\n",
        "ax.scatter3D(entropy[0],entropy[1],entropy[2] , cmap='Greens')"
      ]
    },
    {
      "cell_type": "markdown",
      "source": [
        "## Brain correlation matrix\n"
      ],
      "metadata": {
        "id": "vG9G7z4Bvvux"
      }
    },
    {
      "cell_type": "markdown",
      "source": [
        "We clone the Github repo"
      ],
      "metadata": {
        "id": "izbifdai4jHV"
      }
    },
    {
      "cell_type": "code",
      "source": [
        "!git clone https://gricad-gitlab.univ-grenoble-alpes.fr/carbonil/regional-differentiation-based-on-graph-nodal-statistics-for-functional-brain-connectivity-networks-characterization.git"
      ],
      "metadata": {
        "colab": {
          "base_uri": "https://localhost:8080/"
        },
        "id": "pX4FcsYg0z3M",
        "outputId": "6f4ac045-b9fe-4c74-bdc8-6db57948c3db"
      },
      "execution_count": 1,
      "outputs": [
        {
          "output_type": "stream",
          "name": "stdout",
          "text": [
            "Cloning into 'regional-differentiation-based-on-graph-nodal-statistics-for-functional-brain-connectivity-networks-characterization'...\n",
            "remote: Enumerating objects: 1274, done.\u001b[K\n",
            "remote: Total 1274 (delta 0), reused 0 (delta 0), pack-reused 1274\n",
            "Receiving objects: 100% (1274/1274), 15.02 MiB | 10.00 MiB/s, done.\n",
            "Resolving deltas: 100% (999/999), done.\n"
          ]
        }
      ]
    },
    {
      "cell_type": "markdown",
      "source": [
        "### Importing correlation matrices\n",
        "I'm trying to import the correlation matrices as pandas dataframes"
      ],
      "metadata": {
        "id": "if-Lve5UZo4B"
      }
    },
    {
      "cell_type": "code",
      "source": [
        "import pandas as pd"
      ],
      "metadata": {
        "id": "4yZJPkQBZv9H"
      },
      "execution_count": 3,
      "outputs": []
    },
    {
      "cell_type": "code",
      "source": [
        "import os"
      ],
      "metadata": {
        "id": "2hbBMN3Vclp5"
      },
      "execution_count": 4,
      "outputs": []
    },
    {
      "cell_type": "code",
      "source": [
        "path=\"/content/regional-differentiation-based-on-graph-nodal-statistics-for-functional-brain-connectivity-networks-characterization/DATA/cor_mat_HCP_90\"\n",
        "files=os.listdir(path) #make a list of all the files' names at the path \n",
        "cor_mats_HCP_90_df=[pd.read_csv(path+\"/\"+file,delim_whitespace=True,header=None) for file in files]"
      ],
      "metadata": {
        "id": "fbhd42_DcQWw"
      },
      "execution_count": 5,
      "outputs": []
    },
    {
      "cell_type": "markdown",
      "source": [
        "Now I have imported all files in cor_mat_HCP_90. Let's do the same for the files in cor_mat_coma. They have a sligthly different structure"
      ],
      "metadata": {
        "id": "HMooM7DFeXk3"
      }
    },
    {
      "cell_type": "code",
      "source": [
        "path=\"/content/regional-differentiation-based-on-graph-nodal-statistics-for-functional-brain-connectivity-networks-characterization/DATA/cor_mat_coma\"\n",
        "files=os.listdir(path) #make a list of all the files' names at the path \n",
        "cor_mats_coma_df=[pd.read_csv(path+\"/\"+file,delim_whitespace=True) for file in files]\n"
      ],
      "metadata": {
        "id": "lgC0_bg8e5oB"
      },
      "execution_count": 6,
      "outputs": []
    },
    {
      "cell_type": "markdown",
      "source": [
        "Now we have imported all the correlation matrices as list of pandas dataframes.\n",
        "Let's save them also as numpy arrays"
      ],
      "metadata": {
        "id": "1R4-rmmne09Y"
      }
    },
    {
      "cell_type": "code",
      "source": [
        "cor_mats_HCP_90=[df.to_numpy() for df in cor_mats_HCP_90_df]\n",
        "cor_mats_coma=[df.to_numpy() for df in cor_mats_coma_df]"
      ],
      "metadata": {
        "id": "rIac4Eh-hSzo"
      },
      "execution_count": null,
      "outputs": []
    },
    {
      "cell_type": "markdown",
      "source": [
        "### Compute some persistence diagrams"
      ],
      "metadata": {
        "id": "SyvWy0MjgQwZ"
      }
    },
    {
      "cell_type": "markdown",
      "source": [
        "There I compute the persistance diagrams of the cor_mats in coma and save it in the file /data.diagrams_coma"
      ],
      "metadata": {
        "id": "WgCiambKtViE"
      }
    },
    {
      "cell_type": "code",
      "source": [
        "costs=np.linspace(1/44,1, 100)\n",
        "diagrams_coma,VR_coma=custom_vietoris_persistance(cor_mats_coma,costs,[1,2,3,4],plot=False)"
      ],
      "metadata": {
        "id": "98iqVKIHge3H"
      },
      "execution_count": null,
      "outputs": []
    },
    {
      "cell_type": "code",
      "source": [
        "VR_coma.plot(diagrams_coma, sample=9)"
      ],
      "metadata": {
        "id": "-5BQh5FigOZy"
      },
      "execution_count": null,
      "outputs": []
    },
    {
      "cell_type": "markdown",
      "source": [
        "Now I want to save this data using pickle"
      ],
      "metadata": {
        "id": "yD7Yj-6-f2OI"
      }
    },
    {
      "cell_type": "code",
      "source": [
        "import pickle"
      ],
      "metadata": {
        "id": "LaCX3a5Pr22F"
      },
      "execution_count": null,
      "outputs": []
    },
    {
      "cell_type": "code",
      "source": [
        "with open(\"/data.diagrams_coma\", \"wb\") as f:\n",
        "  pickle.dump((diagrams_coma,VR_coma), f, protocol=pickle.HIGHEST_PROTOCOL)"
      ],
      "metadata": {
        "id": "NUeX_ZInf1Nu",
        "colab": {
          "base_uri": "https://localhost:8080/",
          "height": 183
        },
        "outputId": "96d594b3-1c17-41b3-914d-24ee63e62db0"
      },
      "execution_count": null,
      "outputs": [
        {
          "output_type": "error",
          "ename": "NameError",
          "evalue": "ignored",
          "traceback": [
            "\u001b[0;31m---------------------------------------------------------------------------\u001b[0m",
            "\u001b[0;31mNameError\u001b[0m                                 Traceback (most recent call last)",
            "\u001b[0;32m<ipython-input-45-56ba8fd0f08f>\u001b[0m in \u001b[0;36m<module>\u001b[0;34m()\u001b[0m\n\u001b[1;32m      1\u001b[0m \u001b[0;32mwith\u001b[0m \u001b[0mopen\u001b[0m\u001b[0;34m(\u001b[0m\u001b[0;34m\"/data.diagrams_coma\"\u001b[0m\u001b[0;34m,\u001b[0m \u001b[0;34m\"wb\"\u001b[0m\u001b[0;34m)\u001b[0m \u001b[0;32mas\u001b[0m \u001b[0mf\u001b[0m\u001b[0;34m:\u001b[0m\u001b[0;34m\u001b[0m\u001b[0;34m\u001b[0m\u001b[0m\n\u001b[0;32m----> 2\u001b[0;31m   \u001b[0mpickle\u001b[0m\u001b[0;34m.\u001b[0m\u001b[0mdump\u001b[0m\u001b[0;34m(\u001b[0m\u001b[0;34m(\u001b[0m\u001b[0mdiagrams_coma\u001b[0m\u001b[0;34m,\u001b[0m\u001b[0mVR_coma\u001b[0m\u001b[0;34m)\u001b[0m\u001b[0;34m,\u001b[0m \u001b[0mf\u001b[0m\u001b[0;34m,\u001b[0m \u001b[0mprotocol\u001b[0m\u001b[0;34m=\u001b[0m\u001b[0mpickle\u001b[0m\u001b[0;34m.\u001b[0m\u001b[0mHIGHEST_PROTOCOL\u001b[0m\u001b[0;34m)\u001b[0m\u001b[0;34m\u001b[0m\u001b[0;34m\u001b[0m\u001b[0m\n\u001b[0m",
            "\u001b[0;31mNameError\u001b[0m: name 'diagrams_coma' is not defined"
          ]
        }
      ]
    },
    {
      "cell_type": "code",
      "source": [
        "with open(\"/data.diagrams_coma\", \"rb\") as f:\n",
        "  (diagrams_coma,VR_coma)=pickle.load(f)"
      ],
      "metadata": {
        "id": "beI8bhG1s5bK",
        "colab": {
          "base_uri": "https://localhost:8080/",
          "height": 184
        },
        "outputId": "088a8b09-3440-42de-e33c-50b258c3b554"
      },
      "execution_count": null,
      "outputs": [
        {
          "output_type": "error",
          "ename": "FileNotFoundError",
          "evalue": "ignored",
          "traceback": [
            "\u001b[0;31m---------------------------------------------------------------------------\u001b[0m",
            "\u001b[0;31mFileNotFoundError\u001b[0m                         Traceback (most recent call last)",
            "\u001b[0;32m<ipython-input-51-9139a0709b5e>\u001b[0m in \u001b[0;36m<module>\u001b[0;34m()\u001b[0m\n\u001b[0;32m----> 1\u001b[0;31m \u001b[0;32mwith\u001b[0m \u001b[0mopen\u001b[0m\u001b[0;34m(\u001b[0m\u001b[0;34m\"/data.diagrams_coma\"\u001b[0m\u001b[0;34m,\u001b[0m \u001b[0;34m\"rb\"\u001b[0m\u001b[0;34m)\u001b[0m \u001b[0;32mas\u001b[0m \u001b[0mf\u001b[0m\u001b[0;34m:\u001b[0m\u001b[0;34m\u001b[0m\u001b[0;34m\u001b[0m\u001b[0m\n\u001b[0m\u001b[1;32m      2\u001b[0m   \u001b[0;34m(\u001b[0m\u001b[0mdiagrams_coma\u001b[0m\u001b[0;34m,\u001b[0m\u001b[0mVR_coma\u001b[0m\u001b[0;34m)\u001b[0m\u001b[0;34m=\u001b[0m\u001b[0mpickle\u001b[0m\u001b[0;34m.\u001b[0m\u001b[0mload\u001b[0m\u001b[0;34m(\u001b[0m\u001b[0mf\u001b[0m\u001b[0;34m)\u001b[0m\u001b[0;34m\u001b[0m\u001b[0;34m\u001b[0m\u001b[0m\n",
            "\u001b[0;31mFileNotFoundError\u001b[0m: [Errno 2] No such file or directory: '/data.diagrams_coma'"
          ]
        }
      ]
    },
    {
      "cell_type": "markdown",
      "source": [
        "Now, I'll do the same as before with the HTC_90 Folder"
      ],
      "metadata": {
        "id": "lQFbqtgNts1w"
      }
    },
    {
      "cell_type": "code",
      "source": [
        "costs=np.linspace(1/44,1, 100)\n",
        "diagrams_HCP_90,VR_HCP_90=custom_vietoris_persistance(cor_mats_HCP_90,costs,[1,2,3,4],plot=False)"
      ],
      "metadata": {
        "id": "7J4hXUlvuBXt",
        "colab": {
          "base_uri": "https://localhost:8080/",
          "height": 328
        },
        "outputId": "8a873f03-cafb-4cee-cfd0-5d72bae83681"
      },
      "execution_count": null,
      "outputs": [
        {
          "output_type": "error",
          "ename": "KeyboardInterrupt",
          "evalue": "ignored",
          "traceback": [
            "\u001b[0;31m---------------------------------------------------------------------------\u001b[0m",
            "\u001b[0;31mKeyboardInterrupt\u001b[0m                         Traceback (most recent call last)",
            "\u001b[0;32m<ipython-input-46-f3b84bcf3fac>\u001b[0m in \u001b[0;36m<module>\u001b[0;34m()\u001b[0m\n\u001b[1;32m      1\u001b[0m \u001b[0mcosts\u001b[0m\u001b[0;34m=\u001b[0m\u001b[0mnp\u001b[0m\u001b[0;34m.\u001b[0m\u001b[0mlinspace\u001b[0m\u001b[0;34m(\u001b[0m\u001b[0;36m1\u001b[0m\u001b[0;34m/\u001b[0m\u001b[0;36m44\u001b[0m\u001b[0;34m,\u001b[0m\u001b[0;36m1\u001b[0m\u001b[0;34m,\u001b[0m \u001b[0;36m100\u001b[0m\u001b[0;34m)\u001b[0m\u001b[0;34m\u001b[0m\u001b[0;34m\u001b[0m\u001b[0m\n\u001b[0;32m----> 2\u001b[0;31m \u001b[0mdiagrams_HCP_90\u001b[0m\u001b[0;34m,\u001b[0m\u001b[0mVR_HCP_90\u001b[0m\u001b[0;34m=\u001b[0m\u001b[0mcustom_vietoris_persistance\u001b[0m\u001b[0;34m(\u001b[0m\u001b[0mcor_mats_HCP_90\u001b[0m\u001b[0;34m,\u001b[0m\u001b[0mcosts\u001b[0m\u001b[0;34m,\u001b[0m\u001b[0;34m[\u001b[0m\u001b[0;36m1\u001b[0m\u001b[0;34m,\u001b[0m\u001b[0;36m2\u001b[0m\u001b[0;34m,\u001b[0m\u001b[0;36m3\u001b[0m\u001b[0;34m,\u001b[0m\u001b[0;36m4\u001b[0m\u001b[0;34m]\u001b[0m\u001b[0;34m,\u001b[0m\u001b[0mplot\u001b[0m\u001b[0;34m=\u001b[0m\u001b[0;32mFalse\u001b[0m\u001b[0;34m)\u001b[0m\u001b[0;34m\u001b[0m\u001b[0;34m\u001b[0m\u001b[0m\n\u001b[0m",
            "\u001b[0;32m<ipython-input-24-98680d856db5>\u001b[0m in \u001b[0;36mcustom_vietoris_persistance\u001b[0;34m(corr_mats, costs, homology_dimensions, plot)\u001b[0m\n\u001b[1;32m     20\u001b[0m \u001b[0;34m\u001b[0m\u001b[0m\n\u001b[1;32m     21\u001b[0m   \u001b[0;31m#generate filtrations\u001b[0m\u001b[0;34m\u001b[0m\u001b[0;34m\u001b[0m\u001b[0;34m\u001b[0m\u001b[0m\n\u001b[0;32m---> 22\u001b[0;31m   \u001b[0mgraph_filtrations\u001b[0m \u001b[0;34m=\u001b[0m \u001b[0;34m[\u001b[0m\u001b[0mgenerate_graph_sequence\u001b[0m\u001b[0;34m(\u001b[0m\u001b[0mg\u001b[0m\u001b[0;34m,\u001b[0m\u001b[0mcosts\u001b[0m\u001b[0;34m)\u001b[0m \u001b[0;32mfor\u001b[0m \u001b[0mg\u001b[0m \u001b[0;32min\u001b[0m \u001b[0mcorr_mats\u001b[0m\u001b[0;34m]\u001b[0m\u001b[0;34m\u001b[0m\u001b[0;34m\u001b[0m\u001b[0m\n\u001b[0m\u001b[1;32m     23\u001b[0m   \u001b[0;31m#generate adjacency matrices\u001b[0m\u001b[0;34m\u001b[0m\u001b[0;34m\u001b[0m\u001b[0;34m\u001b[0m\u001b[0m\n\u001b[1;32m     24\u001b[0m   \u001b[0madjacency_matrices\u001b[0m \u001b[0;34m=\u001b[0m \u001b[0;34m[\u001b[0m\u001b[0mfrom_filtration_to_adjacency\u001b[0m\u001b[0;34m(\u001b[0m\u001b[0mgraph_filtration\u001b[0m\u001b[0;34m)\u001b[0m \u001b[0;32mfor\u001b[0m \u001b[0mgraph_filtration\u001b[0m \u001b[0;32min\u001b[0m \u001b[0mgraph_filtrations\u001b[0m\u001b[0;34m]\u001b[0m\u001b[0;34m\u001b[0m\u001b[0;34m\u001b[0m\u001b[0m\n",
            "\u001b[0;32m<ipython-input-24-98680d856db5>\u001b[0m in \u001b[0;36m<listcomp>\u001b[0;34m(.0)\u001b[0m\n\u001b[1;32m     20\u001b[0m \u001b[0;34m\u001b[0m\u001b[0m\n\u001b[1;32m     21\u001b[0m   \u001b[0;31m#generate filtrations\u001b[0m\u001b[0;34m\u001b[0m\u001b[0;34m\u001b[0m\u001b[0;34m\u001b[0m\u001b[0m\n\u001b[0;32m---> 22\u001b[0;31m   \u001b[0mgraph_filtrations\u001b[0m \u001b[0;34m=\u001b[0m \u001b[0;34m[\u001b[0m\u001b[0mgenerate_graph_sequence\u001b[0m\u001b[0;34m(\u001b[0m\u001b[0mg\u001b[0m\u001b[0;34m,\u001b[0m\u001b[0mcosts\u001b[0m\u001b[0;34m)\u001b[0m \u001b[0;32mfor\u001b[0m \u001b[0mg\u001b[0m \u001b[0;32min\u001b[0m \u001b[0mcorr_mats\u001b[0m\u001b[0;34m]\u001b[0m\u001b[0;34m\u001b[0m\u001b[0;34m\u001b[0m\u001b[0m\n\u001b[0m\u001b[1;32m     23\u001b[0m   \u001b[0;31m#generate adjacency matrices\u001b[0m\u001b[0;34m\u001b[0m\u001b[0;34m\u001b[0m\u001b[0;34m\u001b[0m\u001b[0m\n\u001b[1;32m     24\u001b[0m   \u001b[0madjacency_matrices\u001b[0m \u001b[0;34m=\u001b[0m \u001b[0;34m[\u001b[0m\u001b[0mfrom_filtration_to_adjacency\u001b[0m\u001b[0;34m(\u001b[0m\u001b[0mgraph_filtration\u001b[0m\u001b[0;34m)\u001b[0m \u001b[0;32mfor\u001b[0m \u001b[0mgraph_filtration\u001b[0m \u001b[0;32min\u001b[0m \u001b[0mgraph_filtrations\u001b[0m\u001b[0;34m]\u001b[0m\u001b[0;34m\u001b[0m\u001b[0;34m\u001b[0m\u001b[0m\n",
            "\u001b[0;32m/usr/local/lib/python3.7/dist-packages/networkx/convert_matrix.py\u001b[0m in \u001b[0;36mfrom_numpy_matrix\u001b[0;34m(A, parallel_edges, create_using)\u001b[0m\n\u001b[1;32m    685\u001b[0m         \u001b[0mDeprecationWarning\u001b[0m\u001b[0;34m,\u001b[0m\u001b[0;34m\u001b[0m\u001b[0;34m\u001b[0m\u001b[0m\n\u001b[1;32m    686\u001b[0m     )\n\u001b[0;32m--> 687\u001b[0;31m     \u001b[0;32mreturn\u001b[0m \u001b[0mfrom_numpy_array\u001b[0m\u001b[0;34m(\u001b[0m\u001b[0mA\u001b[0m\u001b[0;34m,\u001b[0m \u001b[0mparallel_edges\u001b[0m\u001b[0;34m=\u001b[0m\u001b[0mparallel_edges\u001b[0m\u001b[0;34m,\u001b[0m \u001b[0mcreate_using\u001b[0m\u001b[0;34m=\u001b[0m\u001b[0mcreate_using\u001b[0m\u001b[0;34m)\u001b[0m\u001b[0;34m\u001b[0m\u001b[0;34m\u001b[0m\u001b[0m\n\u001b[0m\u001b[1;32m    688\u001b[0m \u001b[0;34m\u001b[0m\u001b[0m\n\u001b[1;32m    689\u001b[0m \u001b[0;34m\u001b[0m\u001b[0m\n",
            "\u001b[0;32m/usr/local/lib/python3.7/dist-packages/networkx/convert_matrix.py\u001b[0m in \u001b[0;36mfrom_numpy_array\u001b[0;34m(A, parallel_edges, create_using)\u001b[0m\n\u001b[1;32m   1412\u001b[0m     \u001b[0;32mif\u001b[0m \u001b[0mG\u001b[0m\u001b[0;34m.\u001b[0m\u001b[0mis_multigraph\u001b[0m\u001b[0;34m(\u001b[0m\u001b[0;34m)\u001b[0m \u001b[0;32mand\u001b[0m \u001b[0;32mnot\u001b[0m \u001b[0mG\u001b[0m\u001b[0;34m.\u001b[0m\u001b[0mis_directed\u001b[0m\u001b[0;34m(\u001b[0m\u001b[0;34m)\u001b[0m\u001b[0;34m:\u001b[0m\u001b[0;34m\u001b[0m\u001b[0;34m\u001b[0m\u001b[0m\n\u001b[1;32m   1413\u001b[0m         \u001b[0mtriples\u001b[0m \u001b[0;34m=\u001b[0m \u001b[0;34m(\u001b[0m\u001b[0;34m(\u001b[0m\u001b[0mu\u001b[0m\u001b[0;34m,\u001b[0m \u001b[0mv\u001b[0m\u001b[0;34m,\u001b[0m \u001b[0md\u001b[0m\u001b[0;34m)\u001b[0m \u001b[0;32mfor\u001b[0m \u001b[0mu\u001b[0m\u001b[0;34m,\u001b[0m \u001b[0mv\u001b[0m\u001b[0;34m,\u001b[0m \u001b[0md\u001b[0m \u001b[0;32min\u001b[0m \u001b[0mtriples\u001b[0m \u001b[0;32mif\u001b[0m \u001b[0mu\u001b[0m \u001b[0;34m<=\u001b[0m \u001b[0mv\u001b[0m\u001b[0;34m)\u001b[0m\u001b[0;34m\u001b[0m\u001b[0;34m\u001b[0m\u001b[0m\n\u001b[0;32m-> 1414\u001b[0;31m     \u001b[0mG\u001b[0m\u001b[0;34m.\u001b[0m\u001b[0madd_edges_from\u001b[0m\u001b[0;34m(\u001b[0m\u001b[0mtriples\u001b[0m\u001b[0;34m)\u001b[0m\u001b[0;34m\u001b[0m\u001b[0;34m\u001b[0m\u001b[0m\n\u001b[0m\u001b[1;32m   1415\u001b[0m     \u001b[0;32mreturn\u001b[0m \u001b[0mG\u001b[0m\u001b[0;34m\u001b[0m\u001b[0;34m\u001b[0m\u001b[0m\n",
            "\u001b[0;32m/usr/local/lib/python3.7/dist-packages/networkx/classes/graph.py\u001b[0m in \u001b[0;36madd_edges_from\u001b[0;34m(self, ebunch_to_add, **attr)\u001b[0m\n\u001b[1;32m    931\u001b[0m         \u001b[0;34m>>\u001b[0m\u001b[0;34m>\u001b[0m \u001b[0mG\u001b[0m\u001b[0;34m.\u001b[0m\u001b[0madd_edges_from\u001b[0m\u001b[0;34m(\u001b[0m\u001b[0;34m[\u001b[0m\u001b[0;34m(\u001b[0m\u001b[0;36m3\u001b[0m\u001b[0;34m,\u001b[0m \u001b[0;36m4\u001b[0m\u001b[0;34m)\u001b[0m\u001b[0;34m,\u001b[0m \u001b[0;34m(\u001b[0m\u001b[0;36m1\u001b[0m\u001b[0;34m,\u001b[0m \u001b[0;36m4\u001b[0m\u001b[0;34m)\u001b[0m\u001b[0;34m]\u001b[0m\u001b[0;34m,\u001b[0m \u001b[0mlabel\u001b[0m\u001b[0;34m=\u001b[0m\u001b[0;34m\"WN2898\"\u001b[0m\u001b[0;34m)\u001b[0m\u001b[0;34m\u001b[0m\u001b[0;34m\u001b[0m\u001b[0m\n\u001b[1;32m    932\u001b[0m         \"\"\"\n\u001b[0;32m--> 933\u001b[0;31m         \u001b[0;32mfor\u001b[0m \u001b[0me\u001b[0m \u001b[0;32min\u001b[0m \u001b[0mebunch_to_add\u001b[0m\u001b[0;34m:\u001b[0m\u001b[0;34m\u001b[0m\u001b[0;34m\u001b[0m\u001b[0m\n\u001b[0m\u001b[1;32m    934\u001b[0m             \u001b[0mne\u001b[0m \u001b[0;34m=\u001b[0m \u001b[0mlen\u001b[0m\u001b[0;34m(\u001b[0m\u001b[0me\u001b[0m\u001b[0;34m)\u001b[0m\u001b[0;34m\u001b[0m\u001b[0;34m\u001b[0m\u001b[0m\n\u001b[1;32m    935\u001b[0m             \u001b[0;32mif\u001b[0m \u001b[0mne\u001b[0m \u001b[0;34m==\u001b[0m \u001b[0;36m3\u001b[0m\u001b[0;34m:\u001b[0m\u001b[0;34m\u001b[0m\u001b[0;34m\u001b[0m\u001b[0m\n",
            "\u001b[0;32m/usr/local/lib/python3.7/dist-packages/networkx/convert_matrix.py\u001b[0m in \u001b[0;36m<genexpr>\u001b[0;34m(.0)\u001b[0m\n\u001b[1;32m   1401\u001b[0m         )\n\u001b[1;32m   1402\u001b[0m     \u001b[0;32melse\u001b[0m\u001b[0;34m:\u001b[0m  \u001b[0;31m# basic data type\u001b[0m\u001b[0;34m\u001b[0m\u001b[0;34m\u001b[0m\u001b[0m\n\u001b[0;32m-> 1403\u001b[0;31m         \u001b[0mtriples\u001b[0m \u001b[0;34m=\u001b[0m \u001b[0;34m(\u001b[0m\u001b[0;34m(\u001b[0m\u001b[0mu\u001b[0m\u001b[0;34m,\u001b[0m \u001b[0mv\u001b[0m\u001b[0;34m,\u001b[0m \u001b[0mdict\u001b[0m\u001b[0;34m(\u001b[0m\u001b[0mweight\u001b[0m\u001b[0;34m=\u001b[0m\u001b[0mpython_type\u001b[0m\u001b[0;34m(\u001b[0m\u001b[0mA\u001b[0m\u001b[0;34m[\u001b[0m\u001b[0mu\u001b[0m\u001b[0;34m,\u001b[0m \u001b[0mv\u001b[0m\u001b[0;34m]\u001b[0m\u001b[0;34m)\u001b[0m\u001b[0;34m)\u001b[0m\u001b[0;34m)\u001b[0m \u001b[0;32mfor\u001b[0m \u001b[0mu\u001b[0m\u001b[0;34m,\u001b[0m \u001b[0mv\u001b[0m \u001b[0;32min\u001b[0m \u001b[0medges\u001b[0m\u001b[0;34m)\u001b[0m\u001b[0;34m\u001b[0m\u001b[0;34m\u001b[0m\u001b[0m\n\u001b[0m\u001b[1;32m   1404\u001b[0m     \u001b[0;31m# If we are creating an undirected multigraph, only add the edges from the\u001b[0m\u001b[0;34m\u001b[0m\u001b[0;34m\u001b[0m\u001b[0;34m\u001b[0m\u001b[0m\n\u001b[1;32m   1405\u001b[0m     \u001b[0;31m# upper triangle of the matrix. Otherwise, add all the edges. This relies\u001b[0m\u001b[0;34m\u001b[0m\u001b[0;34m\u001b[0m\u001b[0;34m\u001b[0m\u001b[0m\n",
            "\u001b[0;32m/usr/local/lib/python3.7/dist-packages/networkx/convert_matrix.py\u001b[0m in \u001b[0;36m<genexpr>\u001b[0;34m(.0)\u001b[0m\n\u001b[1;32m   1366\u001b[0m     \u001b[0;31m# Get a list of all the entries in the array with nonzero entries. These\u001b[0m\u001b[0;34m\u001b[0m\u001b[0;34m\u001b[0m\u001b[0;34m\u001b[0m\u001b[0m\n\u001b[1;32m   1367\u001b[0m     \u001b[0;31m# coordinates become edges in the graph. (convert to int from np.int64)\u001b[0m\u001b[0;34m\u001b[0m\u001b[0;34m\u001b[0m\u001b[0;34m\u001b[0m\u001b[0m\n\u001b[0;32m-> 1368\u001b[0;31m     \u001b[0medges\u001b[0m \u001b[0;34m=\u001b[0m \u001b[0;34m(\u001b[0m\u001b[0;34m(\u001b[0m\u001b[0mint\u001b[0m\u001b[0;34m(\u001b[0m\u001b[0me\u001b[0m\u001b[0;34m[\u001b[0m\u001b[0;36m0\u001b[0m\u001b[0;34m]\u001b[0m\u001b[0;34m)\u001b[0m\u001b[0;34m,\u001b[0m \u001b[0mint\u001b[0m\u001b[0;34m(\u001b[0m\u001b[0me\u001b[0m\u001b[0;34m[\u001b[0m\u001b[0;36m1\u001b[0m\u001b[0;34m]\u001b[0m\u001b[0;34m)\u001b[0m\u001b[0;34m)\u001b[0m \u001b[0;32mfor\u001b[0m \u001b[0me\u001b[0m \u001b[0;32min\u001b[0m \u001b[0mzip\u001b[0m\u001b[0;34m(\u001b[0m\u001b[0;34m*\u001b[0m\u001b[0mA\u001b[0m\u001b[0;34m.\u001b[0m\u001b[0mnonzero\u001b[0m\u001b[0;34m(\u001b[0m\u001b[0;34m)\u001b[0m\u001b[0;34m)\u001b[0m\u001b[0;34m)\u001b[0m\u001b[0;34m\u001b[0m\u001b[0;34m\u001b[0m\u001b[0m\n\u001b[0m\u001b[1;32m   1369\u001b[0m     \u001b[0;31m# handle numpy constructed data type\u001b[0m\u001b[0;34m\u001b[0m\u001b[0;34m\u001b[0m\u001b[0;34m\u001b[0m\u001b[0m\n\u001b[1;32m   1370\u001b[0m     \u001b[0;32mif\u001b[0m \u001b[0mpython_type\u001b[0m \u001b[0;34m==\u001b[0m \u001b[0;34m\"void\"\u001b[0m\u001b[0;34m:\u001b[0m\u001b[0;34m\u001b[0m\u001b[0;34m\u001b[0m\u001b[0m\n",
            "\u001b[0;31mKeyboardInterrupt\u001b[0m: "
          ]
        }
      ]
    },
    {
      "cell_type": "code",
      "source": [
        "VR_HCP_90.plot(diagrams_HCP_90, sample=9)"
      ],
      "metadata": {
        "id": "MxqDr_DyuHSr"
      },
      "execution_count": null,
      "outputs": []
    },
    {
      "cell_type": "code",
      "source": [
        "with open(\"/data.diagrams_HCP_90\", \"wb\") as f:\n",
        "  pickle.dump((diagrams_HCP_90,VR_HCP_90), f, protocol=pickle.HIGHEST_PROTOCOL)"
      ],
      "metadata": {
        "id": "ASEIk_XDucEp"
      },
      "execution_count": null,
      "outputs": []
    },
    {
      "cell_type": "code",
      "source": [
        "with open(\"/data.diagrams_HCP_90\", \"rb\") as f:\n",
        "  (diagrams_HCP_90,VR_HCP_90)=pickle.load(f)\n"
      ],
      "metadata": {
        "id": "NsniV-BTG5FI"
      },
      "execution_count": null,
      "outputs": []
    },
    {
      "cell_type": "code",
      "source": [
        "VR_HCP_90.plot(diagrams_HCP_90,sample=9)"
      ],
      "metadata": {
        "id": "BqN4abo-HCf5"
      },
      "execution_count": null,
      "outputs": []
    },
    {
      "cell_type": "markdown",
      "source": [
        "# New code\n",
        "This are parts we are still working on"
      ],
      "metadata": {
        "id": "jve3GoPXWie2"
      }
    },
    {
      "cell_type": "code",
      "source": [
        ""
      ],
      "metadata": {
        "id": "0bZzLsZpWhwB"
      },
      "execution_count": null,
      "outputs": []
    },
    {
      "cell_type": "code",
      "source": [
        "G=np.loadtxt(\"WAVECO~1.TXT\",skiprows=0,dtype=float,usecols=range(0,90))\n",
        "print((G))"
      ],
      "metadata": {
        "id": "kFgsRSGVvzJW",
        "colab": {
          "base_uri": "https://localhost:8080/"
        },
        "outputId": "5af9d83c-5105-491a-d09e-a3816e67a0c0"
      },
      "execution_count": null,
      "outputs": [
        {
          "output_type": "stream",
          "name": "stdout",
          "text": [
            "[[1.         0.82769115 0.57917623 ... 0.47048196 0.6871404  0.69223374]\n",
            " [0.82769115 1.         0.50612392 ... 0.5312735  0.55749886 0.63544121]\n",
            " [0.57917623 0.50612392 1.         ... 0.61353392 0.70573595 0.55755186]\n",
            " ...\n",
            " [0.47048196 0.5312735  0.61353392 ... 1.         0.57111876 0.60343518]\n",
            " [0.6871404  0.55749886 0.70573595 ... 0.57111876 1.         0.75000928]\n",
            " [0.69223374 0.63544121 0.55755186 ... 0.60343518 0.75000928 1.        ]]\n"
          ]
        }
      ]
    },
    {
      "cell_type": "code",
      "source": [
        "def custom_vietoris_persistance_old (adjacency_matrix,filtration_length,dimensions,plot):\n",
        "  #commenti:  - cambierei il nome della variabile da adjacency a correlation matrix\n",
        "  #           - più che filtration_lenght passerei i costi\n",
        "  #           - con dimensions passerei già la lista delle dimensioni da calcolare, \n",
        "  #             magari con una cosa che conrtolla se è o no una lista se è una lista\n",
        "  #             fa da uno a o altrimenti dai i costi\n",
        "  #           - la funzione deve essere resistente a passare liste di correlation matrices, \n",
        "  #             così sfruttiamo la possibilità di giotto di calcolarne più insieme, \n",
        "  #             probabilmente in quella maniera è ottimizzato\n",
        "  costs=np.linspace(1/44,1,filtration_length)\n",
        "  graph_filtration=generate_graph_sequence(adjacency_matrix,costs)\n",
        "  adjacency_matrix=from_filtration_to_adjacency(graph_filtration)\n",
        "  dim = list(range(1,dimensions+1))\n",
        "  print(dim)\n",
        "  # Instantiate topological transformer\n",
        "  VR = VietorisRipsPersistence(metric=\"precomputed\",homology_dimensions=dim)\n",
        "  adjacency_matrix=[adjacency_matrix]\n",
        "\n",
        "  # Compute persistence diagrams corresponding to each graph in X\n",
        "  diagrams = VR.fit_transform(adjacency_matrix)\n",
        "  if(plot):\n",
        "    VR.plot(diagrams, sample=0)\n",
        "  return diagrams"
      ],
      "metadata": {
        "id": "BVv5FuoUzatl"
      },
      "execution_count": null,
      "outputs": []
    },
    {
      "cell_type": "code",
      "source": [
        "def custom_vietoris_persistance (corr_mats,costs,homology_dimensions,plot):\n",
        "#qiesta è la versione che ho modificato, non riesco a stampare il grafico, cosa sbaglio??\n",
        "#sposterei questo pezzo nella parte dedicata a giotto\n",
        "  '''\n",
        "  input:\n",
        "    corr_mats:  correlation matrices of the graphs we want to compute the diagram\n",
        "    costs:      list of the costs where the filtration is computed\n",
        "    homology_dimensions: list of the dimensions of the homology to compute\n",
        "    plot:       boolean value, if true this function plot the persistence graph \n",
        "  \n",
        "  output:       diagrams, list of persistance diagrams. Each element of the list \n",
        "                is a list of points in the plane with associated dimansion\n",
        "  '''  \n",
        "\n",
        "  if isinstance(homology_dimensions, int):\n",
        "    homology_dimensions=list(range(1,homology_dimensions+1))\n",
        "\n",
        "  if not isinstance(corr_mats,list):\n",
        "    corr_mats=[corr_mats]\n",
        "\n",
        "  #generate filtrations\n",
        "  graph_filtrations = [generate_graph_sequence(g,costs) for g in corr_mats] #sbaglia qualcosa qua dentro! fa soltanto 2 step\n",
        "  #generate adjacency matrices\n",
        "  adjacency_matrices = [from_filtration_to_adjacency(graph_filtration) for graph_filtration in graph_filtrations]\n",
        "  # Instantiate topological transformer\n",
        "  VR = VietorisRipsPersistence(metric=\"precomputed\",homology_dimensions=homology_dimensions)\n",
        "  # Compute persistence diagrams corresponding to each graph in X\n",
        "  diagrams = VR.fit_transform(adjacency_matrices)\n",
        "  print(diagrams)\n",
        "\n",
        "  if (plot):\n",
        "    VR.plot(diagrams, sample=0)\n",
        "  return diagrams"
      ],
      "metadata": {
        "id": "ZSJV6M6lVd0r"
      },
      "execution_count": null,
      "outputs": []
    },
    {
      "cell_type": "markdown",
      "source": [
        "example for testing purposes"
      ],
      "metadata": {
        "id": "_ABG9mPK5t3i"
      }
    },
    {
      "cell_type": "code",
      "source": [
        "diagrams=custom_vietoris_persistance([G,G],[0.1,0.2,0.3,0.4],2,plot=True)"
      ],
      "metadata": {
        "colab": {
          "base_uri": "https://localhost:8080/"
        },
        "id": "cyxfGY2ftqmc",
        "outputId": "13251010-2830-410c-fe97-0f2ae61104c7"
      },
      "execution_count": null,
      "outputs": [
        {
          "output_type": "stream",
          "name": "stdout",
          "text": [
            "[array([[0., 0., 2., ..., 3., 0., 0.],\n",
            "       [0., 0., 3., ..., 2., 2., 1.],\n",
            "       [2., 3., 0., ..., 1., 0., 2.],\n",
            "       ...,\n",
            "       [3., 2., 1., ..., 0., 2., 1.],\n",
            "       [0., 2., 0., ..., 2., 0., 0.],\n",
            "       [0., 1., 2., ..., 1., 0., 0.]]), array([[0., 0., 2., ..., 3., 0., 0.],\n",
            "       [0., 0., 3., ..., 2., 2., 1.],\n",
            "       [2., 3., 0., ..., 1., 0., 2.],\n",
            "       ...,\n",
            "       [3., 2., 1., ..., 0., 2., 1.],\n",
            "       [0., 2., 0., ..., 2., 0., 0.],\n",
            "       [0., 1., 2., ..., 1., 0., 0.]])]\n"
          ]
        }
      ]
    },
    {
      "cell_type": "markdown",
      "source": [
        "(not)working example"
      ],
      "metadata": {
        "id": "MkBDtkyx5z47"
      }
    },
    {
      "cell_type": "code",
      "source": [
        "diagrams=custom_vietoris_persistance(G,[1/44,1],[1,2,3,4],plot=True)\n",
        "#print(G)"
      ],
      "metadata": {
        "colab": {
          "base_uri": "https://localhost:8080/",
          "height": 432
        },
        "id": "Mq_zLqq55yds",
        "outputId": "b80842fd-a302-4fe8-c603-895a8b72fae1"
      },
      "execution_count": null,
      "outputs": [
        {
          "output_type": "stream",
          "name": "stdout",
          "text": [
            "[[[0. 0. 1.]\n",
            "  [0. 0. 2.]\n",
            "  [0. 0. 3.]\n",
            "  [0. 0. 4.]]]\n"
          ]
        },
        {
          "output_type": "error",
          "ename": "ValueError",
          "evalue": "ignored",
          "traceback": [
            "\u001b[0;31m---------------------------------------------------------------------------\u001b[0m",
            "\u001b[0;31mValueError\u001b[0m                                Traceback (most recent call last)",
            "\u001b[0;32m<ipython-input-163-e031a7e2b54b>\u001b[0m in \u001b[0;36m<module>\u001b[0;34m()\u001b[0m\n\u001b[0;32m----> 1\u001b[0;31m \u001b[0mdiagrams\u001b[0m\u001b[0;34m=\u001b[0m\u001b[0mcustom_vietoris_persistance\u001b[0m\u001b[0;34m(\u001b[0m\u001b[0mG\u001b[0m\u001b[0;34m,\u001b[0m\u001b[0;34m[\u001b[0m\u001b[0;36m1\u001b[0m\u001b[0;34m/\u001b[0m\u001b[0;36m44\u001b[0m\u001b[0;34m,\u001b[0m\u001b[0;36m1\u001b[0m\u001b[0;34m]\u001b[0m\u001b[0;34m,\u001b[0m\u001b[0;34m[\u001b[0m\u001b[0;36m1\u001b[0m\u001b[0;34m,\u001b[0m\u001b[0;36m2\u001b[0m\u001b[0;34m,\u001b[0m\u001b[0;36m3\u001b[0m\u001b[0;34m,\u001b[0m\u001b[0;36m4\u001b[0m\u001b[0;34m]\u001b[0m\u001b[0;34m,\u001b[0m\u001b[0mplot\u001b[0m\u001b[0;34m=\u001b[0m\u001b[0;32mTrue\u001b[0m\u001b[0;34m)\u001b[0m\u001b[0;34m\u001b[0m\u001b[0;34m\u001b[0m\u001b[0m\n\u001b[0m\u001b[1;32m      2\u001b[0m \u001b[0;31m#print(G)\u001b[0m\u001b[0;34m\u001b[0m\u001b[0;34m\u001b[0m\u001b[0;34m\u001b[0m\u001b[0m\n",
            "\u001b[0;32m<ipython-input-162-e659c4390152>\u001b[0m in \u001b[0;36mcustom_vietoris_persistance\u001b[0;34m(corr_mats, costs, homology_dimensions, plot)\u001b[0m\n\u001b[1;32m     30\u001b[0m \u001b[0;34m\u001b[0m\u001b[0m\n\u001b[1;32m     31\u001b[0m   \u001b[0;32mif\u001b[0m \u001b[0;34m(\u001b[0m\u001b[0mplot\u001b[0m\u001b[0;34m)\u001b[0m\u001b[0;34m:\u001b[0m\u001b[0;34m\u001b[0m\u001b[0;34m\u001b[0m\u001b[0m\n\u001b[0;32m---> 32\u001b[0;31m     \u001b[0mVR\u001b[0m\u001b[0;34m.\u001b[0m\u001b[0mplot\u001b[0m\u001b[0;34m(\u001b[0m\u001b[0mdiagrams\u001b[0m\u001b[0;34m,\u001b[0m \u001b[0msample\u001b[0m\u001b[0;34m=\u001b[0m\u001b[0;36m0\u001b[0m\u001b[0;34m)\u001b[0m\u001b[0;34m\u001b[0m\u001b[0;34m\u001b[0m\u001b[0m\n\u001b[0m\u001b[1;32m     33\u001b[0m   \u001b[0;32mreturn\u001b[0m \u001b[0mdiagrams\u001b[0m\u001b[0;34m\u001b[0m\u001b[0;34m\u001b[0m\u001b[0m\n",
            "\u001b[0;32m/usr/local/lib/python3.7/dist-packages/gtda/homology/simplicial.py\u001b[0m in \u001b[0;36mplot\u001b[0;34m(Xt, sample, homology_dimensions, plotly_params)\u001b[0m\n\u001b[1;32m    345\u001b[0m         return plot_diagram(\n\u001b[1;32m    346\u001b[0m             \u001b[0mXt\u001b[0m\u001b[0;34m[\u001b[0m\u001b[0msample\u001b[0m\u001b[0;34m]\u001b[0m\u001b[0;34m,\u001b[0m \u001b[0mhomology_dimensions\u001b[0m\u001b[0;34m=\u001b[0m\u001b[0mhomology_dimensions\u001b[0m\u001b[0;34m,\u001b[0m\u001b[0;34m\u001b[0m\u001b[0;34m\u001b[0m\u001b[0m\n\u001b[0;32m--> 347\u001b[0;31m             \u001b[0mplotly_params\u001b[0m\u001b[0;34m=\u001b[0m\u001b[0mplotly_params\u001b[0m\u001b[0;34m\u001b[0m\u001b[0;34m\u001b[0m\u001b[0m\n\u001b[0m\u001b[1;32m    348\u001b[0m             )\n\u001b[1;32m    349\u001b[0m \u001b[0;34m\u001b[0m\u001b[0m\n",
            "\u001b[0;32m/usr/local/lib/python3.7/dist-packages/gtda/plotting/persistence_diagrams.py\u001b[0m in \u001b[0;36mplot_diagram\u001b[0;34m(diagram, homology_dimensions, plotly_params)\u001b[0m\n\u001b[1;32m     41\u001b[0m     \u001b[0mposinfinite_mask\u001b[0m \u001b[0;34m=\u001b[0m \u001b[0mnp\u001b[0m\u001b[0;34m.\u001b[0m\u001b[0misposinf\u001b[0m\u001b[0;34m(\u001b[0m\u001b[0mdiagram_no_dims\u001b[0m\u001b[0;34m)\u001b[0m\u001b[0;34m\u001b[0m\u001b[0;34m\u001b[0m\u001b[0m\n\u001b[1;32m     42\u001b[0m     \u001b[0mneginfinite_mask\u001b[0m \u001b[0;34m=\u001b[0m \u001b[0mnp\u001b[0m\u001b[0;34m.\u001b[0m\u001b[0misneginf\u001b[0m\u001b[0;34m(\u001b[0m\u001b[0mdiagram_no_dims\u001b[0m\u001b[0;34m)\u001b[0m\u001b[0;34m\u001b[0m\u001b[0;34m\u001b[0m\u001b[0m\n\u001b[0;32m---> 43\u001b[0;31m     \u001b[0mmax_val\u001b[0m \u001b[0;34m=\u001b[0m \u001b[0mnp\u001b[0m\u001b[0;34m.\u001b[0m\u001b[0mmax\u001b[0m\u001b[0;34m(\u001b[0m\u001b[0mnp\u001b[0m\u001b[0;34m.\u001b[0m\u001b[0mwhere\u001b[0m\u001b[0;34m(\u001b[0m\u001b[0mposinfinite_mask\u001b[0m\u001b[0;34m,\u001b[0m \u001b[0;34m-\u001b[0m\u001b[0mnp\u001b[0m\u001b[0;34m.\u001b[0m\u001b[0minf\u001b[0m\u001b[0;34m,\u001b[0m \u001b[0mdiagram_no_dims\u001b[0m\u001b[0;34m)\u001b[0m\u001b[0;34m)\u001b[0m\u001b[0;34m\u001b[0m\u001b[0;34m\u001b[0m\u001b[0m\n\u001b[0m\u001b[1;32m     44\u001b[0m     \u001b[0mmin_val\u001b[0m \u001b[0;34m=\u001b[0m \u001b[0mnp\u001b[0m\u001b[0;34m.\u001b[0m\u001b[0mmin\u001b[0m\u001b[0;34m(\u001b[0m\u001b[0mnp\u001b[0m\u001b[0;34m.\u001b[0m\u001b[0mwhere\u001b[0m\u001b[0;34m(\u001b[0m\u001b[0mneginfinite_mask\u001b[0m\u001b[0;34m,\u001b[0m \u001b[0mnp\u001b[0m\u001b[0;34m.\u001b[0m\u001b[0minf\u001b[0m\u001b[0;34m,\u001b[0m \u001b[0mdiagram_no_dims\u001b[0m\u001b[0;34m)\u001b[0m\u001b[0;34m)\u001b[0m\u001b[0;34m\u001b[0m\u001b[0;34m\u001b[0m\u001b[0m\n\u001b[1;32m     45\u001b[0m     \u001b[0mparameter_range\u001b[0m \u001b[0;34m=\u001b[0m \u001b[0mmax_val\u001b[0m \u001b[0;34m-\u001b[0m \u001b[0mmin_val\u001b[0m\u001b[0;34m\u001b[0m\u001b[0;34m\u001b[0m\u001b[0m\n",
            "\u001b[0;32m<__array_function__ internals>\u001b[0m in \u001b[0;36mamax\u001b[0;34m(*args, **kwargs)\u001b[0m\n",
            "\u001b[0;32m/usr/local/lib/python3.7/dist-packages/numpy/core/fromnumeric.py\u001b[0m in \u001b[0;36mamax\u001b[0;34m(a, axis, out, keepdims, initial, where)\u001b[0m\n\u001b[1;32m   2753\u001b[0m     \"\"\"\n\u001b[1;32m   2754\u001b[0m     return _wrapreduction(a, np.maximum, 'max', axis, None, out,\n\u001b[0;32m-> 2755\u001b[0;31m                           keepdims=keepdims, initial=initial, where=where)\n\u001b[0m\u001b[1;32m   2756\u001b[0m \u001b[0;34m\u001b[0m\u001b[0m\n\u001b[1;32m   2757\u001b[0m \u001b[0;34m\u001b[0m\u001b[0m\n",
            "\u001b[0;32m/usr/local/lib/python3.7/dist-packages/numpy/core/fromnumeric.py\u001b[0m in \u001b[0;36m_wrapreduction\u001b[0;34m(obj, ufunc, method, axis, dtype, out, **kwargs)\u001b[0m\n\u001b[1;32m     84\u001b[0m                 \u001b[0;32mreturn\u001b[0m \u001b[0mreduction\u001b[0m\u001b[0;34m(\u001b[0m\u001b[0maxis\u001b[0m\u001b[0;34m=\u001b[0m\u001b[0maxis\u001b[0m\u001b[0;34m,\u001b[0m \u001b[0mout\u001b[0m\u001b[0;34m=\u001b[0m\u001b[0mout\u001b[0m\u001b[0;34m,\u001b[0m \u001b[0;34m**\u001b[0m\u001b[0mpasskwargs\u001b[0m\u001b[0;34m)\u001b[0m\u001b[0;34m\u001b[0m\u001b[0;34m\u001b[0m\u001b[0m\n\u001b[1;32m     85\u001b[0m \u001b[0;34m\u001b[0m\u001b[0m\n\u001b[0;32m---> 86\u001b[0;31m     \u001b[0;32mreturn\u001b[0m \u001b[0mufunc\u001b[0m\u001b[0;34m.\u001b[0m\u001b[0mreduce\u001b[0m\u001b[0;34m(\u001b[0m\u001b[0mobj\u001b[0m\u001b[0;34m,\u001b[0m \u001b[0maxis\u001b[0m\u001b[0;34m,\u001b[0m \u001b[0mdtype\u001b[0m\u001b[0;34m,\u001b[0m \u001b[0mout\u001b[0m\u001b[0;34m,\u001b[0m \u001b[0;34m**\u001b[0m\u001b[0mpasskwargs\u001b[0m\u001b[0;34m)\u001b[0m\u001b[0;34m\u001b[0m\u001b[0;34m\u001b[0m\u001b[0m\n\u001b[0m\u001b[1;32m     87\u001b[0m \u001b[0;34m\u001b[0m\u001b[0m\n\u001b[1;32m     88\u001b[0m \u001b[0;34m\u001b[0m\u001b[0m\n",
            "\u001b[0;31mValueError\u001b[0m: zero-size array to reduction operation maximum which has no identity"
          ]
        }
      ]
    },
    {
      "cell_type": "code",
      "source": [
        "diagrams=custom_vietoris_persistance_old(G,100,4,plot=True)\n",
        "#print(G)"
      ],
      "metadata": {
        "colab": {
          "base_uri": "https://localhost:8080/"
        },
        "id": "9H_tywVSQsz-",
        "outputId": "bd0c7a70-dc33-4e65-f2d8-67c51e392ca7"
      },
      "execution_count": null,
      "outputs": [
        {
          "output_type": "stream",
          "name": "stdout",
          "text": [
            "[[1.         0.82769115 0.57917623 ... 0.47048196 0.6871404  0.69223374]\n",
            " [0.82769115 1.         0.50612392 ... 0.5312735  0.55749886 0.63544121]\n",
            " [0.57917623 0.50612392 1.         ... 0.61353392 0.70573595 0.55755186]\n",
            " ...\n",
            " [0.47048196 0.5312735  0.61353392 ... 1.         0.57111876 0.60343518]\n",
            " [0.6871404  0.55749886 0.70573595 ... 0.57111876 1.         0.75000928]\n",
            " [0.69223374 0.63544121 0.55755186 ... 0.60343518 0.75000928 1.        ]]\n",
            "[1, 2, 3, 4]\n"
          ]
        }
      ]
    },
    {
      "cell_type": "code",
      "source": [
        "betti_number_brain1=betti_numbers(diagrams,100)\n",
        "print(betti_number_brain1)"
      ],
      "metadata": {
        "colab": {
          "base_uri": "https://localhost:8080/"
        },
        "id": "8JEyAVTjt5ac",
        "outputId": "ac501d4d-8d25-487f-fb16-8ce8a5fe33d2"
      },
      "execution_count": null,
      "outputs": [
        {
          "output_type": "stream",
          "name": "stdout",
          "text": [
            "[array([[0., 0., 0., 0.],\n",
            "       [2., 0., 0., 0.],\n",
            "       [4., 0., 0., 0.],\n",
            "       [8., 0., 0., 0.],\n",
            "       [7., 0., 0., 0.],\n",
            "       [8., 0., 0., 0.],\n",
            "       [5., 0., 0., 0.],\n",
            "       [4., 1., 0., 0.],\n",
            "       [3., 0., 0., 0.],\n",
            "       [3., 0., 0., 0.],\n",
            "       [3., 0., 0., 0.],\n",
            "       [2., 0., 0., 0.],\n",
            "       [2., 1., 0., 0.],\n",
            "       [2., 1., 0., 0.],\n",
            "       [2., 1., 0., 0.],\n",
            "       [2., 1., 0., 0.],\n",
            "       [2., 1., 0., 0.],\n",
            "       [2., 1., 0., 0.],\n",
            "       [1., 0., 0., 0.],\n",
            "       [0., 1., 0., 0.],\n",
            "       [0., 1., 0., 0.],\n",
            "       [0., 0., 0., 0.],\n",
            "       [0., 0., 0., 0.],\n",
            "       [1., 0., 0., 0.],\n",
            "       [0., 0., 0., 0.],\n",
            "       [0., 0., 0., 0.],\n",
            "       [1., 0., 0., 0.],\n",
            "       [2., 0., 0., 0.],\n",
            "       [2., 0., 0., 0.],\n",
            "       [2., 0., 0., 0.],\n",
            "       [2., 0., 0., 0.],\n",
            "       [2., 0., 0., 0.],\n",
            "       [1., 0., 0., 0.],\n",
            "       [1., 0., 0., 0.],\n",
            "       [1., 0., 0., 0.],\n",
            "       [1., 0., 0., 0.],\n",
            "       [1., 0., 0., 0.],\n",
            "       [1., 0., 0., 0.],\n",
            "       [0., 0., 0., 0.],\n",
            "       [0., 0., 0., 0.],\n",
            "       [0., 0., 0., 0.],\n",
            "       [0., 0., 0., 0.],\n",
            "       [0., 0., 0., 0.],\n",
            "       [0., 0., 0., 0.],\n",
            "       [0., 0., 0., 0.],\n",
            "       [0., 0., 0., 0.],\n",
            "       [0., 0., 0., 0.],\n",
            "       [0., 0., 0., 0.],\n",
            "       [0., 0., 0., 0.],\n",
            "       [0., 0., 0., 0.],\n",
            "       [0., 0., 0., 0.],\n",
            "       [0., 0., 0., 0.],\n",
            "       [0., 0., 0., 0.],\n",
            "       [0., 0., 0., 0.],\n",
            "       [0., 0., 0., 0.],\n",
            "       [0., 0., 0., 0.],\n",
            "       [0., 0., 0., 0.],\n",
            "       [0., 0., 0., 0.],\n",
            "       [0., 0., 0., 0.],\n",
            "       [0., 0., 0., 0.],\n",
            "       [0., 0., 0., 0.],\n",
            "       [0., 0., 0., 0.],\n",
            "       [0., 0., 0., 0.],\n",
            "       [0., 0., 0., 0.],\n",
            "       [0., 0., 0., 0.],\n",
            "       [0., 0., 0., 0.],\n",
            "       [0., 0., 0., 0.],\n",
            "       [0., 0., 0., 0.],\n",
            "       [0., 0., 0., 0.],\n",
            "       [0., 1., 0., 0.],\n",
            "       [0., 0., 0., 0.],\n",
            "       [0., 0., 0., 0.],\n",
            "       [0., 0., 0., 0.],\n",
            "       [0., 0., 0., 0.],\n",
            "       [0., 0., 0., 0.],\n",
            "       [0., 0., 0., 0.],\n",
            "       [0., 0., 0., 0.],\n",
            "       [0., 0., 0., 0.],\n",
            "       [0., 0., 0., 0.],\n",
            "       [0., 0., 0., 0.],\n",
            "       [0., 0., 0., 0.],\n",
            "       [0., 0., 0., 0.],\n",
            "       [0., 0., 0., 0.],\n",
            "       [0., 0., 0., 0.],\n",
            "       [0., 0., 0., 0.],\n",
            "       [0., 0., 0., 0.],\n",
            "       [0., 0., 0., 0.],\n",
            "       [0., 0., 0., 0.],\n",
            "       [0., 0., 0., 0.],\n",
            "       [0., 0., 0., 0.],\n",
            "       [0., 0., 0., 0.],\n",
            "       [0., 0., 0., 0.],\n",
            "       [0., 0., 0., 0.],\n",
            "       [0., 0., 0., 0.],\n",
            "       [0., 0., 0., 0.],\n",
            "       [0., 0., 0., 0.],\n",
            "       [0., 0., 0., 0.],\n",
            "       [0., 0., 0., 0.],\n",
            "       [0., 0., 0., 0.],\n",
            "       [0., 0., 0., 0.]])]\n"
          ]
        }
      ]
    },
    {
      "cell_type": "code",
      "execution_count": null,
      "metadata": {
        "colab": {
          "base_uri": "https://localhost:8080/",
          "height": 334
        },
        "outputId": "3c2ef9b4-8d40-402c-d0cf-f768abe18a76",
        "id": "6b9qDyK1zbKe"
      },
      "outputs": [
        {
          "output_type": "execute_result",
          "data": {
            "text/plain": [
              "[<matplotlib.lines.Line2D at 0x7f76163bd310>,\n",
              " <matplotlib.lines.Line2D at 0x7f761638f610>,\n",
              " <matplotlib.lines.Line2D at 0x7f761638f7d0>,\n",
              " <matplotlib.lines.Line2D at 0x7f761638f990>]"
            ]
          },
          "metadata": {},
          "execution_count": 72
        },
        {
          "output_type": "display_data",
          "data": {
            "text/plain": [
              "<Figure size 432x288 with 1 Axes>"
            ],
            "image/png": "[encoded data removed]"
          },
          "metadata": {
            "needs_background": "light"
          }
        }
      ],
      "source": [
        "#calcola i betti numbers con moltiplicità dato il diagramma)\n",
        "plt.plot(range(100),betti_number_brain1[0])\n",
        "#plt.plot(range(filtration_length),betti_number_erdos_renyi)\n",
        "#plt.plot(range(filtration_length),y)\n",
        "#plt.plot(range(filtration_length),erdos)\n",
        "#y=[euler_entropy_cliques(graph) for graph in graph_filtration]\n",
        "#plt.plot(range(filtration_length),entropy)\n",
        "#betti_number\n",
        "#entropy"
      ]
    }
  ],
  "metadata": {
    "accelerator": "GPU",
    "colab": {
      "collapsed_sections": [
        "qNTrrqNNdGR1",
        "GPdU8-o7dKC6",
        "i2FJAtHaVhrL",
        "6yKyM0Gh374P",
        "D1CxD2zeJYna",
        "KKJJoCiPPNDd",
        "Bn7g2uW0PbS9",
        "K031Py2RZp0R",
        "asYgdyew9JdO",
        "XpuAUnk5EaRe",
        "Dpbk4Fg4lTn9",
        "lnObBNJLljvJ",
        "hPfv2ls5hO8k"
      ],
      "name": "BrainNet.ipynb",
      "provenance": [],
      "include_colab_link": true
    },
    "kernelspec": {
      "display_name": "Python 3",
      "name": "python3"
    },
    "language_info": {
      "name": "python"
    }
  },
  "nbformat": 4,
  "nbformat_minor": 0
}